{
 "cells": [
  {
   "cell_type": "markdown",
   "id": "62d188a5",
   "metadata": {},
   "source": [
    "## Ejercicio 1"
   ]
  },
  {
   "cell_type": "markdown",
   "id": "5233035c",
   "metadata": {},
   "source": []
  },
  {
   "cell_type": "markdown",
   "id": "f2cbab10",
   "metadata": {},
   "source": [
    "## Ejercicio 2"
   ]
  },
  {
   "cell_type": "markdown",
   "id": "b70c381c",
   "metadata": {},
   "source": [
    "El objetivo de este ejercicio es ilustrar c´omo el trade-off entre sesgo y varianza evoluciona con la\n",
    "creciente complejidad de los modelos polin´omicos. Para este prop´osito, utilice el conjunto de datos\n",
    "Portafolio. Considere los siguientes pasos:\n",
    "\n",
    "a) Division del conjunto de datos: Separe los datos en un conjunto de entrenamiento y otro\n",
    "de prueba, asignando el 20% de los datos al conjunto de prueba"
   ]
  },
  {
   "cell_type": "code",
   "execution_count": 13,
   "id": "a3c37179",
   "metadata": {},
   "outputs": [],
   "source": [
    "# pip install mlxtend  "
   ]
  },
  {
   "cell_type": "code",
   "execution_count": 57,
   "id": "f555ac8d",
   "metadata": {},
   "outputs": [],
   "source": [
    "import pandas as pd\n",
    "from sklearn.model_selection import train_test_split\n",
    "import numpy as np\n",
    "from sklearn.preprocessing import PolynomialFeatures\n",
    "from sklearn.linear_model import LinearRegression\n",
    "from sklearn.metrics import mean_squared_error\n",
    "from mlxtend.evaluate import bias_variance_decomp\n",
    "from sklearn.model_selection import train_test_split\n",
    "from sklearn.preprocessing import PolynomialFeatures\n",
    "from sklearn.linear_model import LinearRegression\n",
    "from sklearn.metrics import mean_squared_error\n",
    "import matplotlib.pyplot as plt\n"
   ]
  },
  {
   "cell_type": "code",
   "execution_count": 45,
   "id": "a15767fb",
   "metadata": {},
   "outputs": [
    {
     "name": "stdout",
     "output_type": "stream",
     "text": [
      "   Unnamed: 0         X         Y\n",
      "0           0 -0.895251 -0.234924\n",
      "1           1 -1.562454 -0.885176\n",
      "2           2 -0.417090  0.271888\n",
      "3           3  1.044356 -0.734198\n",
      "4           4 -0.315568  0.841983\n"
     ]
    }
   ],
   "source": [
    "# Get data \n",
    "url = \"https://raw.githubusercontent.com/qlabpucp/datasets/main/datasets/portafolio.csv\"\n",
    "df = pd.read_csv(url)\n",
    "print(df.head())"
   ]
  },
  {
   "cell_type": "code",
   "execution_count": 52,
   "id": "48e6ccde",
   "metadata": {},
   "outputs": [
    {
     "name": "stdout",
     "output_type": "stream",
     "text": [
      "Tamaño del conjunto de entrenamiento: 80\n",
      "Tamaño del conjunto de prueba: 20\n"
     ]
    }
   ],
   "source": [
    "# a) Division de conjunto de datos\n",
    "\n",
    "# Separar las características (X) y la variable objetivo (y)\n",
    "X = df.drop(columns=['Y']).values\n",
    "y = df['Y'].values\n",
    "\n",
    "# Dividir los datos en conjuntos de entrenamiento y prueba\n",
    "X_train, X_test, y_train, y_test = train_test_split(X, y, test_size=0.2, random_state=42)\n",
    "\n",
    "# Mostrar las dimensiones de los conjuntos de entrenamiento y prueba\n",
    "print(\"Tamaño del conjunto de entrenamiento:\", X_train.shape[0])\n",
    "print(\"Tamaño del conjunto de prueba:\", X_test.shape[0])"
   ]
  },
  {
   "cell_type": "code",
   "execution_count": 32,
   "id": "343e13de",
   "metadata": {},
   "outputs": [
    {
     "ename": "AttributeError",
     "evalue": "'numpy.float64' object has no attribute 'append'",
     "output_type": "error",
     "traceback": [
      "\u001b[1;31m---------------------------------------------------------------------------\u001b[0m",
      "\u001b[1;31mAttributeError\u001b[0m                            Traceback (most recent call last)",
      "\u001b[1;32m~\\AppData\\Local\\Temp\\ipykernel_24508\\3504604910.py\u001b[0m in \u001b[0;36m<module>\u001b[1;34m\u001b[0m\n\u001b[0;32m     17\u001b[0m \u001b[1;33m\u001b[0m\u001b[0m\n\u001b[0;32m     18\u001b[0m     \u001b[1;31m# Calcular el error cuadrático medio en los conjuntos de entrenamiento y prueba\u001b[0m\u001b[1;33m\u001b[0m\u001b[1;33m\u001b[0m\u001b[0m\n\u001b[1;32m---> 19\u001b[1;33m     \u001b[0mmse_train\u001b[0m\u001b[1;33m.\u001b[0m\u001b[0mappend\u001b[0m\u001b[1;33m(\u001b[0m\u001b[0mmean_squared_error\u001b[0m\u001b[1;33m(\u001b[0m\u001b[0my_train\u001b[0m\u001b[1;33m,\u001b[0m \u001b[0mmodel\u001b[0m\u001b[1;33m.\u001b[0m\u001b[0mpredict\u001b[0m\u001b[1;33m(\u001b[0m\u001b[0mX_train_poly\u001b[0m\u001b[1;33m)\u001b[0m\u001b[1;33m)\u001b[0m\u001b[1;33m)\u001b[0m\u001b[1;33m\u001b[0m\u001b[1;33m\u001b[0m\u001b[0m\n\u001b[0m\u001b[0;32m     20\u001b[0m     \u001b[0mmse_test\u001b[0m\u001b[1;33m.\u001b[0m\u001b[0mappend\u001b[0m\u001b[1;33m(\u001b[0m\u001b[0mmean_squared_error\u001b[0m\u001b[1;33m(\u001b[0m\u001b[0my_test\u001b[0m\u001b[1;33m,\u001b[0m \u001b[0mmodel\u001b[0m\u001b[1;33m.\u001b[0m\u001b[0mpredict\u001b[0m\u001b[1;33m(\u001b[0m\u001b[0mX_test_poly\u001b[0m\u001b[1;33m)\u001b[0m\u001b[1;33m)\u001b[0m\u001b[1;33m)\u001b[0m\u001b[1;33m\u001b[0m\u001b[1;33m\u001b[0m\u001b[0m\n\u001b[0;32m     21\u001b[0m \u001b[1;33m\u001b[0m\u001b[0m\n",
      "\u001b[1;31mAttributeError\u001b[0m: 'numpy.float64' object has no attribute 'append'"
     ]
    }
   ],
   "source": [
    "# b) Ajuste de modelos polinomicy \n",
    "\n",
    "# Crear una lista para almacenar los errores cuadráticos medios de los modelos\n",
    "mse_train = []\n",
    "mse_test = []\n",
    "\n",
    "# Bucle sobre los grados del polinomio\n",
    "for degree in range(1, 9):\n",
    "    \n",
    "    poly = PolynomialFeatures(degree=degree)\n",
    "    X_train_poly = poly.fit_transform(X_train)\n",
    "    X_test_poly = poly.transform(X_test)\n",
    "    \n",
    "    # Crear y ajustar un modelo de regresión lineal\n",
    "    model = LinearRegression()\n",
    "    model.fit(X_train_poly, y_train)\n",
    "    \n",
    "    # Calcular el error cuadrático medio en los conjuntos de entrenamiento y prueba\n",
    "    mse_train.append(mean_squared_error(y_train, model.predict(X_train_poly)))\n",
    "    mse_test.append(mean_squared_error(y_test, model.predict(X_test_poly)))\n",
    "    \n",
    "    # c) Descomposicion sesgo-varianza\n",
    "    bias_train, variance_train, mse_train = bias_variance_decomp(model, X_train_poly, y_train, X_test_poly, y_test, loss='mse')\n",
    "    bias_test, variance_test, mse_test = bias_variance_decomp(model, X_train_poly, y_train, X_test_poly, y_test, loss='mse')\n",
    "    \n",
    "    bias_variance_train.append((bias_train, variance_train))\n",
    "    bias_variance_test.append((bias_test, variance_test))\n",
    "\n",
    "# Mostrar los errores cuadráticos medios para cada grado del polinomio\n",
    "for degree, mse_tr, mse_te in zip(range(1, 9), mse_train, mse_test):\n",
    "    print(f\"Grado {degree}: MSE entrenamiento = {mse_tr:.2f}, MSE prueba = {mse_te:.2f}\")\n",
    "    \n",
    "for degree, (bias_tr, var_tr), (bias_te, var_te) in zip(range(1, 9), bias_variance_train, bias_variance_test):\n",
    "    print(f\"Grado {degree}: Sesgo (entrenamiento) = {bias_tr:.2f}, Varianza (entrenamiento) = {var_tr:.2f}\")\n",
    "    print(f\"           Sesgo (prueba) = {bias_te:.2f}, Varianza (prueba) = {var_te:.2f}\")"
   ]
  },
  {
   "cell_type": "code",
   "execution_count": 47,
   "id": "129f5d4a",
   "metadata": {},
   "outputs": [],
   "source": [
    "# Diccionario para almacenar los modelos entrenados\n",
    "modelos = {}\n",
    "\n",
    "# Iterar sobre los grados y ajustar los modelos polinomiales\n",
    "grados = range(1, 9)  # Grados del 1 al 8\n",
    "for grado in grados:\n",
    "    # Crear características polinomiales\n",
    "    poly_features = PolynomialFeatures(degree=grado)\n",
    "    X_poly_train = poly_features.fit_transform(X_train)\n",
    "    X_poly_test = poly_features.transform(X_test)  # No uses fit_transform aquí, solo transform\n",
    "    \n",
    "    # Entrenar el modelo de regresión lineal\n",
    "    model = LinearRegression()\n",
    "    model.fit(X_poly_train, y_train)\n",
    "    \n",
    "    # Almacenar el modelo entrenado en el diccionario\n",
    "    modelos[grado] = {'modelo': model, 'poly_features': poly_features}"
   ]
  },
  {
   "cell_type": "code",
   "execution_count": 48,
   "id": "1626de75",
   "metadata": {},
   "outputs": [
    {
     "ename": "TypeError",
     "evalue": "'builtin_function_or_method' object does not support item assignment",
     "output_type": "error",
     "traceback": [
      "\u001b[1;31m---------------------------------------------------------------------------\u001b[0m",
      "\u001b[1;31mTypeError\u001b[0m                                 Traceback (most recent call last)",
      "\u001b[1;32m~\\AppData\\Local\\Temp\\ipykernel_24508\\3759609420.py\u001b[0m in \u001b[0;36m<module>\u001b[1;34m\u001b[0m\n\u001b[0;32m      8\u001b[0m \u001b[1;33m\u001b[0m\u001b[0m\n\u001b[0;32m      9\u001b[0m     \u001b[1;31m# Agregar las predicciones al DataFrame de entrenamiento\u001b[0m\u001b[1;33m\u001b[0m\u001b[1;33m\u001b[0m\u001b[0m\n\u001b[1;32m---> 10\u001b[1;33m     \u001b[0mtraining_sample_add\u001b[0m\u001b[1;33m[\u001b[0m\u001b[1;34mf'polynomial_predict_{grado}'\u001b[0m\u001b[1;33m]\u001b[0m \u001b[1;33m=\u001b[0m \u001b[0mpredictions\u001b[0m\u001b[1;33m\u001b[0m\u001b[1;33m\u001b[0m\u001b[0m\n\u001b[0m",
      "\u001b[1;31mTypeError\u001b[0m: 'builtin_function_or_method' object does not support item assignment"
     ]
    }
   ],
   "source": [
    "for grado in grados:\n",
    "    modelo_actual = modelos[grado]['modelo']\n",
    "    poly_features_actual = modelos[grado]['poly_features']\n",
    "    \n",
    "    # Realizar predicciones en los datos de entrenamiento\n",
    "    X_poly_train_actual = poly_features_actual.transform(X_train)\n",
    "    predictions = modelo_actual.predict(X_poly_train_actual)\n",
    "    \n",
    "    # Agregar las predicciones al DataFrame de entrenamiento\n",
    "    training_sample_add[f'polynomial_predict_{grado}'] = predictions"
   ]
  },
  {
   "cell_type": "code",
   "execution_count": 58,
   "id": "00752f02",
   "metadata": {},
   "outputs": [
    {
     "data": {
      "image/png": "[encoded data removed]",
      "text/plain": [
       "<Figure size 720x432 with 1 Axes>"
      ]
     },
     "metadata": {
      "needs_background": "light"
     },
     "output_type": "display_data"
    }
   ],
   "source": [
    "# b) Ajuste de modelos polinómicos\n",
    "degrees = range(1, 9)\n",
    "train_errors = []\n",
    "test_errors = []\n",
    "train_bias = []\n",
    "test_bias = []\n",
    "train_variance = []\n",
    "test_variance = []\n",
    "\n",
    "for degree in degrees:\n",
    "    # Ajustar el modelo polinómico\n",
    "    polynomial_features = PolynomialFeatures(degree=degree)\n",
    "    X_poly_train = polynomial_features.fit_transform(X_train)\n",
    "    X_poly_test = polynomial_features.transform(X_test)\n",
    "    model = LinearRegression()\n",
    "    model.fit(X_poly_train, y_train)\n",
    "    \n",
    "    # Calcular errores cuadráticos medios\n",
    "    y_train_pred = model.predict(X_poly_train)\n",
    "    y_test_pred = model.predict(X_poly_test)\n",
    "    train_error = mean_squared_error(y_train, y_train_pred)\n",
    "    test_error = mean_squared_error(y_test, y_test_pred)\n",
    "    train_errors.append(train_error)\n",
    "    test_errors.append(test_error)\n",
    "    \n",
    "    # Calcular sesgo y varianza\n",
    "    bias_train, variance_train, mse_train = bias_variance_decomp(model, X_train_poly, y_train, X_test_poly, y_test, loss='mse')\n",
    "    bias_test, variance_test, mse_test = bias_variance_decomp(model, X_train_poly, y_train, X_test_poly, y_test, loss='mse')\n",
    "    train_bias.append(bias_train)\n",
    "    test_bias.append(bias_test)\n",
    "    train_variance.append(variance_train)\n",
    "    test_variance.append(variance_test)\n",
    "\n",
    "# c) Descomposición sesgo-varianza\n",
    "# Ya se ha realizado dentro del bucle en el paso b)\n",
    "\n",
    "# d) Visualización\n",
    "plt.figure(figsize=(10, 6))\n",
    "plt.plot(degrees, train_errors, label='Training Error', marker='o')\n",
    "plt.plot(degrees, test_errors, label='Test Error', marker='o')\n",
    "plt.plot(degrees, train_bias, label='Training Bias^2', marker='o')\n",
    "plt.plot(degrees, test_bias, label='Test Bias^2', marker='o')\n",
    "plt.plot(degrees, train_variance, label='Training Variance', marker='o')\n",
    "plt.plot(degrees, test_variance, label='Test Variance', marker='o')\n",
    "plt.title('Bias-Variance Tradeoff')\n",
    "plt.xlabel('Polynomial Degree')\n",
    "plt.ylabel('Error')\n",
    "plt.legend()\n",
    "plt.grid(True)\n",
    "plt.show()"
   ]
  },
  {
   "cell_type": "markdown",
   "id": "958d38f9",
   "metadata": {},
   "source": [
    "## Ejercicio 3"
   ]
  },
  {
   "cell_type": "code",
   "execution_count": null,
   "id": "dc296d9c",
   "metadata": {},
   "outputs": [],
   "source": []
  },
  {
   "cell_type": "markdown",
   "id": "ce3a2f19",
   "metadata": {},
   "source": [
    "## Ejercicio 4"
   ]
  },
  {
   "cell_type": "code",
   "execution_count": null,
   "id": "542f9d6c",
   "metadata": {},
   "outputs": [],
   "source": []
  }
 ],
 "metadata": {
  "kernelspec": {
   "display_name": "Python 3 (ipykernel)",
   "language": "python",
   "name": "python3"
  },
  "language_info": {
   "codemirror_mode": {
    "name": "ipython",
    "version": 3
   },
   "file_extension": ".py",
   "mimetype": "text/x-python",
   "name": "python",
   "nbconvert_exporter": "python",
   "pygments_lexer": "ipython3",
   "version": "3.9.18"
  }
 },
 "nbformat": 4,
 "nbformat_minor": 5
}
