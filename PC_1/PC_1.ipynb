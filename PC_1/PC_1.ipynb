{
 "cells": [
  {
   "cell_type": "markdown",
   "id": "62d188a5",
   "metadata": {},
   "source": [
    "## Ejercicio 1"
   ]
  },
  {
   "cell_type": "markdown",
   "id": "5233035c",
   "metadata": {},
   "source": []
  },
  {
   "cell_type": "code",
   "execution_count": 21,
   "id": "bdf8fd3a",
   "metadata": {},
   "outputs": [
    {
     "name": "stdout",
     "output_type": "stream",
     "text": [
      "Defaulting to user installation because normal site-packages is not writeable\n",
      "Requirement already satisfied: scikit-learn in c:\\users\\auri\\appdata\\roaming\\python\\python311\\site-packages (1.4.2)\n",
      "Requirement already satisfied: numpy>=1.19.5 in c:\\programdata\\anaconda3\\lib\\site-packages (from scikit-learn) (1.24.3)\n",
      "Requirement already satisfied: scipy>=1.6.0 in c:\\programdata\\anaconda3\\lib\\site-packages (from scikit-learn) (1.11.1)\n",
      "Requirement already satisfied: joblib>=1.2.0 in c:\\programdata\\anaconda3\\lib\\site-packages (from scikit-learn) (1.2.0)\n",
      "Requirement already satisfied: threadpoolctl>=2.0.0 in c:\\programdata\\anaconda3\\lib\\site-packages (from scikit-learn) (2.2.0)\n"
     ]
    }
   ],
   "source": [
    "!pip install -U scikit-learn\n",
    "\n",
    "# Manipulating matrixes and DataFrames\n",
    "import numpy as np\n",
    "import pandas as pd\n",
    "\n",
    "# Pre-build models\n",
    "from sklearn.linear_model import LinearRegression\n",
    "from sklearn.preprocessing import scale"
   ]
  },
  {
   "cell_type": "code",
   "execution_count": 22,
   "id": "c2f8fc8a",
   "metadata": {},
   "outputs": [],
   "source": [
    "# Load the Boston csv dataset\n",
    "boston = pd.read_csv('https://raw.githubusercontent.com/qlabpucp/datasets/main/datasets/boston.csv')"
   ]
  },
  {
   "cell_type": "code",
   "execution_count": 23,
   "id": "2be26e65",
   "metadata": {},
   "outputs": [
    {
     "data": {
      "text/plain": [
       "Index(['Unnamed: 0', 'crim', 'zn', 'indus', 'chas', 'nox', 'rm', 'age', 'dis',\n",
       "       'rad', 'tax', 'ptratio', 'lstat', 'medv'],\n",
       "      dtype='object')"
      ]
     },
     "execution_count": 23,
     "metadata": {},
     "output_type": "execute_result"
    }
   ],
   "source": [
    "# Mostrar las columnas de la base de datos\n",
    "boston.columns"
   ]
  },
  {
   "cell_type": "code",
   "execution_count": 24,
   "id": "f83776d6",
   "metadata": {},
   "outputs": [],
   "source": [
    "# Drop string columns\n",
    "boston = boston.drop(columns=['Unnamed: 0', 'nox', 'rm', 'medv'])"
   ]
  },
  {
   "cell_type": "code",
   "execution_count": 25,
   "id": "bac67437",
   "metadata": {},
   "outputs": [],
   "source": [
    "# Dop missing values\n",
    "boston = boston.dropna()"
   ]
  },
  {
   "cell_type": "code",
   "execution_count": 26,
   "id": "17004a1d",
   "metadata": {},
   "outputs": [],
   "source": [
    "# Splitting into input and target variables\n",
    "x = boston.drop('crim', axis=1)\n",
    "y = boston['crim']"
   ]
  },
  {
   "cell_type": "code",
   "execution_count": 28,
   "id": "816fb8c2",
   "metadata": {},
   "outputs": [
    {
     "data": {
      "text/plain": [
       "Index(['zn', 'indus', 'chas', 'age', 'dis', 'rad', 'tax', 'ptratio', 'lstat'], dtype='object')"
      ]
     },
     "execution_count": 28,
     "metadata": {},
     "output_type": "execute_result"
    }
   ],
   "source": [
    "# Scaling data\n",
    "x_scaled = scale(x)\n",
    "y_scaled = scale(y)\n",
    "x.columns"
   ]
  },
  {
   "cell_type": "code",
   "execution_count": 29,
   "id": "4ba725b4",
   "metadata": {},
   "outputs": [
    {
     "data": {
      "text/html": [
       "<style>#sk-container-id-2 {color: black;}#sk-container-id-2 pre{padding: 0;}#sk-container-id-2 div.sk-toggleable {background-color: white;}#sk-container-id-2 label.sk-toggleable__label {cursor: pointer;display: block;width: 100%;margin-bottom: 0;padding: 0.3em;box-sizing: border-box;text-align: center;}#sk-container-id-2 label.sk-toggleable__label-arrow:before {content: \"▸\";float: left;margin-right: 0.25em;color: #696969;}#sk-container-id-2 label.sk-toggleable__label-arrow:hover:before {color: black;}#sk-container-id-2 div.sk-estimator:hover label.sk-toggleable__label-arrow:before {color: black;}#sk-container-id-2 div.sk-toggleable__content {max-height: 0;max-width: 0;overflow: hidden;text-align: left;background-color: #f0f8ff;}#sk-container-id-2 div.sk-toggleable__content pre {margin: 0.2em;color: black;border-radius: 0.25em;background-color: #f0f8ff;}#sk-container-id-2 input.sk-toggleable__control:checked~div.sk-toggleable__content {max-height: 200px;max-width: 100%;overflow: auto;}#sk-container-id-2 input.sk-toggleable__control:checked~label.sk-toggleable__label-arrow:before {content: \"▾\";}#sk-container-id-2 div.sk-estimator input.sk-toggleable__control:checked~label.sk-toggleable__label {background-color: #d4ebff;}#sk-container-id-2 div.sk-label input.sk-toggleable__control:checked~label.sk-toggleable__label {background-color: #d4ebff;}#sk-container-id-2 input.sk-hidden--visually {border: 0;clip: rect(1px 1px 1px 1px);clip: rect(1px, 1px, 1px, 1px);height: 1px;margin: -1px;overflow: hidden;padding: 0;position: absolute;width: 1px;}#sk-container-id-2 div.sk-estimator {font-family: monospace;background-color: #f0f8ff;border: 1px dotted black;border-radius: 0.25em;box-sizing: border-box;margin-bottom: 0.5em;}#sk-container-id-2 div.sk-estimator:hover {background-color: #d4ebff;}#sk-container-id-2 div.sk-parallel-item::after {content: \"\";width: 100%;border-bottom: 1px solid gray;flex-grow: 1;}#sk-container-id-2 div.sk-label:hover label.sk-toggleable__label {background-color: #d4ebff;}#sk-container-id-2 div.sk-serial::before {content: \"\";position: absolute;border-left: 1px solid gray;box-sizing: border-box;top: 0;bottom: 0;left: 50%;z-index: 0;}#sk-container-id-2 div.sk-serial {display: flex;flex-direction: column;align-items: center;background-color: white;padding-right: 0.2em;padding-left: 0.2em;position: relative;}#sk-container-id-2 div.sk-item {position: relative;z-index: 1;}#sk-container-id-2 div.sk-parallel {display: flex;align-items: stretch;justify-content: center;background-color: white;position: relative;}#sk-container-id-2 div.sk-item::before, #sk-container-id-2 div.sk-parallel-item::before {content: \"\";position: absolute;border-left: 1px solid gray;box-sizing: border-box;top: 0;bottom: 0;left: 50%;z-index: -1;}#sk-container-id-2 div.sk-parallel-item {display: flex;flex-direction: column;z-index: 1;position: relative;background-color: white;}#sk-container-id-2 div.sk-parallel-item:first-child::after {align-self: flex-end;width: 50%;}#sk-container-id-2 div.sk-parallel-item:last-child::after {align-self: flex-start;width: 50%;}#sk-container-id-2 div.sk-parallel-item:only-child::after {width: 0;}#sk-container-id-2 div.sk-dashed-wrapped {border: 1px dashed gray;margin: 0 0.4em 0.5em 0.4em;box-sizing: border-box;padding-bottom: 0.4em;background-color: white;}#sk-container-id-2 div.sk-label label {font-family: monospace;font-weight: bold;display: inline-block;line-height: 1.2em;}#sk-container-id-2 div.sk-label-container {text-align: center;}#sk-container-id-2 div.sk-container {/* jupyter's `normalize.less` sets `[hidden] { display: none; }` but bootstrap.min.css set `[hidden] { display: none !important; }` so we also need the `!important` here to be able to override the default hidden behavior on the sphinx rendered scikit-learn.org. See: https://github.com/scikit-learn/scikit-learn/issues/21755 */display: inline-block !important;position: relative;}#sk-container-id-2 div.sk-text-repr-fallback {display: none;}</style><div id=\"sk-container-id-2\" class=\"sk-top-container\"><div class=\"sk-text-repr-fallback\"><pre>LinearRegression(fit_intercept=False)</pre><b>In a Jupyter environment, please rerun this cell to show the HTML representation or trust the notebook. <br />On GitHub, the HTML representation is unable to render, please try loading this page with nbviewer.org.</b></div><div class=\"sk-container\" hidden><div class=\"sk-item\"><div class=\"sk-estimator sk-toggleable\"><input class=\"sk-toggleable__control sk-hidden--visually\" id=\"sk-estimator-id-2\" type=\"checkbox\" checked><label for=\"sk-estimator-id-2\" class=\"sk-toggleable__label sk-toggleable__label-arrow\">LinearRegression</label><div class=\"sk-toggleable__content\"><pre>LinearRegression(fit_intercept=False)</pre></div></div></div></div></div>"
      ],
      "text/plain": [
       "LinearRegression(fit_intercept=False)"
      ]
     },
     "execution_count": 29,
     "metadata": {},
     "output_type": "execute_result"
    }
   ],
   "source": [
    "#Fit a Linear Regression Model\n",
    "model = LinearRegression(fit_intercept=False)\n",
    "model.fit(x_scaled, y_scaled)"
   ]
  },
  {
   "cell_type": "code",
   "execution_count": 30,
   "id": "17be5c5c",
   "metadata": {},
   "outputs": [
    {
     "name": "stdout",
     "output_type": "stream",
     "text": [
      "[ 0.09919024 -0.06938533 -0.0454977  -0.02567396 -0.14933125  0.55353601\n",
      " -0.02705505 -0.00671135  0.22400326]\n"
     ]
    }
   ],
   "source": [
    "# Estimate coefficients\n",
    "# Using the models attribute\n",
    "print(model.coef_)\n"
   ]
  },
  {
   "cell_type": "code",
   "execution_count": 31,
   "id": "345f0fc0",
   "metadata": {},
   "outputs": [
    {
     "data": {
      "text/html": [
       "<div>\n",
       "<style scoped>\n",
       "    .dataframe tbody tr th:only-of-type {\n",
       "        vertical-align: middle;\n",
       "    }\n",
       "\n",
       "    .dataframe tbody tr th {\n",
       "        vertical-align: top;\n",
       "    }\n",
       "\n",
       "    .dataframe thead th {\n",
       "        text-align: right;\n",
       "    }\n",
       "</style>\n",
       "<table border=\"1\" class=\"dataframe\">\n",
       "  <thead>\n",
       "    <tr style=\"text-align: right;\">\n",
       "      <th></th>\n",
       "      <th>Coefs - Attribute</th>\n",
       "    </tr>\n",
       "  </thead>\n",
       "  <tbody>\n",
       "    <tr>\n",
       "      <th>zn</th>\n",
       "      <td>0.099190</td>\n",
       "    </tr>\n",
       "    <tr>\n",
       "      <th>indus</th>\n",
       "      <td>-0.069385</td>\n",
       "    </tr>\n",
       "    <tr>\n",
       "      <th>chas</th>\n",
       "      <td>-0.045498</td>\n",
       "    </tr>\n",
       "    <tr>\n",
       "      <th>age</th>\n",
       "      <td>-0.025674</td>\n",
       "    </tr>\n",
       "    <tr>\n",
       "      <th>dis</th>\n",
       "      <td>-0.149331</td>\n",
       "    </tr>\n",
       "    <tr>\n",
       "      <th>rad</th>\n",
       "      <td>0.553536</td>\n",
       "    </tr>\n",
       "    <tr>\n",
       "      <th>tax</th>\n",
       "      <td>-0.027055</td>\n",
       "    </tr>\n",
       "    <tr>\n",
       "      <th>ptratio</th>\n",
       "      <td>-0.006711</td>\n",
       "    </tr>\n",
       "    <tr>\n",
       "      <th>lstat</th>\n",
       "      <td>0.224003</td>\n",
       "    </tr>\n",
       "  </tbody>\n",
       "</table>\n",
       "</div>"
      ],
      "text/plain": [
       "         Coefs - Attribute\n",
       "zn                0.099190\n",
       "indus            -0.069385\n",
       "chas             -0.045498\n",
       "age              -0.025674\n",
       "dis              -0.149331\n",
       "rad               0.553536\n",
       "tax              -0.027055\n",
       "ptratio          -0.006711\n",
       "lstat             0.224003"
      ]
     },
     "execution_count": 31,
     "metadata": {},
     "output_type": "execute_result"
    }
   ],
   "source": [
    "coefs_df = pd.DataFrame(data=model.coef_, columns=[\"Coefs - Attribute\"], index=x.columns)\n",
    "coefs_df"
   ]
  },
  {
   "cell_type": "code",
   "execution_count": 32,
   "id": "ec34cac6",
   "metadata": {},
   "outputs": [
    {
     "name": "stdout",
     "output_type": "stream",
     "text": [
      "[ 0.09919024 -0.06938533 -0.0454977  -0.02567396 -0.14933125  0.55353601\n",
      " -0.02705505 -0.00671135  0.22400326]\n"
     ]
    }
   ],
   "source": [
    "# Estimate coefficients\n",
    "# Manually\n",
    "Xtx = np.dot(x_scaled.T, x_scaled)\n",
    "Xty = np.dot(x_scaled.T, y_scaled)\n",
    "beta = np.linalg.solve(Xtx, Xty)\n",
    "print(beta)"
   ]
  },
  {
   "cell_type": "code",
   "execution_count": 33,
   "id": "40412bd9",
   "metadata": {
    "scrolled": true
   },
   "outputs": [
    {
     "data": {
      "text/html": [
       "<div>\n",
       "<style scoped>\n",
       "    .dataframe tbody tr th:only-of-type {\n",
       "        vertical-align: middle;\n",
       "    }\n",
       "\n",
       "    .dataframe tbody tr th {\n",
       "        vertical-align: top;\n",
       "    }\n",
       "\n",
       "    .dataframe thead th {\n",
       "        text-align: right;\n",
       "    }\n",
       "</style>\n",
       "<table border=\"1\" class=\"dataframe\">\n",
       "  <thead>\n",
       "    <tr style=\"text-align: right;\">\n",
       "      <th></th>\n",
       "      <th>Coefs - Attribute</th>\n",
       "      <th>Coefs - Beta</th>\n",
       "    </tr>\n",
       "  </thead>\n",
       "  <tbody>\n",
       "    <tr>\n",
       "      <th>zn</th>\n",
       "      <td>0.099190</td>\n",
       "      <td>0.099190</td>\n",
       "    </tr>\n",
       "    <tr>\n",
       "      <th>indus</th>\n",
       "      <td>-0.069385</td>\n",
       "      <td>-0.069385</td>\n",
       "    </tr>\n",
       "    <tr>\n",
       "      <th>chas</th>\n",
       "      <td>-0.045498</td>\n",
       "      <td>-0.045498</td>\n",
       "    </tr>\n",
       "    <tr>\n",
       "      <th>age</th>\n",
       "      <td>-0.025674</td>\n",
       "      <td>-0.025674</td>\n",
       "    </tr>\n",
       "    <tr>\n",
       "      <th>dis</th>\n",
       "      <td>-0.149331</td>\n",
       "      <td>-0.149331</td>\n",
       "    </tr>\n",
       "    <tr>\n",
       "      <th>rad</th>\n",
       "      <td>0.553536</td>\n",
       "      <td>0.553536</td>\n",
       "    </tr>\n",
       "    <tr>\n",
       "      <th>tax</th>\n",
       "      <td>-0.027055</td>\n",
       "      <td>-0.027055</td>\n",
       "    </tr>\n",
       "    <tr>\n",
       "      <th>ptratio</th>\n",
       "      <td>-0.006711</td>\n",
       "      <td>-0.006711</td>\n",
       "    </tr>\n",
       "    <tr>\n",
       "      <th>lstat</th>\n",
       "      <td>0.224003</td>\n",
       "      <td>0.224003</td>\n",
       "    </tr>\n",
       "  </tbody>\n",
       "</table>\n",
       "</div>"
      ],
      "text/plain": [
       "         Coefs - Attribute  Coefs - Beta\n",
       "zn                0.099190      0.099190\n",
       "indus            -0.069385     -0.069385\n",
       "chas             -0.045498     -0.045498\n",
       "age              -0.025674     -0.025674\n",
       "dis              -0.149331     -0.149331\n",
       "rad               0.553536      0.553536\n",
       "tax              -0.027055     -0.027055\n",
       "ptratio          -0.006711     -0.006711\n",
       "lstat             0.224003      0.224003"
      ]
     },
     "execution_count": 33,
     "metadata": {},
     "output_type": "execute_result"
    }
   ],
   "source": [
    "coefs_df['Coefs - Beta'] = beta\n",
    "coefs_df"
   ]
  },
  {
   "cell_type": "code",
   "execution_count": null,
   "id": "51055e5f",
   "metadata": {},
   "outputs": [],
   "source": [
    "# Initialize weights randomly\n",
    "w0 = np.random.uniform(size=x_scaled.shape[1])\n",
    "\n",
    "# Set the learning rate\n",
    "alpha = 0.01\n",
    "\n",
    "w1 = w0.copy()\n",
    "\n",
    "# Set a loop that will continue untl break condition is met\n",
    "while True:\n",
    "\n",
    "    # Calculate predictions\n",
    "    predictions = np.dot(x_scaled, w0)\n",
    "    # Calculate errors\n",
    "    errors = y_scaled - predictions\n",
    "    # Calculate gradient (direction to adjust weights to minimize the loss function)\n",
    "    gradient = -2 * np.dot(x_scaled.T, errors)\n",
    "    # Update weights\n",
    "    w1 = w0 - alpha * gradient\n",
    "\n",
    "    # Check for convergence\n",
    "    if np.allclose(w1, w0, atol=1e-12):\n",
    "        break\n",
    "\n",
    "    # Prepare for the next iteration\n",
    "    w0 = w1.copy()\n",
    "\n",
    "# Print final weights\n",
    "print(w1)"
   ]
  },
  {
   "cell_type": "code",
   "execution_count": null,
   "id": "5e4311f8",
   "metadata": {},
   "outputs": [],
   "source": [
    "coefs_df['Coefs - GD'] = w1\n",
    "coefs_df"
   ]
  },
  {
   "cell_type": "markdown",
   "id": "f2cbab10",
   "metadata": {},
   "source": [
    "## Ejercicio 2"
   ]
  },
  {
   "cell_type": "code",
   "execution_count": null,
   "id": "e8c97091",
   "metadata": {},
   "outputs": [],
   "source": []
  },
  {
   "cell_type": "markdown",
   "id": "958d38f9",
   "metadata": {},
   "source": [
    "## Ejercicio 3"
   ]
  },
  {
   "cell_type": "code",
   "execution_count": null,
   "id": "dc296d9c",
   "metadata": {},
   "outputs": [],
   "source": []
  },
  {
   "cell_type": "markdown",
   "id": "ce3a2f19",
   "metadata": {},
   "source": [
    "## Ejercicio 4"
   ]
  },
  {
   "cell_type": "markdown",
   "id": "ebb66b97",
   "metadata": {},
   "source": [
    "a) Genere un conjunto de datos simulado:"
   ]
  },
  {
   "cell_type": "code",
   "execution_count": 8,
   "id": "542f9d6c",
   "metadata": {},
   "outputs": [
    {
     "name": "stdout",
     "output_type": "stream",
     "text": [
      "Resultados de la Validación Cruzada\n",
      "CV_Scores: [0.06898305 0.54504935 0.37123377 0.53457285 0.41643729]\n",
      "Mean CV Scor 0.38725526252925085\n"
     ]
    }
   ],
   "source": [
    "import numpy as np\n",
    "from sklearn.model_selection import cross_val_score\n",
    "from sklearn.linear_model import LinearRegression\n",
    "from sklearn.model_selection import train_test_split\n",
    "\n",
    "# Generamos el conjunto de datos simulados \n",
    "rng = np.random.default_rng(1)\n",
    "x = rng.normal(size=100)\n",
    "y = x - 2 * x**2 + rng.normal(size=100) \n",
    "\n",
    "#Dividimos el conjunto de datos en conjuntos de entrenamiento \n",
    "x_train, x_test, y_train, y_test = train_test_split(x.reshape(-1, 1), y, test_size=0.2, random_state=42)\n",
    "\n",
    "#Cremos el modelo de regresión lineal\n",
    "model = LinearRegression()\n",
    "\n",
    "#Realizamos la validación cruzada\n",
    "cv_scores = cross_val_score(model, x_train, y_train, cv=5)\n",
    "\n",
    "#Imprimimoslos resultados de la Validación cruzada\n",
    "print(\"Resultados de la Validación Cruzada\")\n",
    "print(\"CV_Scores:\", cv_scores)\n",
    "print(\"Mean CV Scor\", np.mean(cv_scores))\n"
   ]
  },
  {
   "cell_type": "markdown",
   "id": "36ab62d9",
   "metadata": {},
   "source": [
    "b) Establezca una semilla aleatoria y luego calcule los errores LOOCV que resultan de ajustar los siguientes cuatro modelos polinomiales usando minimos cuadrados:"
   ]
  },
  {
   "cell_type": "code",
   "execution_count": 14,
   "id": "e9c2d140",
   "metadata": {},
   "outputs": [
    {
     "name": "stdout",
     "output_type": "stream",
     "text": [
      "Modelo 1: Error LOOCV = 6.633029839181983\n",
      "Modelo 2: Error LOOCV = 1.122936856341968\n",
      "Modelo 3: Error LOOCV = 1.3017965489358856\n",
      "Modelo 4: Error LOOCV = 1.332394269417934\n"
     ]
    }
   ],
   "source": [
    "import numpy as np\n",
    "from sklearn.model_selection import LeaveOneOut\n",
    "from sklearn.linear_model import LinearRegression\n",
    "from sklearn.preprocessing import PolynomialFeatures \n",
    "from sklearn.metrics import mean_squared_error\n",
    "\n",
    "\n",
    "#Establecemos la semilla aleatoria:\n",
    "np.random.seed(42)\n",
    "\n",
    "#Definimos la función\n",
    "def loocv(X, y, model):\n",
    "    loo = LeaveOneOut()\n",
    "    mse_list = []\n",
    "    for train_index, test_index in loo.split(X):\n",
    "        X_train, X_test = X[train_index], X[test_index]\n",
    "        y_train, y_test = y[train_index], y[test_index]\n",
    "        model.fit(X_train, y_train)\n",
    "        y_pred = model.predict(X_test)\n",
    "        mse = mean_squared_error(y_test, y_pred)\n",
    "        mse_list.append(mse)\n",
    "    return np.mean(mse_list)\n",
    "\n",
    "#Los datos\n",
    "X = x.reshape(-1, 1) \n",
    "\n",
    "#Utilizamos el conjunto de datos x generando previamente\n",
    "y = y\n",
    "\n",
    "#Los modelos polinomiales\n",
    "models = [LinearRegression(),\n",
    "          LinearRegression(),\n",
    "          LinearRegression(),\n",
    "          LinearRegression()]\n",
    "\n",
    "#Grados Polinomiales\n",
    "degrees = [1, 2, 3, 4]\n",
    "\n",
    "#Calculamos los errores LOOCV para cada modelo polinomial\n",
    "for i in range(len(models)):\n",
    "    poly = PolynomialFeatures (degree=degrees[i])\n",
    "    X_poly = poly.fit_transform(X)\n",
    "    mse_loocv = loocv(X_poly, y, models[i])\n",
    "    print(f\"Modelo {i+1}: Error LOOCV = {mse_loocv}\")\n",
    "\n"
   ]
  },
  {
   "cell_type": "markdown",
   "id": "01ff96d9",
   "metadata": {},
   "source": [
    "c) Repita el punto C usando la semilla aleatoria e informe resultados. Son los resultados iguales a los que obtuvo ? Por que?"
   ]
  },
  {
   "cell_type": "code",
   "execution_count": 15,
   "id": "9abb75cb",
   "metadata": {},
   "outputs": [
    {
     "name": "stdout",
     "output_type": "stream",
     "text": [
      "Modelo 1: Error LOOCV = 6.633029839181983\n",
      "Modelo 2: Error LOOCV = 1.122936856341968\n",
      "Modelo 3: Error LOOCV = 1.3017965489358856\n",
      "Modelo 4: Error LOOCV = 1.332394269417934\n"
     ]
    }
   ],
   "source": [
    "#Establecemos otra semilla aleatoria\n",
    "np.random.seed(123)\n",
    "\n",
    "##Calculamos errores LOOCV en cada modelo polinomial con la nueva semilla \n",
    "for i in range(len(models)):\n",
    "    poly = PolynomialFeatures(degree=degrees[i])\n",
    "    X_poly= poly.fit_transform(X)\n",
    "    mse_loocv = loocv(X_poly, y, models[i])\n",
    "    print(f\"Modelo {i+1}: Error LOOCV = {mse_loocv}\")\n"
   ]
  },
  {
   "cell_type": "markdown",
   "id": "ae5af14a",
   "metadata": {},
   "source": [
    "d) ¿Cual de los modelos en c) tuvo error LOOCV mas pequeño? ¿Esperaba ese resultado? Explique la respuesta"
   ]
  },
  {
   "cell_type": "code",
   "execution_count": 18,
   "id": "ed2c503f",
   "metadata": {},
   "outputs": [
    {
     "name": "stdout",
     "output_type": "stream",
     "text": [
      "El modelo 2 tuvo el error LOOCV mas pequeño: 1.122936856341968\n"
     ]
    }
   ],
   "source": [
    "#Lista para almacenar los errores LOOCV de cada modelo\n",
    "mse_loocv_list = []\n",
    "\n",
    "#Calculamos errores LOOCV para cada modelo polinomial\n",
    "for i in range(len(models)):\n",
    "    poly = PolynomialFeatures(degree=degrees[i])\n",
    "    X_poly = poly.fit_transform(X)\n",
    "    mse_loocv = loocv(X_poly, y, models[i])\n",
    "    mse_loocv_list.append(mse_loocv)\n",
    "\n",
    "#Cual es el modelo con el menos LOOCV\n",
    "best_model_index = np.argmin(mse_loocv_list)\n",
    "best_model_mse = mse_loocv_list[best_model_index]\n",
    "\n",
    "#Imprimimos el resultado\n",
    "print(f\"El modelo {best_model_index+1} tuvo el error LOOCV mas pequeño: {best_model_mse}\")\n",
    "    \n",
    "    "
   ]
  },
  {
   "cell_type": "code",
   "execution_count": null,
   "id": "8f6eafe6",
   "metadata": {},
   "outputs": [],
   "source": []
  }
 ],
 "metadata": {
  "kernelspec": {
   "display_name": "Python 3 (ipykernel)",
   "language": "python",
   "name": "python3"
  },
  "language_info": {
   "codemirror_mode": {
    "name": "ipython",
    "version": 3
   },
   "file_extension": ".py",
   "mimetype": "text/x-python",
   "name": "python",
   "nbconvert_exporter": "python",
   "pygments_lexer": "ipython3",
   "version": "3.11.5"
  }
 },
 "nbformat": 4,
 "nbformat_minor": 5
}
