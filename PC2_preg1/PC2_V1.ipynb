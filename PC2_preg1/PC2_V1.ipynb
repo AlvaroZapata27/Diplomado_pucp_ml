{
 "cells": [
  {
   "cell_type": "markdown",
   "id": "60424c8c",
   "metadata": {},
   "source": [
    "Pregunta 1"
   ]
  },
  {
   "cell_type": "code",
   "execution_count": 9,
   "id": "451257c0",
   "metadata": {},
   "outputs": [],
   "source": [
    "import pandas as pd\n",
    "import numpy as np"
   ]
  },
  {
   "cell_type": "markdown",
   "id": "c56c4af7",
   "metadata": {},
   "source": [
    "a) "
   ]
  },
  {
   "cell_type": "code",
   "execution_count": 10,
   "id": "7b781f2b",
   "metadata": {},
   "outputs": [
    {
     "name": "stdout",
     "output_type": "stream",
     "text": [
      "Estimación de la media poblacional de 'medv': 22.532806324110677\n"
     ]
    }
   ],
   "source": [
    "def estimate_mean(data, idx, x):\n",
    "# Calcula la media de la columna x \n",
    "    mean = data.loc[idx, x].mean()\n",
    "    return mean\n",
    "\n",
    "url = \"https://raw.githubusercontent.com/qlabpucp/datasets/main/datasets/boston.csv\"\n",
    "data = pd.read_csv(url)\n",
    "\n",
    "# Calculamos la media poblacional de la columna 'medv'\n",
    "estimated_mean = estimate_mean(data, data.index, 'medv')\n",
    "print(\"Estimación de la media poblacional de 'medv':\", estimated_mean)"
   ]
  },
  {
   "cell_type": "markdown",
   "id": "d6b7ea3c",
   "metadata": {},
   "source": [
    "b) "
   ]
  },
  {
   "cell_type": "code",
   "execution_count": 11,
   "id": "912b1f31",
   "metadata": {},
   "outputs": [
    {
     "name": "stdout",
     "output_type": "stream",
     "text": [
      "Estimación del error estándar de mu_hat: 0.4088611474975351\n"
     ]
    }
   ],
   "source": [
    "# Calcular la desviación estándar de la columna 'medv'\n",
    "std_dev = data['medv'].std()\n",
    "\n",
    "# Calcular la raíz cuadrada del número de observaciones\n",
    "num_observations = len(data)\n",
    "sqrt_num_observations = num_observations ** 0.5\n",
    "\n",
    "# Calcular el error estándar\n",
    "standard_error = std_dev / sqrt_num_observations\n",
    "\n",
    "print(\"Estimación del error estándar de mu_hat:\", standard_error)\n"
   ]
  },
  {
   "cell_type": "markdown",
   "id": "7c242c73",
   "metadata": {},
   "source": [
    "c)"
   ]
  },
  {
   "cell_type": "code",
   "execution_count": 12,
   "id": "2e9d65fa",
   "metadata": {},
   "outputs": [
    {
     "name": "stdout",
     "output_type": "stream",
     "text": [
      "Estimación del error estándar Bootstrap de mu_hat: 0.41272606559524044\n"
     ]
    }
   ],
   "source": [
    "def bootstrap_se(data, x, idx, n_bootstrap):\n",
    "    boot_means = []\n",
    "    for _ in range(n_bootstrap):\n",
    "# Realizamos el remuestreo con reemplazos\n",
    "        bootstrap_sample = np.random.choice(idx, size=len(idx), replace=True)\n",
    "        # Calcular la media usando la función estimate_mean\n",
    "        boot_mean = estimate_mean(data, bootstrap_sample, x)\n",
    "        boot_means.append(boot_mean)\n",
    "# Calculamos el error estándar Bootstrap\n",
    "    boot_std = np.std(boot_means)\n",
    "    return boot_std\n",
    "\n",
    "# Estimamos el error estándar  Bootstrap de mu_hat\n",
    "n_bootstrap = 1000  # Número de remuestreos Bootstrap\n",
    "bootstrap_std_error = bootstrap_se(data, 'medv', data.index, n_bootstrap)\n",
    "\n",
    "print(\"Estimación del error estándar Bootstrap de mu_hat:\", bootstrap_std_error)\n"
   ]
  },
  {
   "cell_type": "markdown",
   "id": "0b5a6735",
   "metadata": {},
   "source": [
    "d)"
   ]
  },
  {
   "cell_type": "code",
   "execution_count": 13,
   "id": "8f2922ee",
   "metadata": {},
   "outputs": [
    {
     "name": "stdout",
     "output_type": "stream",
     "text": [
      "Intervalo de confianza del 95% para la media de 'medv':\n",
      "Inferior: 21.707354192920196\n",
      "Superior: 23.358258455301158\n"
     ]
    }
   ],
   "source": [
    "# Estimamos el intervalo de confianza del 95% para la media de 'medv'\n",
    "confidence_interval_lower = estimated_mean - 2 * bootstrap_std_error\n",
    "confidence_interval_upper = estimated_mean + 2 * bootstrap_std_error\n",
    "\n",
    "print(\"Intervalo de confianza del 95% para la media de 'medv':\")\n",
    "print(\"Inferior:\", confidence_interval_lower)\n",
    "print(\"Superior:\", confidence_interval_upper)\n"
   ]
  },
  {
   "cell_type": "markdown",
   "id": "85848338",
   "metadata": {},
   "source": [
    "e)"
   ]
  },
  {
   "cell_type": "code",
   "execution_count": 14,
   "id": "15930687",
   "metadata": {},
   "outputs": [
    {
     "name": "stdout",
     "output_type": "stream",
     "text": [
      "Estimación de la mediana poblacional de 'medv': 21.2\n"
     ]
    }
   ],
   "source": [
    "def estimate_median(data, idx, x):\n",
    "# Calculamos la mediana de la columna x para las filas correspondientes a los índices dados\n",
    "    median = data.loc[idx, x].median()\n",
    "    return median\n",
    "\n",
    "# Estimamos la mediana poblacional de la columna 'medv'\n",
    "estimated_median = estimate_median(data, data.index, 'medv')\n",
    "print(\"Estimación de la mediana poblacional de 'medv':\", estimated_median)\n"
   ]
  },
  {
   "cell_type": "markdown",
   "id": "188d445a",
   "metadata": {},
   "source": [
    "f)"
   ]
  },
  {
   "cell_type": "code",
   "execution_count": 15,
   "id": "b6334023",
   "metadata": {},
   "outputs": [
    {
     "name": "stdout",
     "output_type": "stream",
     "text": [
      "Estimación del error estándar Bootstrap de mu_med: 0.38339091016872023\n"
     ]
    }
   ],
   "source": [
    "def bootstrap_se_median(data, x, idx, n_bootstrap):\n",
    "    boot_medians = []\n",
    "    for _ in range(n_bootstrap):\n",
    "        # Realizar remuestreo con reemplazo\n",
    "        bootstrap_sample = np.random.choice(idx, size=len(idx), replace=True)\n",
    "        # Calcular la mediana usando la función estimate_median\n",
    "        boot_median = estimate_median(data, bootstrap_sample, x)\n",
    "        boot_medians.append(boot_median)\n",
    "    # Calcular el error estándar Bootstrap\n",
    "    boot_std = np.std(boot_medians)\n",
    "    return boot_std\n",
    "\n",
    "# Estimar el error estándar Bootstrap de mu_med\n",
    "bootstrap_std_error_median = bootstrap_se_median(data, 'medv', data.index, n_bootstrap)\n",
    "\n",
    "print(\"Estimación del error estándar Bootstrap de mu_med:\", bootstrap_std_error_median)"
   ]
  },
  {
   "cell_type": "code",
   "execution_count": null,
   "id": "543fe0cb",
   "metadata": {},
   "outputs": [],
   "source": []
  }
 ],
 "metadata": {
  "kernelspec": {
   "display_name": "Python 3 (ipykernel)",
   "language": "python",
   "name": "python3"
  },
  "language_info": {
   "codemirror_mode": {
    "name": "ipython",
    "version": 3
   },
   "file_extension": ".py",
   "mimetype": "text/x-python",
   "name": "python",
   "nbconvert_exporter": "python",
   "pygments_lexer": "ipython3",
   "version": "3.11.5"
  }
 },
 "nbformat": 4,
 "nbformat_minor": 5
}
