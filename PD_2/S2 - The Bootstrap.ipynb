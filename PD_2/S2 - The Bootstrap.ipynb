{
 "cells": [
  {
   "cell_type": "markdown",
   "metadata": {},
   "source": [
    "# THE BOOTSTRAP"
   ]
  },
  {
   "cell_type": "markdown",
   "metadata": {},
   "source": [
    "Bootstrap is a statistical technique used in Machine Learning to improve the estimation of a model's accuracy. It works by randomly selecting a subset of data from the original dataset, with replacement, meaning the same data point can be chosen more than once. This subset is then used to train the model, and the process is repeated multiple times. Each time, the model's performance is evaluated, and the results are averaged to get a more accurate estimate of the model's performance on unseen data.\n",
    "\n",
    "Bootstrap is useful in Machine Learning because it provides a way to estimate the accuracy of a model in situations where we might not have a lot of data or where the data is too costly to obtain. It allows us to make the most out of our existing data by reusing it in a smart way to estimate how well our model is likely to perform in the real world, thus making our model more robust and reliable.\n",
    "\n",
    "In this session, we will explore the uses of Bootstrap for two purposes: estimating statistics and assessing the performance an OLS model."
   ]
  },
  {
   "cell_type": "markdown",
   "metadata": {},
   "source": [
    "## 1. Install and import libraries"
   ]
  },
  {
   "cell_type": "code",
   "execution_count": 1,
   "metadata": {},
   "outputs": [],
   "source": [
    "# %pip install statsmodels"
   ]
  },
  {
   "cell_type": "code",
   "execution_count": 2,
   "metadata": {},
   "outputs": [
    {
     "name": "stderr",
     "output_type": "stream",
     "text": [
      "C:\\Users\\dell\\AppData\\Local\\Temp\\ipykernel_17444\\1875192560.py:3: DeprecationWarning: \n",
      "Pyarrow will become a required dependency of pandas in the next major release of pandas (pandas 3.0),\n",
      "(to allow more performant data types, such as the Arrow string type, and better interoperability with other libraries)\n",
      "but was not found to be installed on your system.\n",
      "If this would cause problems for you,\n",
      "please provide us feedback at https://github.com/pandas-dev/pandas/issues/54466\n",
      "        \n",
      "  import pandas as pd\n"
     ]
    }
   ],
   "source": [
    "# Basic\n",
    "import numpy as np\n",
    "import pandas as pd\n",
    "\n",
    "from sklearn.linear_model import LinearRegression\n",
    "from sklearn.preprocessing import PolynomialFeatures\n",
    "\n",
    "# Statsmodels\n",
    "import statsmodels.api as sm\n",
    "\n",
    "# Plotting\n",
    "import matplotlib.pyplot as plt\n",
    "from scipy.stats import gaussian_kde"
   ]
  },
  {
   "cell_type": "markdown",
   "metadata": {},
   "source": [
    "## 2. Estimate the accuracy of an statistic"
   ]
  },
  {
   "cell_type": "markdown",
   "metadata": {},
   "source": [
    "In this section, we explore the use of bootstrap to calculate the accuracy of a statistic of interest. Our example focuses on determining investment allocations. Specifically, we aim to invest a fixed sum of money across two financial assets yielding returns of X and Y, respectively. These returns are random quantities, leading to variability in the investment's outcome. Our goal is to allocate a fraction $\\alpha$ of our money in X, with the remainder, $1 - \\alpha$, in Y, to minimize the total risk, or variance, of our investment. The variance we seek to minimize is $Var(\\alpha X + (1-\\alpha)Y)$.\n",
    "\n",
    "The optimal value of $ \\alpha $ that minimizes this risk is given by the formula:\n",
    "\n",
    "$$ \n",
    "\\alpha = \\frac{\\sigma^2_Y - \\sigma_{XY}}{\\sigma^2_X + \\sigma^2_Y - 2\\sigma_{XY}}\n",
    "$$ \n",
    "\n",
    "where:\n",
    "\n",
    "$$\\sigma^2_X = Var(X)$$\n",
    "$$\\sigma^2_Y = Var(Y)$$\n",
    "$$\\sigma_{XY} = Cov(X, Y)$$"
   ]
  },
  {
   "cell_type": "markdown",
   "metadata": {},
   "source": [
    "We start by loading data from the 'Portfolio' dataset:"
   ]
  },
  {
   "cell_type": "code",
   "execution_count": 3,
   "metadata": {},
   "outputs": [],
   "source": [
    "data = pd.read_csv('https://raw.githubusercontent.com/qlabpucp/datasets/main/datasets/portafolio.csv')\n",
    "data = data.drop(columns=['Unnamed: 0'])"
   ]
  },
  {
   "cell_type": "code",
   "execution_count": 4,
   "metadata": {},
   "outputs": [],
   "source": [
    "def estimate_alpha(data, idx, x, y):\n",
    "\n",
    "    \"\"\"\n",
    "    Objective:\n",
    "    - Calculate the optimal allocation fraction, alpha, for minimizing the variance \n",
    "      of a portfolio consisting of two financial assets. This allocation fraction represents \n",
    "      the proportion of the total investment to be allocated to the first asset (X) to achieve \n",
    "      minimum portfolio risk, based on historical data of the assets' returns.\n",
    "\n",
    "    Input:\n",
    "    - data: A pandas DataFrame containing historical return data for the assets.\n",
    "    - idx : Indices or a boolean array to filter the data for the calculation.\n",
    "    - x   : The column name in 'data' corresponding to asset X's returns.\n",
    "    - y   : The column name in 'data' corresponding to asset Y's returns.\n",
    "\n",
    "    Output:\n",
    "    - alpha: The calculated optimal allocation fraction for asset X. \n",
    "    \"\"\"\n",
    "\n",
    "    cov = np.cov(data[[x, y]].loc[idx], rowvar=False)\n",
    "    alpha = ((cov[1,1] - cov[0,1]) / (cov[0,0]+cov[1,1]-2*cov[0,1]))\n",
    "    \n",
    "    return round(alpha,4)"
   ]
  },
  {
   "cell_type": "markdown",
   "metadata": {},
   "source": [
    "Let's now apply our function to calculate the optimal allocation fraction, $\\alpha$, using the entire dataset"
   ]
  },
  {
   "cell_type": "code",
   "execution_count": 5,
   "metadata": {},
   "outputs": [
    {
     "data": {
      "text/plain": [
       "0.5758"
      ]
     },
     "execution_count": 5,
     "metadata": {},
     "output_type": "execute_result"
    }
   ],
   "source": [
    "estimate_alpha(data, range(100), 'X', 'Y')"
   ]
  },
  {
   "cell_type": "markdown",
   "metadata": {},
   "source": [
    "Now, we'll estimate $\\alpha$ by selecting 100 random observations with replacement, a process equivalent to constructing a new dataset using the bootstrap technique"
   ]
  },
  {
   "cell_type": "code",
   "execution_count": 6,
   "metadata": {},
   "outputs": [
    {
     "data": {
      "text/plain": [
       "0.6074"
      ]
     },
     "execution_count": 6,
     "metadata": {},
     "output_type": "execute_result"
    }
   ],
   "source": [
    "choice = np.random.default_rng(0).choice(100, 100, replace = True)\n",
    "estimate_alpha(data, choice, 'X', 'Y')"
   ]
  },
  {
   "cell_type": "markdown",
   "metadata": {},
   "source": [
    "Now, let's develop a function designed to compute the bootstrap standard error, applicable for calculating various statistics:\n",
    "\n",
    "- The standard error is calculated using the formula:\n",
    "\n",
    "$$ SE = \\sqrt{\\frac{1}{b} \\sum_{i=1}^{b} \\hat{\\theta}_i^2 - \\left(\\frac{1}{b} \\sum_{i=1}^{b} \\hat{\\theta}_i\\right)^2} $$\n",
    "\n",
    "- This formula is an application of the standard deviation formula to the bootstrap estimates. The first term inside the square root, $\\frac{1}{b} \\sum_{i=1}^{b} \\hat{\\theta}_i^2$, calculates the average of the squares of the estimates. Conversely, the second term, $\\left(\\frac{1}{b} \\sum_{i=1}^{b} \\hat{\\theta}_i\\right)^2$, computes the square of the average of the estimates. The variance of the bootstrap estimates is derived from the difference between these two terms, and taking the square root of this variance yields the standard error.\n"
   ]
  },
  {
   "cell_type": "code",
   "execution_count": 7,
   "metadata": {},
   "outputs": [],
   "source": [
    "def boot_SE(func, data, x, y, n=None, b=1000, seed = 0):\n",
    "\n",
    "    \"\"\"\n",
    "    Objective:\n",
    "    - Calculate the bootstrap standard error (SE) for the output of a specified function, \n",
    "      which estimates a parameter (like alpha) based on a dataset. This method involves \n",
    "      generating multiple bootstrapped samples of the dataset, applying the function to \n",
    "      each sample, and then calculating the standard deviation of the resulting estimates \n",
    "      to obtain the SE\n",
    "\n",
    "    Input:\n",
    "    - func: The function for which the bootstrap SE is being calculated\n",
    "    - data: A pandas DataFrame\n",
    "    - x, y: Column names in 'data' corresponding to the variables of interest for 'func'\n",
    "    - n   : The number of observations to sample with replacement for each bootstrap iteration\n",
    "            If None, uses the full dataset size\n",
    "    - b   : The number of bootstrap iterations/samples to generate\n",
    "    - seed: A seed for the random number generator to ensure reproducibility\n",
    "\n",
    "    Output:\n",
    "    - The calculated bootstrap standard error of the function's estimate based on the input data\n",
    "    - A list of all bootstrap estimates generated during the process\n",
    "    \"\"\"\n",
    "\n",
    "    choice = np.random.default_rng(seed)\n",
    "    first_ = 0\n",
    "    second_ = 0\n",
    "    n = n or data.shape[0]\n",
    "    estimates = []\n",
    "\n",
    "    for sample in range(b):\n",
    "        idx = choice.choice(data.index, n, replace = True)\n",
    "        var_ = func(data, idx, x, y) \n",
    "        first_ += var_\n",
    "        second_ += var_**2\n",
    "        estimates.append(var_)\n",
    "\n",
    "    se = np.sqrt(second_ / b - (first_ / b)**2)\n",
    "\n",
    "    return round(se,4), estimates"
   ]
  },
  {
   "cell_type": "markdown",
   "metadata": {},
   "source": [
    "Now, we will apply the previously defined function to evaluate the precision of our estimates. By selecting 100 observations with replacement, we will generate 1,000 bootstrapped datasets. Then, we'll compute the standard error across all these datasets to assess the accuracy of our estimations.\n"
   ]
  },
  {
   "cell_type": "code",
   "execution_count": 8,
   "metadata": {},
   "outputs": [
    {
     "name": "stdout",
     "output_type": "stream",
     "text": [
      "Deviation Error at 1000 bootstraped datasets: 0.0912\n"
     ]
    }
   ],
   "source": [
    "alpha_SE, estimates = boot_SE(estimate_alpha, data, 'X', 'Y', n = 100, b = 1000, seed = 0)\n",
    "print(f'Deviation Error at 1000 bootstraped datasets: {alpha_SE}')"
   ]
  },
  {
   "cell_type": "markdown",
   "metadata": {},
   "source": [
    "Next, let's check the distribution of alpha estimated obtained from bootstrapped datasets through a density plot. The plot features a blue shaded area indicating the density of alpha estimates, with a red vertical line marking the mean of these estimates."
   ]
  },
  {
   "cell_type": "code",
   "execution_count": 9,
   "metadata": {},
   "outputs": [
    {
     "data": {
      "image/png": "[encoded data removed]",
      "text/plain": [
       "<Figure size 640x480 with 1 Axes>"
      ]
     },
     "metadata": {},
     "output_type": "display_data"
    }
   ],
   "source": [
    "# Estimating the density of the bootstrap estimates\n",
    "density = gaussian_kde(estimates)\n",
    "x_vals = np.linspace(min(estimates), max(estimates), 1000)\n",
    "y_vals = density(x_vals)\n",
    "\n",
    "# Plotting the density\n",
    "plt.fill_between(x_vals, y_vals, color=\"lightblue\")\n",
    "plt.plot(x_vals, y_vals, color=\"lightblue\", lw=2)\n",
    "plt.axvline(x=np.mean(estimates), color=\"red\", lw=2, label='Mean Estimate')\n",
    "\n",
    "plt.xlabel(\"Alpha Estimates\")\n",
    "plt.ylabel(\"Density\")\n",
    "plt.title(\"Density Plot of Alpha Estimates\")\n",
    "plt.legend()\n",
    "plt.show()"
   ]
  },
  {
   "cell_type": "markdown",
   "metadata": {},
   "source": [
    "## 2. Estimate the accuracy of a Linear Regresion model"
   ]
  },
  {
   "cell_type": "markdown",
   "metadata": {},
   "source": [
    "Just like the function we designed to estimate alpha, let's now create a function to compute the coefficients of an Ordinary Least Squares (OLS) model"
   ]
  },
  {
   "cell_type": "code",
   "execution_count": 10,
   "metadata": {},
   "outputs": [],
   "source": [
    "def OLS_params(data, idx, x_vars, y):\n",
    "\n",
    "    \"\"\"\n",
    "    Objective:\n",
    "    - To calculate the parameters (coefficients) of an Ordinary Least Squares (OLS) regression model. \n",
    "      This model is fitted using a subset of the provided dataset, specified by the given indices. \n",
    "\n",
    "    Input:\n",
    "    - data  : A pandas DataFrame containing the dataset.\n",
    "    - x_vars: A list of column names corresponding to the independent variables.\n",
    "    - y     : target variable.\n",
    "    - idx   : An array-like object containing the indices of the observations to be used in the model fitting. \n",
    "\n",
    "    Output:\n",
    "    - params: A Series containing the parameters (coefficients) of the fitted OLS regression model.\n",
    "    \"\"\"\n",
    "\n",
    "    data_ = data.loc[idx]\n",
    "    Y_ = data_[y]\n",
    "    X_ = data_[x_vars]\n",
    "    X_ = sm.add_constant(X_) \n",
    "    params = sm.OLS(Y_, X_).fit().params\n",
    "\n",
    "    return params"
   ]
  },
  {
   "cell_type": "markdown",
   "metadata": {},
   "source": [
    "Now let's load the ``auto`` dataset"
   ]
  },
  {
   "cell_type": "code",
   "execution_count": 11,
   "metadata": {},
   "outputs": [],
   "source": [
    "data_auto = pd.read_csv('https://raw.githubusercontent.com/qlabpucp/datasets/main/datasets/auto.csv')\n",
    "data_auto = data_auto.drop(columns=['Unnamed: 0', 'name'])"
   ]
  },
  {
   "cell_type": "markdown",
   "metadata": {},
   "source": [
    "Now, let's estimate the coefficientes for the `intercept` and `horsepower` terms over 10 different bootstrap samples"
   ]
  },
  {
   "cell_type": "code",
   "execution_count": 12,
   "metadata": {},
   "outputs": [],
   "source": [
    "n = data_auto.shape[0]\n",
    "choice = np.random.default_rng(0)\n",
    "boot_indexes = [choice.choice(n, n, replace=True) for sample in range(10)]\n",
    "boot_params = [OLS_params(data_auto, idx, 'horsepower', 'mpg') for idx in boot_indexes]"
   ]
  },
  {
   "cell_type": "markdown",
   "metadata": {},
   "source": [
    "We can print the results"
   ]
  },
  {
   "cell_type": "code",
   "execution_count": 13,
   "metadata": {},
   "outputs": [
    {
     "name": "stdout",
     "output_type": "stream",
     "text": [
      "Sample 1:\n",
      "const: 39.881\n",
      "horsepower: -0.157\n",
      "\n",
      "Sample 2:\n",
      "const: 38.733\n",
      "horsepower: -0.147\n",
      "\n",
      "Sample 3:\n",
      "const: 38.317\n",
      "horsepower: -0.144\n",
      "\n",
      "Sample 4:\n",
      "const: 39.914\n",
      "horsepower: -0.158\n",
      "\n",
      "Sample 5:\n",
      "const: 39.433\n",
      "horsepower: -0.151\n",
      "\n",
      "Sample 6:\n",
      "const: 40.366\n",
      "horsepower: -0.159\n",
      "\n",
      "Sample 7:\n",
      "const: 39.623\n",
      "horsepower: -0.154\n",
      "\n",
      "Sample 8:\n",
      "const: 39.058\n",
      "horsepower: -0.150\n",
      "\n",
      "Sample 9:\n",
      "const: 38.667\n",
      "horsepower: -0.145\n",
      "\n",
      "Sample 10:\n",
      "const: 39.643\n",
      "horsepower: -0.156\n",
      "\n"
     ]
    }
   ],
   "source": [
    "for i, params in enumerate(boot_params, start=1):\n",
    "    print(f\"Sample {i}:\")\n",
    "    for var, value in params.items():\n",
    "        print(f\"{var}: {value:.3f}\")\n",
    "    print()"
   ]
  },
  {
   "cell_type": "markdown",
   "metadata": {},
   "source": [
    "Now we can estimate the Standard Error for coefficients of the terms using 1 000 bootstraped samples"
   ]
  },
  {
   "cell_type": "code",
   "execution_count": 14,
   "metadata": {},
   "outputs": [
    {
     "name": "stdout",
     "output_type": "stream",
     "text": [
      "const         0.8488\n",
      "horsepower    0.0074\n",
      "dtype: float64\n"
     ]
    }
   ],
   "source": [
    "boot_se_lr, estimates = boot_SE(OLS_params, data_auto, 'horsepower', 'mpg', b=1000, seed=10)\n",
    "print(boot_se_lr)"
   ]
  },
  {
   "cell_type": "markdown",
   "metadata": {},
   "source": [
    "Let's estimate the Standard Error for coefficients using a standard formula. Then, we will compare these results with the ones obtained by bootstrap."
   ]
  },
  {
   "cell_type": "code",
   "execution_count": 15,
   "metadata": {},
   "outputs": [
    {
     "name": "stdout",
     "output_type": "stream",
     "text": [
      "const         0.7175\n",
      "horsepower    0.0064\n",
      "dtype: float64\n"
     ]
    }
   ],
   "source": [
    "X = sm.add_constant(data_auto[['horsepower']])\n",
    "Y = data_auto['mpg']\n",
    "\n",
    "model = sm.OLS(Y, X).fit()\n",
    "data_auto['predicted_mpg_lr'] = model.predict(X)\n",
    "print(round(model.bse, 4))"
   ]
  },
  {
   "cell_type": "markdown",
   "metadata": {},
   "source": [
    "Estimations obtained by the Bootstrap approach are somewhat different from those calculated using the standard formula. The differences do not imply a problem with the bootstrap method. Instead, it suggests that bootstrap might be providing a more accurate estimate of the standard errors. It happens because the traditional formulas depend on assumptions that may not hold true in all scenarios:\n",
    "\n",
    "- Utilizing a linear model in the presence of non-linear data relationships can inflate residuals and, by extension, the estimated noise variance $ \\sigma^2 $, resulting in exaggerated standard errors. \n",
    "- Traditional methods presuppose that independent variables are fixed, ignoring the reality that variability might also stem from these variables, not just from the error terms $ \\epsilon_i $.\n",
    "\n",
    "Bootstrap methods do not rely on the specific assumptions required by the traditional formulas, such as the distribution of $ x_i $ or the linearity of the relationship between $ x_i $ and $ y $. This makes bootstrap a more flexible and potentially more accurate method for estimating standard errors, especially in situations where the assumptions behind traditional methods do not hold."
   ]
  },
  {
   "cell_type": "markdown",
   "metadata": {},
   "source": [
    "Now, let's examine the Standard Errors obtained through a Polynomial Approach. For this purpose, we create polynomial features of degree two:"
   ]
  },
  {
   "cell_type": "code",
   "execution_count": 16,
   "metadata": {},
   "outputs": [],
   "source": [
    "# Create polynomical features\n",
    "poly = PolynomialFeatures(degree=2, include_bias=False)\n",
    "X_poly = poly.fit_transform(data_auto[['horsepower']])\n",
    "\n",
    "# Define the names of the new column\n",
    "poly_feature_names = [f\"horsepower^{i}\" for i in range(1, 3)]\n",
    "\n",
    "# Add new columns to the existing dataframe\n",
    "for i, name in enumerate(poly_feature_names):\n",
    "    data_auto[name] = X_poly[:, i]"
   ]
  },
  {
   "cell_type": "markdown",
   "metadata": {},
   "source": [
    "Here we fit a polynomial model and estimate the coefficients Standard Error using 1 000 bootstrap samples"
   ]
  },
  {
   "cell_type": "code",
   "execution_count": 17,
   "metadata": {},
   "outputs": [
    {
     "name": "stdout",
     "output_type": "stream",
     "text": [
      "const           2.0678\n",
      "horsepower^1    0.0330\n",
      "horsepower^2    0.0001\n",
      "dtype: float64\n"
     ]
    }
   ],
   "source": [
    "boot_se_qd, estimates = boot_SE(OLS_params, data_auto, poly_feature_names, 'mpg', b=1000, seed=0)\n",
    "print(boot_se_qd)"
   ]
  },
  {
   "cell_type": "markdown",
   "metadata": {},
   "source": [
    "Now we estimate the coefficient Standard Error using the standardized formula provided by the attribute `.bse` from the Statsmodels package"
   ]
  },
  {
   "cell_type": "code",
   "execution_count": 18,
   "metadata": {},
   "outputs": [
    {
     "name": "stdout",
     "output_type": "stream",
     "text": [
      "const           1.8004\n",
      "horsepower^1    0.0311\n",
      "horsepower^2    0.0001\n",
      "dtype: float64\n"
     ]
    }
   ],
   "source": [
    "X_quad = sm.add_constant(data_auto[poly_feature_names])\n",
    "Y = data_auto['mpg']\n",
    "\n",
    "model_quad = sm.OLS(Y, X_quad).fit()\n",
    "data_auto['predicted_mpg_quad'] = model_quad.predict(X_quad)\n",
    "print(round(model_quad.bse, 4))"
   ]
  },
  {
   "cell_type": "markdown",
   "metadata": {},
   "source": [
    "The estimated Standard Errors from both approaches are now more similar. This improvement occurs because the quadratic model provides a better fit to the data compared to the linear model. Specifically, since the relationship between X and Y appears to be non-linear, the quadratic model results in a noise variance $ \\sigma^2 $ estimate that is less inflated than what is observed with the linear model."
   ]
  },
  {
   "cell_type": "code",
   "execution_count": 19,
   "metadata": {},
   "outputs": [
    {
     "data": {
      "image/png": "[encoded data removed]",
      "text/plain": [
       "<Figure size 1000x600 with 1 Axes>"
      ]
     },
     "metadata": {},
     "output_type": "display_data"
    }
   ],
   "source": [
    "# Sort dataframe by 'horsepower'\n",
    "data_auto_sorted = data_auto.sort_values(by='horsepower')\n",
    "\n",
    "# Scatter plot de 'mpg' vs. 'horsepower'\n",
    "plt.figure(figsize=(10, 6))\n",
    "plt.scatter(data_auto_sorted['horsepower'], data_auto_sorted['mpg'], color='dimgray', label='Data', s=10)\n",
    "\n",
    "# Linear predictions\n",
    "plt.plot(data_auto_sorted['horsepower'], data_auto_sorted['predicted_mpg_lr'], color='coral', label='Linear Model')\n",
    "\n",
    "# Quadratic predictions\n",
    "plt.plot(data_auto_sorted['horsepower'], data_auto_sorted['predicted_mpg_quad'], color='green', label='Quadratic Model')\n",
    "\n",
    "plt.xlabel('Horsepower')\n",
    "plt.ylabel('MPG')\n",
    "plt.title('MPG vs. Horsepower with Model Predictions')\n",
    "plt.legend()\n",
    "plt.show()"
   ]
  }
 ],
 "metadata": {
  "kernelspec": {
   "display_name": "ml_course2",
   "language": "python",
   "name": "python3"
  },
  "language_info": {
   "codemirror_mode": {
    "name": "ipython",
    "version": 3
   },
   "file_extension": ".py",
   "mimetype": "text/x-python",
   "name": "python",
   "nbconvert_exporter": "python",
   "pygments_lexer": "ipython3",
   "version": "3.12.1"
  }
 },
 "nbformat": 4,
 "nbformat_minor": 2
}
