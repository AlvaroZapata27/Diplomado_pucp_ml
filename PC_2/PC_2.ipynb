{
 "cells": [
  {
   "cell_type": "markdown",
   "id": "d6ebf26b",
   "metadata": {},
   "source": []
  },
  {
   "cell_type": "code",
   "execution_count": null,
   "id": "e03bbe58",
   "metadata": {},
   "outputs": [],
   "source": []
  },
  {
   "cell_type": "markdown",
   "id": "169ff881",
   "metadata": {},
   "source": [
    "## Ejercicio 5"
   ]
  },
  {
   "cell_type": "code",
   "execution_count": 45,
   "id": "506b2508",
   "metadata": {},
   "outputs": [],
   "source": [
    "import pandas as pd\n",
    "from sklearn.model_selection import train_test_split\n",
    "from sklearn.preprocessing import StandardScaler\n",
    "from sklearn.linear_model import Ridge, Lasso\n",
    "from sklearn.metrics import mean_squared_error\n",
    "import matplotlib.pyplot as plt\n",
    "\n",
    "from sklearn.preprocessing import OneHotEncoder\n"
   ]
  },
  {
   "cell_type": "code",
   "execution_count": 46,
   "id": "eb01e0fe",
   "metadata": {},
   "outputs": [
    {
     "name": "stdout",
     "output_type": "stream",
     "text": [
      "   Unnamed: 0  Sales  CompPrice  Income  Advertising  Population  Price  \\\n",
      "0           0   9.50        138      73           11         276    120   \n",
      "1           1  11.22        111      48           16         260     83   \n",
      "2           2  10.06        113      35           10         269     80   \n",
      "3           3   7.40        117     100            4         466     97   \n",
      "4           4   4.15        141      64            3         340    128   \n",
      "\n",
      "  ShelveLoc  Age  Education Urban   US  \n",
      "0       Bad   42         17   Yes  Yes  \n",
      "1      Good   65         10   Yes  Yes  \n",
      "2    Medium   59         12   Yes  Yes  \n",
      "3    Medium   55         14   Yes  Yes  \n",
      "4       Bad   38         13   Yes   No  \n"
     ]
    }
   ],
   "source": [
    "# Get data \n",
    "url = \"https://raw.githubusercontent.com/qlabpucp/datasets/main/datasets/carseats.csv\"\n",
    "df = pd.read_csv(url)\n",
    "print(df.head())"
   ]
  },
  {
   "cell_type": "markdown",
   "id": "1bc24a89",
   "metadata": {},
   "source": [
    "a) Implemente los modelos de regularización explorados: Ridge y Lasso. Presente y discuta los\n",
    "resultados."
   ]
  },
  {
   "cell_type": "code",
   "execution_count": 47,
   "id": "eab79132",
   "metadata": {},
   "outputs": [],
   "source": [
    "# transform some variables\n",
    "df = pd.get_dummies(df, columns=['ShelveLoc'])\n",
    "\n",
    "df['US'] = df['US'].map({'Yes': 1, 'No': 0})\n",
    "df['Urban'] = df['Urban'].map({'Yes': 1, 'No': 0})\n",
    "\n",
    "df = df.drop('Unnamed: 0', axis=1)\n"
   ]
  },
  {
   "cell_type": "code",
   "execution_count": 48,
   "id": "46611748",
   "metadata": {},
   "outputs": [
    {
     "name": "stdout",
     "output_type": "stream",
     "text": [
      "Error cuadrático medio (Ridge): 1.0968882035538534\n",
      "Error cuadrático medio (Lasso): 8.508672518157502\n"
     ]
    }
   ],
   "source": [
    "# Set X y\n",
    "X = df.drop('Sales',  axis=1)\n",
    "y = df['Sales']\n",
    "\n",
    "# Divide train and test\n",
    "X_train, X_test, y_train, y_test = train_test_split(X, y, test_size=0.2, random_state=42)\n",
    "\n",
    "# Ridge y Lasso\n",
    "scaler = StandardScaler()\n",
    "X_train_scaled = scaler.fit_transform(X_train)\n",
    "X_test_scaled = scaler.transform(X_test)\n",
    "\n",
    "# Train Ridge\n",
    "ridge_model = Ridge(alpha=1.0)  # Puedes ajustar el parámetro de regularización (alpha) según sea necesario\n",
    "ridge_model.fit(X_train_scaled, y_train)\n",
    "\n",
    "# Train Lasso\n",
    "lasso_model = Lasso(alpha=1.0)  # Puedes ajustar el parámetro de regularización (alpha) según sea necesario\n",
    "lasso_model.fit(X_train_scaled, y_train)\n",
    "\n",
    "# Predict\n",
    "ridge_pred = ridge_model.predict(X_test_scaled)\n",
    "lasso_pred = lasso_model.predict(X_test_scaled)\n",
    "\n",
    "# MSE\n",
    "ridge_mse = mean_squared_error(y_test, ridge_pred)\n",
    "lasso_mse = mean_squared_error(y_test, lasso_pred)\n",
    "\n",
    "print(\"Error cuadrático medio (Ridge):\", ridge_mse)\n",
    "print(\"Error cuadrático medio (Lasso):\", lasso_mse)\n"
   ]
  },
  {
   "cell_type": "code",
   "execution_count": 49,
   "id": "288ba733",
   "metadata": {},
   "outputs": [
    {
     "data": {
      "image/png": "[encoded data removed]",
      "text/plain": [
       "<Figure size 864x432 with 1 Axes>"
      ]
     },
     "metadata": {
      "needs_background": "light"
     },
     "output_type": "display_data"
    }
   ],
   "source": [
    "# Extract coefficients and feature names\n",
    "ridge_coefficients = ridge_model.coef_\n",
    "lasso_coefficients = lasso_model.coef_\n",
    "feature_names = X.columns\n",
    "\n",
    "# Plotting the coefficients\n",
    "plt.figure(figsize=(12, 6))\n",
    "bar_width = 0.35\n",
    "index = np.arange(len(feature_names))\n",
    "\n",
    "# Bar plot for Ridge coefficients\n",
    "plt.bar(index, ridge_coefficients, bar_width, label='Ridge Coeficientes')\n",
    "\n",
    "# Bar plot for Lasso coefficients\n",
    "plt.bar(index + bar_width, lasso_coefficients, bar_width, label='Lasso Coeficientes')\n",
    "\n",
    "plt.xlabel('Variable')\n",
    "plt.ylabel('Valors del coeficiente')\n",
    "plt.title('Ridge vs Lasso')\n",
    "plt.xticks(index + bar_width / 2, feature_names, rotation=45)\n",
    "plt.legend()\n",
    "plt.tight_layout()\n",
    "plt.show()"
   ]
  },
  {
   "cell_type": "markdown",
   "id": "bac706a6",
   "metadata": {},
   "source": [
    "En este caso el coeficiente de penalizacion alpha del modelo Lasso ha solo considerado aquellas variables con un coeficiente relevante para el modelo. Notamos que en el modelo ridge, las variables con mayor coefeciente son justamente aquellas incluidas en Lasso. En ambos modelos las variables más importantes son el Precio, y si ShelveLoc es Bad o Good."
   ]
  },
  {
   "cell_type": "code",
   "execution_count": 50,
   "id": "a10fe1af",
   "metadata": {},
   "outputs": [
    {
     "name": "stdout",
     "output_type": "stream",
     "text": [
      "Average MSE (Cross-Validation): 1.0732749302226474\n",
      "Average MSE (Ridge, Cross-Validation): 1.0742863247822951\n",
      "Average MSE (Lasso, Cross-Validation): 3.741745263786206\n"
     ]
    }
   ],
   "source": [
    "from sklearn.model_selection import cross_val_score\n",
    "from sklearn.linear_model import LinearRegression\n",
    "\n",
    "# X_train, X_test, y_train, y_test ya están definidos\n",
    "\n",
    "#  Models \n",
    "lr_model = LinearRegression()\n",
    "ridge_model = Ridge(alpha=1.0)\n",
    "lasso_model = Lasso(alpha=1.0)\n",
    "\n",
    "#  cross-validation\n",
    "cv_scores = cross_val_score(lr_model, X_train, y_train, cv=5, scoring='neg_mean_squared_error')\n",
    "ridge_cv_scores = cross_val_score(ridge_model, X_train, y_train, cv=5, scoring='neg_mean_squared_error')\n",
    "lasso_cv_scores = cross_val_score(lasso_model, X_train, y_train, cv=5, scoring='neg_mean_squared_error')\n",
    "\n",
    "# Convert negative MSE to positive for comparison\n",
    "cv_scores = -cv_scores\n",
    "ridge_cv_scores = -ridge_cv_scores\n",
    "lasso_cv_scores = -lasso_cv_scores\n",
    "\n",
    "# Calculate average MSE\n",
    "avg_mse = np.mean(cv_scores)\n",
    "ridge_avg_mse = np.mean(ridge_cv_scores)\n",
    "lasso_avg_mse = np.mean(lasso_cv_scores)\n",
    "\n",
    "print(\"Average MSE (Cross-Validation):\", avg_mse)\n",
    "print(\"Average MSE (Ridge, Cross-Validation):\", ridge_avg_mse)\n",
    "print(\"Average MSE (Lasso, Cross-Validation):\", lasso_avg_mse)"
   ]
  },
  {
   "cell_type": "code",
   "execution_count": 51,
   "id": "f53b6851",
   "metadata": {},
   "outputs": [
    {
     "name": "stdout",
     "output_type": "stream",
     "text": [
      "Best Alpha for Ridge: {'alpha': 0.01}\n",
      "Best MSE for Ridge: 1.0732756657140115\n",
      "Best Alpha for Lasso: {'alpha': 0.01}\n",
      "Best MSE for Lasso: 1.0766003895893959\n"
     ]
    }
   ],
   "source": [
    "# Ahora buscamos un parametro Alpha Optimo\n",
    "\n",
    "from sklearn.model_selection import GridSearchCV\n",
    "\n",
    "# Define range of alphas to search\n",
    "param_space = {'alpha': (0.01, 1.0)}\n",
    "\n",
    "# Grid search for Ridge Regression\n",
    "ridge_param_grid = {'alpha': alphas}\n",
    "ridge_grid_search = GridSearchCV(Ridge(), param_space, cv=5, scoring='neg_mean_squared_error')\n",
    "ridge_grid_search.fit(X_train, y_train)\n",
    "\n",
    "print(\"Best Alpha for Ridge:\", ridge_grid_search.best_params_)\n",
    "print(\"Best MSE for Ridge:\", -ridge_grid_search.best_score_)\n",
    "\n",
    "# Grid search for Lasso Regression\n",
    "lasso_param_grid = {'alpha': alphas}\n",
    "lasso_grid_search = GridSearchCV(Lasso(), param_space, cv=5, scoring='neg_mean_squared_error')\n",
    "lasso_grid_search.fit(X_train, y_train)\n",
    "\n",
    "print(\"Best Alpha for Lasso:\", lasso_grid_search.best_params_)\n",
    "print(\"Best MSE for Lasso:\", -lasso_grid_search.best_score_)"
   ]
  },
  {
   "cell_type": "markdown",
   "id": "57a7635c",
   "metadata": {},
   "source": [
    "La optimizacion nos indica que el alpha optimo es muy cercano a cero. Esto no dice que la penalizacion debe ser minima. El promedio de los MSE en Ridge, Lasso y Regresion Lineal son similares. Dado que el parametro de penalizacion es cercano a cero este no excluye variables y se aproxima a un modelo de regrssion lineal. POr lo tanto el modelo con menor MSE no omite variables. "
   ]
  },
  {
   "cell_type": "code",
   "execution_count": null,
   "id": "209a166a",
   "metadata": {},
   "outputs": [],
   "source": []
  }
 ],
 "metadata": {
  "kernelspec": {
   "display_name": "Python 3 (ipykernel)",
   "language": "python",
   "name": "python3"
  },
  "language_info": {
   "codemirror_mode": {
    "name": "ipython",
    "version": 3
   },
   "file_extension": ".py",
   "mimetype": "text/x-python",
   "name": "python",
   "nbconvert_exporter": "python",
   "pygments_lexer": "ipython3",
   "version": "3.9.18"
  }
 },
 "nbformat": 4,
 "nbformat_minor": 5
}
