{
 "cells": [
  {
   "cell_type": "markdown",
   "id": "60424c8c",
   "metadata": {
    "id": "60424c8c"
   },
   "source": [
    "Pregunta 1"
   ]
  },
  {
   "cell_type": "markdown",
   "id": "-iQ4Pks6v3Ep",
   "metadata": {
    "id": "-iQ4Pks6v3Ep"
   },
   "source": [
    "#Practica Calificada : 2\n",
    "## Auri Morro -- F0573326\n",
    "## Diego Delgado\n",
    "## Álvaro Zapata"
   ]
  },
  {
   "cell_type": "markdown",
   "id": "lz0fHajhwAG6",
   "metadata": {
    "id": "lz0fHajhwAG6"
   },
   "source": [
    "Pregunta 01:"
   ]
  },
  {
   "cell_type": "markdown",
   "id": "c56c4af7",
   "metadata": {
    "id": "c56c4af7"
   },
   "source": [
    "a)"
   ]
  },
  {
   "cell_type": "code",
   "execution_count": 60,
   "id": "451257c0",
   "metadata": {
    "id": "451257c0"
   },
   "outputs": [],
   "source": [
    "import pandas as pd\n",
    "import numpy as np\n",
    "from sklearn.model_selection import train_test_split, cross_val_score\n",
    "from sklearn.linear_model import LinearRegression, Ridge, Lasso, LassoCV, RidgeCV\n",
    "from sklearn.metrics import mean_squared_error\n",
    "import matplotlib.pyplot as plt"
   ]
  },
  {
   "cell_type": "code",
   "execution_count": 3,
   "id": "7b781f2b",
   "metadata": {
    "colab": {
     "base_uri": "https://localhost:8080/"
    },
    "id": "7b781f2b",
    "outputId": "63573a82-0a3e-4ac4-e9ae-4cb9e1c1c987"
   },
   "outputs": [
    {
     "name": "stdout",
     "output_type": "stream",
     "text": [
      "Estimación de la media poblacional de 'medv': 22.532806324110677\n"
     ]
    }
   ],
   "source": [
    "def estimate_mean(data, idx, x):\n",
    "# Calcula la media de la columna x\n",
    "    mean = data.loc[idx, x].mean()\n",
    "    return mean\n",
    "\n",
    "url = \"https://raw.githubusercontent.com/qlabpucp/datasets/main/datasets/boston.csv\"\n",
    "data = pd.read_csv(url)\n",
    "\n",
    "# Calculamos la media poblacional de la columna 'medv'\n",
    "estimated_mean = estimate_mean(data, data.index, 'medv')\n",
    "print(\"Estimación de la media poblacional de 'medv':\", estimated_mean)"
   ]
  },
  {
   "cell_type": "markdown",
   "id": "d6b7ea3c",
   "metadata": {
    "id": "d6b7ea3c"
   },
   "source": [
    "b)"
   ]
  },
  {
   "cell_type": "code",
   "execution_count": 4,
   "id": "912b1f31",
   "metadata": {
    "colab": {
     "base_uri": "https://localhost:8080/"
    },
    "id": "912b1f31",
    "outputId": "f3f32358-f50f-41fc-b4ef-1a3ddd79927c"
   },
   "outputs": [
    {
     "name": "stdout",
     "output_type": "stream",
     "text": [
      "Estimación del error estándar de mu_hat: 0.40886114749753505\n"
     ]
    }
   ],
   "source": [
    "# Calcular la desviación estándar de la columna 'medv'\n",
    "std_dev = data['medv'].std()\n",
    "\n",
    "# Calcular la raíz cuadrada del número de observaciones\n",
    "num_observations = len(data)\n",
    "sqrt_num_observations = num_observations ** 0.5\n",
    "\n",
    "# Calcular el error estándar\n",
    "standard_error = std_dev / sqrt_num_observations\n",
    "\n",
    "print(\"Estimación del error estándar de mu_hat:\", standard_error)\n"
   ]
  },
  {
   "cell_type": "markdown",
   "id": "7c242c73",
   "metadata": {
    "id": "7c242c73"
   },
   "source": [
    "c)"
   ]
  },
  {
   "cell_type": "code",
   "execution_count": 5,
   "id": "2e9d65fa",
   "metadata": {
    "colab": {
     "base_uri": "https://localhost:8080/"
    },
    "id": "2e9d65fa",
    "outputId": "91ab751d-61c8-41cd-e74c-2ff482b5164b"
   },
   "outputs": [
    {
     "name": "stdout",
     "output_type": "stream",
     "text": [
      "Estimación del error estándar Bootstrap de mu_hat: 0.40917383564209364\n"
     ]
    }
   ],
   "source": [
    "def bootstrap_se(data, x, idx, n_bootstrap):\n",
    "    boot_means = []\n",
    "    for _ in range(n_bootstrap):\n",
    "# Realizamos el remuestreo con reemplazos\n",
    "        bootstrap_sample = np.random.choice(idx, size=len(idx), replace=True)\n",
    "        # Calcular la media usando la función estimate_mean\n",
    "        boot_mean = estimate_mean(data, bootstrap_sample, x)\n",
    "        boot_means.append(boot_mean)\n",
    "# Calculamos el error estándar Bootstrap\n",
    "    boot_std = np.std(boot_means)\n",
    "    return boot_std\n",
    "\n",
    "# Estimamos el error estándar  Bootstrap de mu_hat\n",
    "n_bootstrap = 1000  # Número de remuestreos Bootstrap\n",
    "bootstrap_std_error = bootstrap_se(data, 'medv', data.index, n_bootstrap)\n",
    "\n",
    "print(\"Estimación del error estándar Bootstrap de mu_hat:\", bootstrap_std_error)\n"
   ]
  },
  {
   "cell_type": "markdown",
   "id": "0b5a6735",
   "metadata": {
    "id": "0b5a6735"
   },
   "source": [
    "d)"
   ]
  },
  {
   "cell_type": "code",
   "execution_count": 6,
   "id": "8f2922ee",
   "metadata": {
    "colab": {
     "base_uri": "https://localhost:8080/"
    },
    "id": "8f2922ee",
    "outputId": "fc225d63-35e5-4b66-fd57-c0da2ff1dd86"
   },
   "outputs": [
    {
     "name": "stdout",
     "output_type": "stream",
     "text": [
      "Intervalo de confianza del 95% para la media de 'medv':\n",
      "Inferior: 21.71445865282649\n",
      "Superior: 23.351153995394863\n"
     ]
    }
   ],
   "source": [
    "# Estimamos el intervalo de confianza del 95% para la media de 'medv'\n",
    "confidence_interval_lower = estimated_mean - 2 * bootstrap_std_error\n",
    "confidence_interval_upper = estimated_mean + 2 * bootstrap_std_error\n",
    "\n",
    "print(\"Intervalo de confianza del 95% para la media de 'medv':\")\n",
    "print(\"Inferior:\", confidence_interval_lower)\n",
    "print(\"Superior:\", confidence_interval_upper)\n"
   ]
  },
  {
   "cell_type": "markdown",
   "id": "85848338",
   "metadata": {
    "id": "85848338"
   },
   "source": [
    "e)"
   ]
  },
  {
   "cell_type": "code",
   "execution_count": 7,
   "id": "15930687",
   "metadata": {
    "colab": {
     "base_uri": "https://localhost:8080/"
    },
    "id": "15930687",
    "outputId": "a50e24a5-3c61-4b2f-a039-05d13ccf6de4"
   },
   "outputs": [
    {
     "name": "stdout",
     "output_type": "stream",
     "text": [
      "Estimación de la mediana poblacional de 'medv': 21.2\n"
     ]
    }
   ],
   "source": [
    "def estimate_median(data, idx, x):\n",
    "# Calculamos la mediana de la columna x para las filas correspondientes a los índices dados\n",
    "    median = data.loc[idx, x].median()\n",
    "    return median\n",
    "\n",
    "# Estimamos la mediana poblacional de la columna 'medv'\n",
    "estimated_median = estimate_median(data, data.index, 'medv')\n",
    "print(\"Estimación de la mediana poblacional de 'medv':\", estimated_median)\n"
   ]
  },
  {
   "cell_type": "markdown",
   "id": "188d445a",
   "metadata": {
    "id": "188d445a"
   },
   "source": [
    "f)"
   ]
  },
  {
   "cell_type": "code",
   "execution_count": 8,
   "id": "b6334023",
   "metadata": {
    "colab": {
     "base_uri": "https://localhost:8080/"
    },
    "id": "b6334023",
    "outputId": "e817a3fb-bf45-4647-9edb-8d9c93f03b61"
   },
   "outputs": [
    {
     "name": "stdout",
     "output_type": "stream",
     "text": [
      "Estimación del error estándar Bootstrap de mu_med: 0.36904984758159665\n"
     ]
    }
   ],
   "source": [
    "def bootstrap_se_median(data, x, idx, n_bootstrap):\n",
    "    boot_medians = []\n",
    "    for _ in range(n_bootstrap):\n",
    "        # Realizar remuestreo con reemplazo\n",
    "        bootstrap_sample = np.random.choice(idx, size=len(idx), replace=True)\n",
    "        # Calcular la mediana usando la función estimate_median\n",
    "        boot_median = estimate_median(data, bootstrap_sample, x)\n",
    "        boot_medians.append(boot_median)\n",
    "    # Calcular el error estándar Bootstrap\n",
    "    boot_std = np.std(boot_medians)\n",
    "    return boot_std\n",
    "\n",
    "# Estimar el error estándar Bootstrap de mu_med\n",
    "bootstrap_std_error_median = bootstrap_se_median(data, 'medv', data.index, n_bootstrap)\n",
    "\n",
    "print(\"Estimación del error estándar Bootstrap de mu_med:\", bootstrap_std_error_median)"
   ]
  },
  {
   "cell_type": "markdown",
   "id": "MRMY4myzwbUE",
   "metadata": {
    "id": "MRMY4myzwbUE"
   },
   "source": [
    "Pregunta 02:"
   ]
  },
  {
   "cell_type": "code",
   "execution_count": 9,
   "id": "HbcrfeVcwe4k",
   "metadata": {
    "id": "HbcrfeVcwe4k"
   },
   "outputs": [],
   "source": [
    "import warnings\n",
    "from sklearn.exceptions import ConvergenceWarning\n",
    "warnings.filterwarnings('ignore', message=\"Coordinate descent without L1 regularization may lead to unexpected results and is discouraged.\")\n",
    "warnings.filterwarnings('ignore', category=ConvergenceWarning)"
   ]
  },
  {
   "cell_type": "code",
   "execution_count": 10,
   "id": "l2nKWU_qwjBk",
   "metadata": {
    "id": "l2nKWU_qwjBk"
   },
   "outputs": [],
   "source": [
    "# Basic\n",
    "import numpy as np\n",
    "import pandas as pd\n",
    "from functools import partial\n",
    "\n",
    "# Scikit-Learn\n",
    "import sklearn.model_selection as skm\n",
    "import sklearn.linear_model as skl\n",
    "from sklearn.pipeline import Pipeline\n",
    "from sklearn.preprocessing import StandardScaler\n",
    "from sklearn.metrics import mean_squared_error\n",
    "\n",
    "# Matplotlib\n",
    "from matplotlib.pyplot import subplots"
   ]
  },
  {
   "cell_type": "code",
   "execution_count": 11,
   "id": "Ufxo2a2jwp1V",
   "metadata": {
    "colab": {
     "base_uri": "https://localhost:8080/"
    },
    "id": "Ufxo2a2jwp1V",
    "outputId": "9903b6a4-96c7-4a94-ea1f-cfbd75b5f200"
   },
   "outputs": [
    {
     "name": "stdout",
     "output_type": "stream",
     "text": [
      "      crim    zn  indus  chas    nox     rm   age     dis  rad  tax  ptratio  \\\n",
      "0  0.00632  18.0   2.31     0  0.538  6.575  65.2  4.0900    1  296     15.3   \n",
      "1  0.02731   0.0   7.07     0  0.469  6.421  78.9  4.9671    2  242     17.8   \n",
      "2  0.02729   0.0   7.07     0  0.469  7.185  61.1  4.9671    2  242     17.8   \n",
      "3  0.03237   0.0   2.18     0  0.458  6.998  45.8  6.0622    3  222     18.7   \n",
      "4  0.06905   0.0   2.18     0  0.458  7.147  54.2  6.0622    3  222     18.7   \n",
      "\n",
      "   lstat  medv  \n",
      "0   4.98  24.0  \n",
      "1   9.14  21.6  \n",
      "2   4.03  34.7  \n",
      "3   2.94  33.4  \n",
      "4   5.33  36.2  \n",
      "crim       float64\n",
      "zn         float64\n",
      "indus      float64\n",
      "chas         int64\n",
      "nox        float64\n",
      "rm         float64\n",
      "age        float64\n",
      "dis        float64\n",
      "rad          int64\n",
      "tax          int64\n",
      "ptratio    float64\n",
      "lstat      float64\n",
      "medv       float64\n",
      "dtype: object\n"
     ]
    }
   ],
   "source": [
    "boston = pd.read_csv(\"https://raw.githubusercontent.com/qlabpucp/datasets/main/datasets/boston.csv\")\n",
    "boston = boston.dropna()\n",
    "boston = boston.drop(columns=['Unnamed: 0'])\n",
    "boston = pd.get_dummies(boston, dtype='int')\n",
    "\n",
    "# Mostrar los primeros registros del DataFrame\n",
    "print(boston.head())\n",
    "\n",
    "# Mostrar los tipos de datos de las columnas\n",
    "print(boston.dtypes)"
   ]
  },
  {
   "cell_type": "code",
   "execution_count": 12,
   "id": "6PkxRteywyY8",
   "metadata": {
    "colab": {
     "base_uri": "https://localhost:8080/"
    },
    "id": "6PkxRteywyY8",
    "outputId": "533f0d3d-efee-4622-821a-72d17edd8819"
   },
   "outputs": [
    {
     "data": {
      "text/plain": [
       "(506, 13)"
      ]
     },
     "execution_count": 12,
     "metadata": {},
     "output_type": "execute_result"
    }
   ],
   "source": [
    "boston = boston.reindex()\n",
    "boston.shape"
   ]
  },
  {
   "cell_type": "code",
   "execution_count": 13,
   "id": "m7Nq_Dtgw1rM",
   "metadata": {
    "id": "m7Nq_Dtgw1rM"
   },
   "outputs": [],
   "source": [
    "Y = np.array(boston['crim'])\n",
    "X = boston.drop(columns=['crim'])"
   ]
  },
  {
   "cell_type": "code",
   "execution_count": 14,
   "id": "qshDUbERw4u9",
   "metadata": {
    "id": "qshDUbERw4u9"
   },
   "outputs": [],
   "source": [
    "scaler = StandardScaler()\n",
    "Xs = scaler.fit_transform(X)\n",
    "lambdas = 10**np.linspace(8, -6, 100)\n",
    "soln_array = skl.ElasticNet.path(Xs, Y, l1_ratio=0, alphas=lambdas)[1]"
   ]
  },
  {
   "cell_type": "code",
   "execution_count": 15,
   "id": "4_OcIZkbw6bt",
   "metadata": {
    "colab": {
     "base_uri": "https://localhost:8080/",
     "height": 666
    },
    "id": "4_OcIZkbw6bt",
    "outputId": "7656698a-d5ec-4e93-b442-0224b88ae059"
   },
   "outputs": [
    {
     "data": {
      "application/vnd.google.colaboratory.intrinsic+json": {
       "summary": "{\n  \"name\": \"soln_path\",\n  \"rows\": 100,\n  \"fields\": [\n    {\n      \"column\": \"negative log(lambda)\",\n      \"properties\": {\n        \"dtype\": \"number\",\n        \"std\": 9.446666720086387,\n        \"min\": -13.815510557964274,\n        \"max\": 18.420680743952367,\n        \"num_unique_values\": 100,\n        \"samples\": [\n          -8.60562105462421,\n          1.1629217641384073,\n          -4.372585833160407\n        ],\n        \"semantic_type\": \"\",\n        \"description\": \"\"\n      }\n    },\n    {\n      \"column\": \"zn\",\n      \"properties\": {\n        \"dtype\": \"number\",\n        \"std\": 0.48873989399633805,\n        \"min\": -0.07103148431099052,\n        \"max\": 1.065008241532854,\n        \"num_unique_values\": 100,\n        \"samples\": [\n          1.0635487325154203,\n          -0.018690665980970838,\n          0.9782553920227334\n        ],\n        \"semantic_type\": \"\",\n        \"description\": \"\"\n      }\n    },\n    {\n      \"column\": \"indus\",\n      \"properties\": {\n        \"dtype\": \"number\",\n        \"std\": 0.24109315154377112,\n        \"min\": -0.5352770916408591,\n        \"max\": 0.2885513204716829,\n        \"num_unique_values\": 100,\n        \"samples\": [\n          -0.4014828221059108,\n          0.2885513204716829,\n          -0.4792779863274578\n        ],\n        \"semantic_type\": \"\",\n        \"description\": \"\"\n      }\n    },\n    {\n      \"column\": \"chas\",\n      \"properties\": {\n        \"dtype\": \"number\",\n        \"std\": 0.10059879011378128,\n        \"min\": -0.2209371146827148,\n        \"max\": -4.802786696297304e-09,\n        \"num_unique_values\": 100,\n        \"samples\": [\n          -0.2093627473175034,\n          -0.10023357279085522,\n          -0.2065071203585866\n        ],\n        \"semantic_type\": \"\",\n        \"description\": \"\"\n      }\n    },\n    {\n      \"column\": \"nox\",\n      \"properties\": {\n        \"dtype\": \"number\",\n        \"std\": 0.5574904375797267,\n        \"min\": -1.152706439362718,\n        \"max\": 0.3660910899732232,\n        \"num_unique_values\": 100,\n        \"samples\": [\n          -1.150016433944706,\n          0.34462648899192794,\n          -0.9864744727979122\n        ],\n        \"semantic_type\": \"\",\n        \"description\": \"\"\n      }\n    },\n    {\n      \"column\": \"rm\",\n      \"properties\": {\n        \"dtype\": \"number\",\n        \"std\": 0.21619704380327096,\n        \"min\": -0.12203928425494757,\n        \"max\": 0.44144535435958104,\n        \"num_unique_values\": 100,\n        \"samples\": [\n          0.4412268280888267,\n          -0.11812742452791326,\n          0.4255523151580469\n        ],\n        \"semantic_type\": \"\",\n        \"description\": \"\"\n      }\n    },\n    {\n      \"column\": \"age\",\n      \"properties\": {\n        \"dtype\": \"number\",\n        \"std\": 0.07722310150547988,\n        \"min\": -0.025937008126370023,\n        \"max\": 0.26538539920567644,\n        \"num_unique_values\": 100,\n        \"samples\": [\n          -0.023945383033426734,\n          0.25833528394778005,\n          -0.025682345341408726\n        ],\n        \"semantic_type\": \"\",\n        \"description\": \"\"\n      }\n    },\n    {\n      \"column\": \"dis\",\n      \"properties\": {\n        \"dtype\": \"number\",\n        \"std\": 0.9476098014468256,\n        \"min\": -2.1293764895443243,\n        \"max\": -3.262520547390545e-08,\n        \"num_unique_values\": 100,\n        \"samples\": [\n          -2.126748789576231,\n          -0.33307811306676793,\n          -1.963153867388112\n        ],\n        \"semantic_type\": \"\",\n        \"description\": \"\"\n      }\n    },\n    {\n      \"column\": \"rad\",\n      \"properties\": {\n        \"dtype\": \"number\",\n        \"std\": 2.372437996470567,\n        \"min\": 5.3749913536808835e-08,\n        \"max\": 5.327578333572052,\n        \"num_unique_values\": 100,\n        \"samples\": [\n          5.319637084355706,\n          0.8477503899809702,\n          4.861093798934998\n        ],\n        \"semantic_type\": \"\",\n        \"description\": \"\"\n      }\n    },\n    {\n      \"column\": \"tax\",\n      \"properties\": {\n        \"dtype\": \"number\",\n        \"std\": 0.4997846195644409,\n        \"min\": -0.6356649364772405,\n        \"max\": 1.2129203226537304,\n        \"num_unique_values\": 100,\n        \"samples\": [\n          -0.627944039148938,\n          0.6893759140529008,\n          -0.1947221285741907\n        ],\n        \"semantic_type\": \"\",\n        \"description\": \"\"\n      }\n    },\n    {\n      \"column\": \"ptratio\",\n      \"properties\": {\n        \"dtype\": \"number\",\n        \"std\": 0.3243310772564131,\n        \"min\": -0.6576426548627526,\n        \"max\": 0.2557327490739253,\n        \"num_unique_values\": 100,\n        \"samples\": [\n          -0.6562826684858475,\n          0.24378582049055977,\n          -0.5734861194069971\n        ],\n        \"semantic_type\": \"\",\n        \"description\": \"\"\n      }\n    },\n    {\n      \"column\": \"lstat\",\n      \"properties\": {\n        \"dtype\": \"number\",\n        \"std\": 0.47928609978048403,\n        \"min\": 3.9151739909624955e-08,\n        \"max\": 1.1137013904927098,\n        \"num_unique_values\": 100,\n        \"samples\": [\n          0.9912168903154532,\n          0.46687892715673607,\n          1.0451318367482156\n        ],\n        \"semantic_type\": \"\",\n        \"description\": \"\"\n      }\n    },\n    {\n      \"column\": \"medv\",\n      \"properties\": {\n        \"dtype\": \"number\",\n        \"std\": 0.896148560098079,\n        \"min\": -2.021865207105975,\n        \"max\": -3.3367173675208214e-08,\n        \"num_unique_values\": 100,\n        \"samples\": [\n          -2.0191106980171414,\n          -0.3924706172184002,\n          -1.8544241380723476\n        ],\n        \"semantic_type\": \"\",\n        \"description\": \"\"\n      }\n    }\n  ]\n}",
       "type": "dataframe",
       "variable_name": "soln_path"
      },
      "text/html": [
       "\n",
       "  <div id=\"df-29bc6d26-1c5d-4084-9203-e458048e04e2\" class=\"colab-df-container\">\n",
       "    <div>\n",
       "<style scoped>\n",
       "    .dataframe tbody tr th:only-of-type {\n",
       "        vertical-align: middle;\n",
       "    }\n",
       "\n",
       "    .dataframe tbody tr th {\n",
       "        vertical-align: top;\n",
       "    }\n",
       "\n",
       "    .dataframe thead th {\n",
       "        text-align: right;\n",
       "    }\n",
       "</style>\n",
       "<table border=\"1\" class=\"dataframe\">\n",
       "  <thead>\n",
       "    <tr style=\"text-align: right;\">\n",
       "      <th></th>\n",
       "      <th>zn</th>\n",
       "      <th>indus</th>\n",
       "      <th>chas</th>\n",
       "      <th>nox</th>\n",
       "      <th>rm</th>\n",
       "      <th>age</th>\n",
       "      <th>dis</th>\n",
       "      <th>rad</th>\n",
       "      <th>tax</th>\n",
       "      <th>ptratio</th>\n",
       "      <th>lstat</th>\n",
       "      <th>medv</th>\n",
       "    </tr>\n",
       "    <tr>\n",
       "      <th>negative log(lambda)</th>\n",
       "      <th></th>\n",
       "      <th></th>\n",
       "      <th></th>\n",
       "      <th></th>\n",
       "      <th></th>\n",
       "      <th></th>\n",
       "      <th></th>\n",
       "      <th></th>\n",
       "      <th></th>\n",
       "      <th></th>\n",
       "      <th></th>\n",
       "      <th></th>\n",
       "    </tr>\n",
       "  </thead>\n",
       "  <tbody>\n",
       "    <tr>\n",
       "      <th>18.420681</th>\n",
       "      <td>-1.722640e-08</td>\n",
       "      <td>3.493788e-08</td>\n",
       "      <td>-4.802787e-09</td>\n",
       "      <td>3.617427e-08</td>\n",
       "      <td>-1.883996e-08</td>\n",
       "      <td>3.031060e-08</td>\n",
       "      <td>-3.262521e-08</td>\n",
       "      <td>5.374991e-08</td>\n",
       "      <td>5.007718e-08</td>\n",
       "      <td>2.491514e-08</td>\n",
       "      <td>3.915174e-08</td>\n",
       "      <td>-3.336717e-08</td>\n",
       "    </tr>\n",
       "    <tr>\n",
       "      <th>18.095063</th>\n",
       "      <td>-2.385661e-08</td>\n",
       "      <td>4.838499e-08</td>\n",
       "      <td>-6.651314e-09</td>\n",
       "      <td>5.009725e-08</td>\n",
       "      <td>-2.609120e-08</td>\n",
       "      <td>4.197673e-08</td>\n",
       "      <td>-4.518220e-08</td>\n",
       "      <td>7.443752e-08</td>\n",
       "      <td>6.935120e-08</td>\n",
       "      <td>3.450464e-08</td>\n",
       "      <td>5.422071e-08</td>\n",
       "      <td>-4.620974e-08</td>\n",
       "    </tr>\n",
       "    <tr>\n",
       "      <th>17.769445</th>\n",
       "      <td>-3.303869e-08</td>\n",
       "      <td>6.700771e-08</td>\n",
       "      <td>-9.211314e-09</td>\n",
       "      <td>6.937900e-08</td>\n",
       "      <td>-3.613335e-08</td>\n",
       "      <td>5.813300e-08</td>\n",
       "      <td>-6.257221e-08</td>\n",
       "      <td>1.030875e-07</td>\n",
       "      <td>9.604353e-08</td>\n",
       "      <td>4.778500e-08</td>\n",
       "      <td>7.508952e-08</td>\n",
       "      <td>-6.399524e-08</td>\n",
       "    </tr>\n",
       "    <tr>\n",
       "      <th>17.443826</th>\n",
       "      <td>-4.575483e-08</td>\n",
       "      <td>9.279806e-08</td>\n",
       "      <td>-1.275662e-08</td>\n",
       "      <td>9.608203e-08</td>\n",
       "      <td>-5.004058e-08</td>\n",
       "      <td>8.050760e-08</td>\n",
       "      <td>-8.665540e-08</td>\n",
       "      <td>1.427645e-07</td>\n",
       "      <td>1.330094e-07</td>\n",
       "      <td>6.617680e-08</td>\n",
       "      <td>1.039904e-07</td>\n",
       "      <td>-8.862613e-08</td>\n",
       "    </tr>\n",
       "    <tr>\n",
       "      <th>17.118208</th>\n",
       "      <td>-6.336523e-08</td>\n",
       "      <td>1.285148e-07</td>\n",
       "      <td>-1.766647e-08</td>\n",
       "      <td>1.330627e-07</td>\n",
       "      <td>-6.930051e-08</td>\n",
       "      <td>1.114939e-07</td>\n",
       "      <td>-1.200079e-07</td>\n",
       "      <td>1.977126e-07</td>\n",
       "      <td>1.842028e-07</td>\n",
       "      <td>9.164734e-08</td>\n",
       "      <td>1.440149e-07</td>\n",
       "      <td>-1.227371e-07</td>\n",
       "    </tr>\n",
       "    <tr>\n",
       "      <th>...</th>\n",
       "      <td>...</td>\n",
       "      <td>...</td>\n",
       "      <td>...</td>\n",
       "      <td>...</td>\n",
       "      <td>...</td>\n",
       "      <td>...</td>\n",
       "      <td>...</td>\n",
       "      <td>...</td>\n",
       "      <td>...</td>\n",
       "      <td>...</td>\n",
       "      <td>...</td>\n",
       "      <td>...</td>\n",
       "    </tr>\n",
       "    <tr>\n",
       "      <th>-12.513038</th>\n",
       "      <td>1.064987e+00</td>\n",
       "      <td>-3.999384e-01</td>\n",
       "      <td>-2.094323e-01</td>\n",
       "      <td>-1.152667e+00</td>\n",
       "      <td>4.414421e-01</td>\n",
       "      <td>-2.385633e-02</td>\n",
       "      <td>-2.129338e+00</td>\n",
       "      <td>5.327461e+00</td>\n",
       "      <td>-6.355510e-01</td>\n",
       "      <td>-6.576226e-01</td>\n",
       "      <td>9.902241e-01</td>\n",
       "      <td>-2.021825e+00</td>\n",
       "    </tr>\n",
       "    <tr>\n",
       "      <th>-12.838656</th>\n",
       "      <td>1.064995e+00</td>\n",
       "      <td>-3.999296e-01</td>\n",
       "      <td>-2.094327e-01</td>\n",
       "      <td>-1.152682e+00</td>\n",
       "      <td>4.414434e-01</td>\n",
       "      <td>-2.385582e-02</td>\n",
       "      <td>-2.129353e+00</td>\n",
       "      <td>5.327506e+00</td>\n",
       "      <td>-6.355945e-01</td>\n",
       "      <td>-6.576303e-01</td>\n",
       "      <td>9.902184e-01</td>\n",
       "      <td>-2.021840e+00</td>\n",
       "    </tr>\n",
       "    <tr>\n",
       "      <th>-13.164274</th>\n",
       "      <td>1.065001e+00</td>\n",
       "      <td>-3.999232e-01</td>\n",
       "      <td>-2.094330e-01</td>\n",
       "      <td>-1.152693e+00</td>\n",
       "      <td>4.414443e-01</td>\n",
       "      <td>-2.385545e-02</td>\n",
       "      <td>-2.129363e+00</td>\n",
       "      <td>5.327538e+00</td>\n",
       "      <td>-6.356259e-01</td>\n",
       "      <td>-6.576358e-01</td>\n",
       "      <td>9.902143e-01</td>\n",
       "      <td>-2.021851e+00</td>\n",
       "    </tr>\n",
       "    <tr>\n",
       "      <th>-13.489892</th>\n",
       "      <td>1.065005e+00</td>\n",
       "      <td>-3.999186e-01</td>\n",
       "      <td>-2.094332e-01</td>\n",
       "      <td>-1.152701e+00</td>\n",
       "      <td>4.414449e-01</td>\n",
       "      <td>-2.385518e-02</td>\n",
       "      <td>-2.129371e+00</td>\n",
       "      <td>5.327562e+00</td>\n",
       "      <td>-6.356486e-01</td>\n",
       "      <td>-6.576398e-01</td>\n",
       "      <td>9.902114e-01</td>\n",
       "      <td>-2.021859e+00</td>\n",
       "    </tr>\n",
       "    <tr>\n",
       "      <th>-13.815511</th>\n",
       "      <td>1.065008e+00</td>\n",
       "      <td>-3.999153e-01</td>\n",
       "      <td>-2.094333e-01</td>\n",
       "      <td>-1.152706e+00</td>\n",
       "      <td>4.414454e-01</td>\n",
       "      <td>-2.385499e-02</td>\n",
       "      <td>-2.129376e+00</td>\n",
       "      <td>5.327578e+00</td>\n",
       "      <td>-6.356649e-01</td>\n",
       "      <td>-6.576427e-01</td>\n",
       "      <td>9.902092e-01</td>\n",
       "      <td>-2.021865e+00</td>\n",
       "    </tr>\n",
       "  </tbody>\n",
       "</table>\n",
       "<p>100 rows × 12 columns</p>\n",
       "</div>\n",
       "    <div class=\"colab-df-buttons\">\n",
       "\n",
       "  <div class=\"colab-df-container\">\n",
       "    <button class=\"colab-df-convert\" onclick=\"convertToInteractive('df-29bc6d26-1c5d-4084-9203-e458048e04e2')\"\n",
       "            title=\"Convert this dataframe to an interactive table.\"\n",
       "            style=\"display:none;\">\n",
       "\n",
       "  <svg xmlns=\"http://www.w3.org/2000/svg\" height=\"24px\" viewBox=\"0 -960 960 960\">\n",
       "    <path d=\"M120-120v-720h720v720H120Zm60-500h600v-160H180v160Zm220 220h160v-160H400v160Zm0 220h160v-160H400v160ZM180-400h160v-160H180v160Zm440 0h160v-160H620v160ZM180-180h160v-160H180v160Zm440 0h160v-160H620v160Z\"/>\n",
       "  </svg>\n",
       "    </button>\n",
       "\n",
       "  <style>\n",
       "    .colab-df-container {\n",
       "      display:flex;\n",
       "      gap: 12px;\n",
       "    }\n",
       "\n",
       "    .colab-df-convert {\n",
       "      background-color: #E8F0FE;\n",
       "      border: none;\n",
       "      border-radius: 50%;\n",
       "      cursor: pointer;\n",
       "      display: none;\n",
       "      fill: #1967D2;\n",
       "      height: 32px;\n",
       "      padding: 0 0 0 0;\n",
       "      width: 32px;\n",
       "    }\n",
       "\n",
       "    .colab-df-convert:hover {\n",
       "      background-color: #E2EBFA;\n",
       "      box-shadow: 0px 1px 2px rgba(60, 64, 67, 0.3), 0px 1px 3px 1px rgba(60, 64, 67, 0.15);\n",
       "      fill: #174EA6;\n",
       "    }\n",
       "\n",
       "    .colab-df-buttons div {\n",
       "      margin-bottom: 4px;\n",
       "    }\n",
       "\n",
       "    [theme=dark] .colab-df-convert {\n",
       "      background-color: #3B4455;\n",
       "      fill: #D2E3FC;\n",
       "    }\n",
       "\n",
       "    [theme=dark] .colab-df-convert:hover {\n",
       "      background-color: #434B5C;\n",
       "      box-shadow: 0px 1px 3px 1px rgba(0, 0, 0, 0.15);\n",
       "      filter: drop-shadow(0px 1px 2px rgba(0, 0, 0, 0.3));\n",
       "      fill: #FFFFFF;\n",
       "    }\n",
       "  </style>\n",
       "\n",
       "    <script>\n",
       "      const buttonEl =\n",
       "        document.querySelector('#df-29bc6d26-1c5d-4084-9203-e458048e04e2 button.colab-df-convert');\n",
       "      buttonEl.style.display =\n",
       "        google.colab.kernel.accessAllowed ? 'block' : 'none';\n",
       "\n",
       "      async function convertToInteractive(key) {\n",
       "        const element = document.querySelector('#df-29bc6d26-1c5d-4084-9203-e458048e04e2');\n",
       "        const dataTable =\n",
       "          await google.colab.kernel.invokeFunction('convertToInteractive',\n",
       "                                                    [key], {});\n",
       "        if (!dataTable) return;\n",
       "\n",
       "        const docLinkHtml = 'Like what you see? Visit the ' +\n",
       "          '<a target=\"_blank\" href=https://colab.research.google.com/notebooks/data_table.ipynb>data table notebook</a>'\n",
       "          + ' to learn more about interactive tables.';\n",
       "        element.innerHTML = '';\n",
       "        dataTable['output_type'] = 'display_data';\n",
       "        await google.colab.output.renderOutput(dataTable, element);\n",
       "        const docLink = document.createElement('div');\n",
       "        docLink.innerHTML = docLinkHtml;\n",
       "        element.appendChild(docLink);\n",
       "      }\n",
       "    </script>\n",
       "  </div>\n",
       "\n",
       "\n",
       "<div id=\"df-5fa3a2f6-203f-4a80-bc0c-b67483e0ab7b\">\n",
       "  <button class=\"colab-df-quickchart\" onclick=\"quickchart('df-5fa3a2f6-203f-4a80-bc0c-b67483e0ab7b')\"\n",
       "            title=\"Suggest charts\"\n",
       "            style=\"display:none;\">\n",
       "\n",
       "<svg xmlns=\"http://www.w3.org/2000/svg\" height=\"24px\"viewBox=\"0 0 24 24\"\n",
       "     width=\"24px\">\n",
       "    <g>\n",
       "        <path d=\"M19 3H5c-1.1 0-2 .9-2 2v14c0 1.1.9 2 2 2h14c1.1 0 2-.9 2-2V5c0-1.1-.9-2-2-2zM9 17H7v-7h2v7zm4 0h-2V7h2v10zm4 0h-2v-4h2v4z\"/>\n",
       "    </g>\n",
       "</svg>\n",
       "  </button>\n",
       "\n",
       "<style>\n",
       "  .colab-df-quickchart {\n",
       "      --bg-color: #E8F0FE;\n",
       "      --fill-color: #1967D2;\n",
       "      --hover-bg-color: #E2EBFA;\n",
       "      --hover-fill-color: #174EA6;\n",
       "      --disabled-fill-color: #AAA;\n",
       "      --disabled-bg-color: #DDD;\n",
       "  }\n",
       "\n",
       "  [theme=dark] .colab-df-quickchart {\n",
       "      --bg-color: #3B4455;\n",
       "      --fill-color: #D2E3FC;\n",
       "      --hover-bg-color: #434B5C;\n",
       "      --hover-fill-color: #FFFFFF;\n",
       "      --disabled-bg-color: #3B4455;\n",
       "      --disabled-fill-color: #666;\n",
       "  }\n",
       "\n",
       "  .colab-df-quickchart {\n",
       "    background-color: var(--bg-color);\n",
       "    border: none;\n",
       "    border-radius: 50%;\n",
       "    cursor: pointer;\n",
       "    display: none;\n",
       "    fill: var(--fill-color);\n",
       "    height: 32px;\n",
       "    padding: 0;\n",
       "    width: 32px;\n",
       "  }\n",
       "\n",
       "  .colab-df-quickchart:hover {\n",
       "    background-color: var(--hover-bg-color);\n",
       "    box-shadow: 0 1px 2px rgba(60, 64, 67, 0.3), 0 1px 3px 1px rgba(60, 64, 67, 0.15);\n",
       "    fill: var(--button-hover-fill-color);\n",
       "  }\n",
       "\n",
       "  .colab-df-quickchart-complete:disabled,\n",
       "  .colab-df-quickchart-complete:disabled:hover {\n",
       "    background-color: var(--disabled-bg-color);\n",
       "    fill: var(--disabled-fill-color);\n",
       "    box-shadow: none;\n",
       "  }\n",
       "\n",
       "  .colab-df-spinner {\n",
       "    border: 2px solid var(--fill-color);\n",
       "    border-color: transparent;\n",
       "    border-bottom-color: var(--fill-color);\n",
       "    animation:\n",
       "      spin 1s steps(1) infinite;\n",
       "  }\n",
       "\n",
       "  @keyframes spin {\n",
       "    0% {\n",
       "      border-color: transparent;\n",
       "      border-bottom-color: var(--fill-color);\n",
       "      border-left-color: var(--fill-color);\n",
       "    }\n",
       "    20% {\n",
       "      border-color: transparent;\n",
       "      border-left-color: var(--fill-color);\n",
       "      border-top-color: var(--fill-color);\n",
       "    }\n",
       "    30% {\n",
       "      border-color: transparent;\n",
       "      border-left-color: var(--fill-color);\n",
       "      border-top-color: var(--fill-color);\n",
       "      border-right-color: var(--fill-color);\n",
       "    }\n",
       "    40% {\n",
       "      border-color: transparent;\n",
       "      border-right-color: var(--fill-color);\n",
       "      border-top-color: var(--fill-color);\n",
       "    }\n",
       "    60% {\n",
       "      border-color: transparent;\n",
       "      border-right-color: var(--fill-color);\n",
       "    }\n",
       "    80% {\n",
       "      border-color: transparent;\n",
       "      border-right-color: var(--fill-color);\n",
       "      border-bottom-color: var(--fill-color);\n",
       "    }\n",
       "    90% {\n",
       "      border-color: transparent;\n",
       "      border-bottom-color: var(--fill-color);\n",
       "    }\n",
       "  }\n",
       "</style>\n",
       "\n",
       "  <script>\n",
       "    async function quickchart(key) {\n",
       "      const quickchartButtonEl =\n",
       "        document.querySelector('#' + key + ' button');\n",
       "      quickchartButtonEl.disabled = true;  // To prevent multiple clicks.\n",
       "      quickchartButtonEl.classList.add('colab-df-spinner');\n",
       "      try {\n",
       "        const charts = await google.colab.kernel.invokeFunction(\n",
       "            'suggestCharts', [key], {});\n",
       "      } catch (error) {\n",
       "        console.error('Error during call to suggestCharts:', error);\n",
       "      }\n",
       "      quickchartButtonEl.classList.remove('colab-df-spinner');\n",
       "      quickchartButtonEl.classList.add('colab-df-quickchart-complete');\n",
       "    }\n",
       "    (() => {\n",
       "      let quickchartButtonEl =\n",
       "        document.querySelector('#df-5fa3a2f6-203f-4a80-bc0c-b67483e0ab7b button');\n",
       "      quickchartButtonEl.style.display =\n",
       "        google.colab.kernel.accessAllowed ? 'block' : 'none';\n",
       "    })();\n",
       "  </script>\n",
       "</div>\n",
       "\n",
       "  <div id=\"id_1b9c339d-15ea-45a5-8371-432844ffbf96\">\n",
       "    <style>\n",
       "      .colab-df-generate {\n",
       "        background-color: #E8F0FE;\n",
       "        border: none;\n",
       "        border-radius: 50%;\n",
       "        cursor: pointer;\n",
       "        display: none;\n",
       "        fill: #1967D2;\n",
       "        height: 32px;\n",
       "        padding: 0 0 0 0;\n",
       "        width: 32px;\n",
       "      }\n",
       "\n",
       "      .colab-df-generate:hover {\n",
       "        background-color: #E2EBFA;\n",
       "        box-shadow: 0px 1px 2px rgba(60, 64, 67, 0.3), 0px 1px 3px 1px rgba(60, 64, 67, 0.15);\n",
       "        fill: #174EA6;\n",
       "      }\n",
       "\n",
       "      [theme=dark] .colab-df-generate {\n",
       "        background-color: #3B4455;\n",
       "        fill: #D2E3FC;\n",
       "      }\n",
       "\n",
       "      [theme=dark] .colab-df-generate:hover {\n",
       "        background-color: #434B5C;\n",
       "        box-shadow: 0px 1px 3px 1px rgba(0, 0, 0, 0.15);\n",
       "        filter: drop-shadow(0px 1px 2px rgba(0, 0, 0, 0.3));\n",
       "        fill: #FFFFFF;\n",
       "      }\n",
       "    </style>\n",
       "    <button class=\"colab-df-generate\" onclick=\"generateWithVariable('soln_path')\"\n",
       "            title=\"Generate code using this dataframe.\"\n",
       "            style=\"display:none;\">\n",
       "\n",
       "  <svg xmlns=\"http://www.w3.org/2000/svg\" height=\"24px\"viewBox=\"0 0 24 24\"\n",
       "       width=\"24px\">\n",
       "    <path d=\"M7,19H8.4L18.45,9,17,7.55,7,17.6ZM5,21V16.75L18.45,3.32a2,2,0,0,1,2.83,0l1.4,1.43a1.91,1.91,0,0,1,.58,1.4,1.91,1.91,0,0,1-.58,1.4L9.25,21ZM18.45,9,17,7.55Zm-12,3A5.31,5.31,0,0,0,4.9,8.1,5.31,5.31,0,0,0,1,6.5,5.31,5.31,0,0,0,4.9,4.9,5.31,5.31,0,0,0,6.5,1,5.31,5.31,0,0,0,8.1,4.9,5.31,5.31,0,0,0,12,6.5,5.46,5.46,0,0,0,6.5,12Z\"/>\n",
       "  </svg>\n",
       "    </button>\n",
       "    <script>\n",
       "      (() => {\n",
       "      const buttonEl =\n",
       "        document.querySelector('#id_1b9c339d-15ea-45a5-8371-432844ffbf96 button.colab-df-generate');\n",
       "      buttonEl.style.display =\n",
       "        google.colab.kernel.accessAllowed ? 'block' : 'none';\n",
       "\n",
       "      buttonEl.onclick = () => {\n",
       "        google.colab.notebook.generateWithVariable('soln_path');\n",
       "      }\n",
       "      })();\n",
       "    </script>\n",
       "  </div>\n",
       "\n",
       "    </div>\n",
       "  </div>\n"
      ],
      "text/plain": [
       "                                zn         indus          chas           nox  \\\n",
       "negative log(lambda)                                                           \n",
       " 18.420681           -1.722640e-08  3.493788e-08 -4.802787e-09  3.617427e-08   \n",
       " 18.095063           -2.385661e-08  4.838499e-08 -6.651314e-09  5.009725e-08   \n",
       " 17.769445           -3.303869e-08  6.700771e-08 -9.211314e-09  6.937900e-08   \n",
       " 17.443826           -4.575483e-08  9.279806e-08 -1.275662e-08  9.608203e-08   \n",
       " 17.118208           -6.336523e-08  1.285148e-07 -1.766647e-08  1.330627e-07   \n",
       "...                            ...           ...           ...           ...   \n",
       "-12.513038            1.064987e+00 -3.999384e-01 -2.094323e-01 -1.152667e+00   \n",
       "-12.838656            1.064995e+00 -3.999296e-01 -2.094327e-01 -1.152682e+00   \n",
       "-13.164274            1.065001e+00 -3.999232e-01 -2.094330e-01 -1.152693e+00   \n",
       "-13.489892            1.065005e+00 -3.999186e-01 -2.094332e-01 -1.152701e+00   \n",
       "-13.815511            1.065008e+00 -3.999153e-01 -2.094333e-01 -1.152706e+00   \n",
       "\n",
       "                                rm           age           dis           rad  \\\n",
       "negative log(lambda)                                                           \n",
       " 18.420681           -1.883996e-08  3.031060e-08 -3.262521e-08  5.374991e-08   \n",
       " 18.095063           -2.609120e-08  4.197673e-08 -4.518220e-08  7.443752e-08   \n",
       " 17.769445           -3.613335e-08  5.813300e-08 -6.257221e-08  1.030875e-07   \n",
       " 17.443826           -5.004058e-08  8.050760e-08 -8.665540e-08  1.427645e-07   \n",
       " 17.118208           -6.930051e-08  1.114939e-07 -1.200079e-07  1.977126e-07   \n",
       "...                            ...           ...           ...           ...   \n",
       "-12.513038            4.414421e-01 -2.385633e-02 -2.129338e+00  5.327461e+00   \n",
       "-12.838656            4.414434e-01 -2.385582e-02 -2.129353e+00  5.327506e+00   \n",
       "-13.164274            4.414443e-01 -2.385545e-02 -2.129363e+00  5.327538e+00   \n",
       "-13.489892            4.414449e-01 -2.385518e-02 -2.129371e+00  5.327562e+00   \n",
       "-13.815511            4.414454e-01 -2.385499e-02 -2.129376e+00  5.327578e+00   \n",
       "\n",
       "                               tax       ptratio         lstat          medv  \n",
       "negative log(lambda)                                                          \n",
       " 18.420681            5.007718e-08  2.491514e-08  3.915174e-08 -3.336717e-08  \n",
       " 18.095063            6.935120e-08  3.450464e-08  5.422071e-08 -4.620974e-08  \n",
       " 17.769445            9.604353e-08  4.778500e-08  7.508952e-08 -6.399524e-08  \n",
       " 17.443826            1.330094e-07  6.617680e-08  1.039904e-07 -8.862613e-08  \n",
       " 17.118208            1.842028e-07  9.164734e-08  1.440149e-07 -1.227371e-07  \n",
       "...                            ...           ...           ...           ...  \n",
       "-12.513038           -6.355510e-01 -6.576226e-01  9.902241e-01 -2.021825e+00  \n",
       "-12.838656           -6.355945e-01 -6.576303e-01  9.902184e-01 -2.021840e+00  \n",
       "-13.164274           -6.356259e-01 -6.576358e-01  9.902143e-01 -2.021851e+00  \n",
       "-13.489892           -6.356486e-01 -6.576398e-01  9.902114e-01 -2.021859e+00  \n",
       "-13.815511           -6.356649e-01 -6.576427e-01  9.902092e-01 -2.021865e+00  \n",
       "\n",
       "[100 rows x 12 columns]"
      ]
     },
     "execution_count": 15,
     "metadata": {},
     "output_type": "execute_result"
    }
   ],
   "source": [
    "soln_path = pd.DataFrame(soln_array.T, columns=X.columns, index=np.log(lambdas))\n",
    "soln_path.index.name = 'negative log(lambda)'\n",
    "soln_path"
   ]
  },
  {
   "cell_type": "code",
   "execution_count": 16,
   "id": "Fc-V1cq4xAOd",
   "metadata": {
    "colab": {
     "base_uri": "https://localhost:8080/",
     "height": 807
    },
    "id": "Fc-V1cq4xAOd",
    "outputId": "738e47fe-8f32-442a-d70f-02442e5666f7"
   },
   "outputs": [
    {
     "data": {
      "image/png": "[encoded data removed]",
      "text/plain": [
       "<Figure size 800x800 with 1 Axes>"
      ]
     },
     "metadata": {},
     "output_type": "display_data"
    }
   ],
   "source": [
    "path_fig, ax = subplots(figsize=(8, 8))\n",
    "soln_path.plot(ax=ax, legend=True)\n",
    "ax.set_xlabel(r'$\\log(\\lambda)$', fontsize=15)\n",
    "ax.set_ylabel('Standardized coefficients', fontsize=15)\n",
    "ax.legend(loc='center left', bbox_to_anchor=(1, 0.5))\n",
    "path_fig.tight_layout()"
   ]
  },
  {
   "cell_type": "code",
   "execution_count": 17,
   "id": "wTeNTa2wxIzl",
   "metadata": {
    "id": "wTeNTa2wxIzl"
   },
   "outputs": [],
   "source": [
    "ridge = skl.ElasticNet(l1_ratio=0)\n",
    "scaler = StandardScaler(with_mean=True, with_std=True)\n",
    "pipe = Pipeline(steps=[('scaler', scaler), ('ridge', ridge)])"
   ]
  },
  {
   "cell_type": "code",
   "execution_count": 18,
   "id": "S8z7pcpGxLcP",
   "metadata": {
    "colab": {
     "base_uri": "https://localhost:8080/",
     "height": 126
    },
    "id": "S8z7pcpGxLcP",
    "outputId": "3aa7978f-4eae-43cf-ff72-ee5876be4673"
   },
   "outputs": [
    {
     "data": {
      "text/html": [
       "<style>#sk-container-id-1 {color: black;background-color: white;}#sk-container-id-1 pre{padding: 0;}#sk-container-id-1 div.sk-toggleable {background-color: white;}#sk-container-id-1 label.sk-toggleable__label {cursor: pointer;display: block;width: 100%;margin-bottom: 0;padding: 0.3em;box-sizing: border-box;text-align: center;}#sk-container-id-1 label.sk-toggleable__label-arrow:before {content: \"▸\";float: left;margin-right: 0.25em;color: #696969;}#sk-container-id-1 label.sk-toggleable__label-arrow:hover:before {color: black;}#sk-container-id-1 div.sk-estimator:hover label.sk-toggleable__label-arrow:before {color: black;}#sk-container-id-1 div.sk-toggleable__content {max-height: 0;max-width: 0;overflow: hidden;text-align: left;background-color: #f0f8ff;}#sk-container-id-1 div.sk-toggleable__content pre {margin: 0.2em;color: black;border-radius: 0.25em;background-color: #f0f8ff;}#sk-container-id-1 input.sk-toggleable__control:checked~div.sk-toggleable__content {max-height: 200px;max-width: 100%;overflow: auto;}#sk-container-id-1 input.sk-toggleable__control:checked~label.sk-toggleable__label-arrow:before {content: \"▾\";}#sk-container-id-1 div.sk-estimator input.sk-toggleable__control:checked~label.sk-toggleable__label {background-color: #d4ebff;}#sk-container-id-1 div.sk-label input.sk-toggleable__control:checked~label.sk-toggleable__label {background-color: #d4ebff;}#sk-container-id-1 input.sk-hidden--visually {border: 0;clip: rect(1px 1px 1px 1px);clip: rect(1px, 1px, 1px, 1px);height: 1px;margin: -1px;overflow: hidden;padding: 0;position: absolute;width: 1px;}#sk-container-id-1 div.sk-estimator {font-family: monospace;background-color: #f0f8ff;border: 1px dotted black;border-radius: 0.25em;box-sizing: border-box;margin-bottom: 0.5em;}#sk-container-id-1 div.sk-estimator:hover {background-color: #d4ebff;}#sk-container-id-1 div.sk-parallel-item::after {content: \"\";width: 100%;border-bottom: 1px solid gray;flex-grow: 1;}#sk-container-id-1 div.sk-label:hover label.sk-toggleable__label {background-color: #d4ebff;}#sk-container-id-1 div.sk-serial::before {content: \"\";position: absolute;border-left: 1px solid gray;box-sizing: border-box;top: 0;bottom: 0;left: 50%;z-index: 0;}#sk-container-id-1 div.sk-serial {display: flex;flex-direction: column;align-items: center;background-color: white;padding-right: 0.2em;padding-left: 0.2em;position: relative;}#sk-container-id-1 div.sk-item {position: relative;z-index: 1;}#sk-container-id-1 div.sk-parallel {display: flex;align-items: stretch;justify-content: center;background-color: white;position: relative;}#sk-container-id-1 div.sk-item::before, #sk-container-id-1 div.sk-parallel-item::before {content: \"\";position: absolute;border-left: 1px solid gray;box-sizing: border-box;top: 0;bottom: 0;left: 50%;z-index: -1;}#sk-container-id-1 div.sk-parallel-item {display: flex;flex-direction: column;z-index: 1;position: relative;background-color: white;}#sk-container-id-1 div.sk-parallel-item:first-child::after {align-self: flex-end;width: 50%;}#sk-container-id-1 div.sk-parallel-item:last-child::after {align-self: flex-start;width: 50%;}#sk-container-id-1 div.sk-parallel-item:only-child::after {width: 0;}#sk-container-id-1 div.sk-dashed-wrapped {border: 1px dashed gray;margin: 0 0.4em 0.5em 0.4em;box-sizing: border-box;padding-bottom: 0.4em;background-color: white;}#sk-container-id-1 div.sk-label label {font-family: monospace;font-weight: bold;display: inline-block;line-height: 1.2em;}#sk-container-id-1 div.sk-label-container {text-align: center;}#sk-container-id-1 div.sk-container {/* jupyter's `normalize.less` sets `[hidden] { display: none; }` but bootstrap.min.css set `[hidden] { display: none !important; }` so we also need the `!important` here to be able to override the default hidden behavior on the sphinx rendered scikit-learn.org. See: https://github.com/scikit-learn/scikit-learn/issues/21755 */display: inline-block !important;position: relative;}#sk-container-id-1 div.sk-text-repr-fallback {display: none;}</style><div id=\"sk-container-id-1\" class=\"sk-top-container\"><div class=\"sk-text-repr-fallback\"><pre>Pipeline(steps=[(&#x27;scaler&#x27;, StandardScaler()),\n",
       "                (&#x27;ridge&#x27;, ElasticNet(alpha=0.004750810162102793, l1_ratio=0))])</pre><b>In a Jupyter environment, please rerun this cell to show the HTML representation or trust the notebook. <br />On GitHub, the HTML representation is unable to render, please try loading this page with nbviewer.org.</b></div><div class=\"sk-container\" hidden><div class=\"sk-item sk-dashed-wrapped\"><div class=\"sk-label-container\"><div class=\"sk-label sk-toggleable\"><input class=\"sk-toggleable__control sk-hidden--visually\" id=\"sk-estimator-id-1\" type=\"checkbox\" ><label for=\"sk-estimator-id-1\" class=\"sk-toggleable__label sk-toggleable__label-arrow\">Pipeline</label><div class=\"sk-toggleable__content\"><pre>Pipeline(steps=[(&#x27;scaler&#x27;, StandardScaler()),\n",
       "                (&#x27;ridge&#x27;, ElasticNet(alpha=0.004750810162102793, l1_ratio=0))])</pre></div></div></div><div class=\"sk-serial\"><div class=\"sk-item\"><div class=\"sk-estimator sk-toggleable\"><input class=\"sk-toggleable__control sk-hidden--visually\" id=\"sk-estimator-id-2\" type=\"checkbox\" ><label for=\"sk-estimator-id-2\" class=\"sk-toggleable__label sk-toggleable__label-arrow\">StandardScaler</label><div class=\"sk-toggleable__content\"><pre>StandardScaler()</pre></div></div></div><div class=\"sk-item\"><div class=\"sk-estimator sk-toggleable\"><input class=\"sk-toggleable__control sk-hidden--visually\" id=\"sk-estimator-id-3\" type=\"checkbox\" ><label for=\"sk-estimator-id-3\" class=\"sk-toggleable__label sk-toggleable__label-arrow\">ElasticNet</label><div class=\"sk-toggleable__content\"><pre>ElasticNet(alpha=0.004750810162102793, l1_ratio=0)</pre></div></div></div></div></div></div></div>"
      ],
      "text/plain": [
       "Pipeline(steps=[('scaler', StandardScaler()),\n",
       "                ('ridge', ElasticNet(alpha=0.004750810162102793, l1_ratio=0))])"
      ]
     },
     "execution_count": 18,
     "metadata": {},
     "output_type": "execute_result"
    }
   ],
   "source": [
    "K          = 5\n",
    "kfold      = skm.KFold(K, random_state=0, shuffle=True)\n",
    "lambdas    = 10**np.linspace(8, -6, 100)\n",
    "param_grid = {'ridge__alpha': lambdas}\n",
    "grid       = skm.GridSearchCV(pipe, param_grid, cv=kfold, scoring='neg_mean_squared_error')\n",
    "grid.fit(X, Y)\n",
    "grid.best_estimator_"
   ]
  },
  {
   "cell_type": "code",
   "execution_count": 19,
   "id": "isI_BLDKxPv-",
   "metadata": {
    "colab": {
     "base_uri": "https://localhost:8080/",
     "height": 569
    },
    "id": "isI_BLDKxPv-",
    "outputId": "bc04031f-7999-4717-e155-141974ded2e1"
   },
   "outputs": [
    {
     "data": {
      "text/plain": [
       "Text(0, 0.5, 'Cross-validated MSE')"
      ]
     },
     "execution_count": 19,
     "metadata": {},
     "output_type": "execute_result"
    },
    {
     "data": {
      "image/png": "[encoded data removed]",
      "text/plain": [
       "<Figure size 800x600 with 1 Axes>"
      ]
     },
     "metadata": {},
     "output_type": "display_data"
    }
   ],
   "source": [
    "ridge_fig, ax = subplots(figsize=(8,6))\n",
    "ax.errorbar(np.log(lambdas), -grid.cv_results_['mean_test_score'], yerr=grid.cv_results_['std_test_score'] / np.sqrt(K))\n",
    "ax.set_xlabel(r'$\\log(\\lambda)$', fontsize=15)\n",
    "ax.set_ylabel('Cross-validated MSE', fontsize=15)"
   ]
  },
  {
   "cell_type": "code",
   "execution_count": 20,
   "id": "_n0x7hbRxXdW",
   "metadata": {
    "colab": {
     "base_uri": "https://localhost:8080/",
     "height": 569
    },
    "id": "_n0x7hbRxXdW",
    "outputId": "2fd46882-caeb-4d6b-9935-239b4ffa6160"
   },
   "outputs": [
    {
     "data": {
      "text/plain": [
       "Text(0, 0.5, 'Cross-validated $R^2$')"
      ]
     },
     "execution_count": 20,
     "metadata": {},
     "output_type": "execute_result"
    },
    {
     "data": {
      "image/png": "[encoded data removed]",
      "text/plain": [
       "<Figure size 800x600 with 1 Axes>"
      ]
     },
     "metadata": {},
     "output_type": "display_data"
    }
   ],
   "source": [
    "grid_r2 = skm.GridSearchCV(pipe, param_grid, cv=kfold, scoring ='r2')\n",
    "grid_r2.fit(X, Y)\n",
    "\n",
    "r2_fig, ax = subplots(figsize=(8,6))\n",
    "ax.errorbar(np.log(lambdas),\n",
    "grid_r2.cv_results_['mean_test_score'],\n",
    "yerr=grid_r2.cv_results_['std_test_score'] / np.sqrt(K))\n",
    "ax.set_xlabel(r'$\\log(\\lambda)$', fontsize=15)\n",
    "ax.set_ylabel('Cross-validated $R^2$', fontsize=15)"
   ]
  },
  {
   "cell_type": "markdown",
   "id": "6cMozbnDjPv4",
   "metadata": {
    "id": "6cMozbnDjPv4"
   },
   "source": [
    "a)I. Aumentará inicialmente, y luego comenzará a disminuir en forma de U invertida.Cuando λ se incrementa desde 0, se penaliza más el modelo por tener coeficientes grandes, lo que puede llevar a una disminución en la capacidad del modelo para ajustarse a los datos de entrenamiento. Esto puede causar un aumento inicial en la métrica RSS, seguido de una disminución a medida que el modelo se ajusta mejor a los datos con coeficientes más pequeños."
   ]
  },
  {
   "cell_type": "markdown",
   "id": "this6RVkldlV",
   "metadata": {
    "id": "this6RVkldlV"
   },
   "source": []
  },
  {
   "cell_type": "markdown",
   "id": "YB22vLZqk-fL",
   "metadata": {
    "id": "YB22vLZqk-fL"
   },
   "source": [
    "c)II. Verdadero. Al aumentar λ, los coeficientes del modelo se ven más penalizados, lo que puede llevar a una disminución inicial de la varianza de los coeficientes. Sin embargo, a medida que λ continúa aumentando, los coeficientes se vuelven cada vez más pequeños y tienden a converger hacia cero, lo que eventualmente puede aumentar la varianza de los coeficientes debido a una mayor sensibilidad a pequeñas variaciones en los datos de entrenamiento"
   ]
  },
  {
   "cell_type": "markdown",
   "id": "eQO3OUKVlJnL",
   "metadata": {
    "id": "eQO3OUKVlJnL"
   },
   "source": [
    "d)II. Verdadero. Al aumentar λ, los coeficientes del modelo se ven más penalizados, lo que puede llevar a una disminución inicial en el sesgo del modelo. Sin embargo, a medida que λ continúa aumentando, los coeficientes tienden a converger hacia cero, lo que puede aumentar el sesgo del modelo debido a una mayor regularización que puede llevar a una simplificación excesiva del modelo."
   ]
  },
  {
   "cell_type": "markdown",
   "id": "2g1ynxz0k74E",
   "metadata": {
    "id": "2g1ynxz0k74E"
   },
   "source": [
    "b)II. Verdadero. Cuando λ se incrementa desde 0, el modelo se penaliza más por tener coeficientes grandes, lo que puede llevar a una disminución en la capacidad del modelo para ajustarse a los datos de entrenamiento. Si esta penalización es lo suficientemente fuerte, el modelo podría empezar a generalizar mejor en datos no observados, lo que resultaría en una disminución inicial en la métrica RSS de prueba. Sin embargo, a medida que λ continúa aumentando, es probable que el modelo se sobreajuste a los datos de entrenamiento, lo que llevará a un aumento en la métrica RSS de prueba."
   ]
  },
  {
   "cell_type": "markdown",
   "id": "KSWJOuQ3mCk1",
   "metadata": {
    "id": "KSWJOuQ3mCk1"
   },
   "source": [
    "Pregunta 03:"
   ]
  },
  {
   "cell_type": "code",
   "execution_count": 22,
   "id": "Cnglz49unihZ",
   "metadata": {
    "colab": {
     "base_uri": "https://localhost:8080/"
    },
    "id": "Cnglz49unihZ",
    "outputId": "4476d3ef-41d9-4fd6-d698-cf57fa3a045e"
   },
   "outputs": [
    {
     "name": "stdout",
     "output_type": "stream",
     "text": [
      "Requirement already satisfied: pandas in /usr/local/lib/python3.10/dist-packages (2.0.3)\n",
      "Requirement already satisfied: python-dateutil>=2.8.2 in /usr/local/lib/python3.10/dist-packages (from pandas) (2.8.2)\n",
      "Requirement already satisfied: pytz>=2020.1 in /usr/local/lib/python3.10/dist-packages (from pandas) (2023.4)\n",
      "Requirement already satisfied: tzdata>=2022.1 in /usr/local/lib/python3.10/dist-packages (from pandas) (2024.1)\n",
      "Requirement already satisfied: numpy>=1.21.0 in /usr/local/lib/python3.10/dist-packages (from pandas) (1.25.2)\n",
      "Requirement already satisfied: six>=1.5 in /usr/local/lib/python3.10/dist-packages (from python-dateutil>=2.8.2->pandas) (1.16.0)\n"
     ]
    }
   ],
   "source": [
    "# !pip install pandas"
   ]
  },
  {
   "cell_type": "code",
   "execution_count": 28,
   "id": "Ixw_nJFioGNp",
   "metadata": {
    "id": "Ixw_nJFioGNp"
   },
   "outputs": [],
   "source": [
    "crime_df = pd.read_csv(\"https://raw.githubusercontent.com/qlabpucp/datasets/main/datasets/boston.csv\")"
   ]
  },
  {
   "cell_type": "code",
   "execution_count": 29,
   "id": "Nt6Z_HAvoZRR",
   "metadata": {
    "id": "Nt6Z_HAvoZRR"
   },
   "outputs": [],
   "source": [
    "# Extract the target and predictor variables\n",
    "target = ['crim']\n",
    "predictors = [var for var in crime_df.columns if var not in target]\n",
    "\n",
    "# Split the data into training and testing sets\n",
    "X_train, X_test, y_train, y_test = skm.train_test_split(crime_df[predictors], crime_df[target], test_size=0.25, random_state=1)\n",
    "\n",
    "# Flatten the target arrays\n",
    "y_train = np.ravel(y_train)\n",
    "y_test = np.ravel(y_test)"
   ]
  },
  {
   "cell_type": "code",
   "execution_count": 30,
   "id": "UsRJZE0rod95",
   "metadata": {
    "id": "UsRJZE0rod95"
   },
   "outputs": [],
   "source": [
    "cv = skm.KFold(n_splits=5, shuffle=True, random_state=0)\n",
    "lambdas = 10**np.linspace(8, -6, 100)\n",
    "scaler  = StandardScaler(with_mean=True, with_std=True)"
   ]
  },
  {
   "cell_type": "code",
   "execution_count": 31,
   "id": "A4uxUyBrogui",
   "metadata": {
    "id": "A4uxUyBrogui"
   },
   "outputs": [],
   "source": [
    "ridgeCV = skl.ElasticNetCV(alphas=lambdas, l1_ratio=0, cv=kfold)\n",
    "pipeCV = Pipeline(steps=[('scaler', scaler), ('ridge', ridgeCV)])\n",
    "pipeCV.fit(X_train, y_train)\n",
    "y_pred_ridge = pipeCV.predict(X_test)"
   ]
  },
  {
   "cell_type": "code",
   "execution_count": 32,
   "id": "K51gKrNaojRJ",
   "metadata": {
    "colab": {
     "base_uri": "https://localhost:8080/",
     "height": 731
    },
    "id": "K51gKrNaojRJ",
    "outputId": "af12b97d-4cc3-4802-c0db-84d030856269"
   },
   "outputs": [
    {
     "data": {
      "text/plain": [
       "Text(0, 0.5, 'Cross-validated MSE')"
      ]
     },
     "execution_count": 32,
     "metadata": {},
     "output_type": "execute_result"
    },
    {
     "data": {
      "image/png": "[encoded data removed]",
      "text/plain": [
       "<Figure size 800x800 with 1 Axes>"
      ]
     },
     "metadata": {},
     "output_type": "display_data"
    }
   ],
   "source": [
    "tuned_ridge = pipeCV.named_steps['ridge']\n",
    "ridgeCV_fig, ax = subplots(figsize=(8,8))\n",
    "ax.errorbar(np.log(lambdas), tuned_ridge.mse_path_.mean(1), yerr=tuned_ridge.mse_path_.std(1) / np.sqrt(K))\n",
    "ax.axvline(np.log(tuned_ridge.alpha_), c='k', ls='--')\n",
    "ax.set_xlabel(r'$\\log(\\lambda)$', fontsize=20)\n",
    "ax.set_ylabel('Cross-validated MSE', fontsize=20)"
   ]
  },
  {
   "cell_type": "code",
   "execution_count": 33,
   "id": "uhX_bt5-omSK",
   "metadata": {
    "colab": {
     "base_uri": "https://localhost:8080/"
    },
    "id": "uhX_bt5-omSK",
    "outputId": "66e21ddf-5358-4da7-8ca4-1d27db43b0c4"
   },
   "outputs": [
    {
     "name": "stdout",
     "output_type": "stream",
     "text": [
      "The optimal value of lambda is: -4.698\n"
     ]
    }
   ],
   "source": [
    "selected_alpha = np.log(tuned_ridge.alpha_)\n",
    "print(f'The optimal value of lambda is: {selected_alpha:.3f}')"
   ]
  },
  {
   "cell_type": "code",
   "execution_count": 34,
   "id": "g5qx491popRx",
   "metadata": {
    "colab": {
     "base_uri": "https://localhost:8080/"
    },
    "id": "g5qx491popRx",
    "outputId": "d17a7b30-e9c1-407d-c45d-1d51b8af9a77"
   },
   "outputs": [
    {
     "name": "stdout",
     "output_type": "stream",
     "text": [
      "The MSE on the test set is: 15.479\n"
     ]
    }
   ],
   "source": [
    "mse_ridge = round(mean_squared_error(y_test, y_pred_ridge), 3)\n",
    "print(f'The MSE on the test set is: {mse_ridge:.3f}')"
   ]
  },
  {
   "cell_type": "code",
   "execution_count": 36,
   "id": "PWQuTOAdo5mh",
   "metadata": {
    "colab": {
     "base_uri": "https://localhost:8080/"
    },
    "id": "PWQuTOAdo5mh",
    "outputId": "a92c5dc8-5590-427e-ce39-80ec016d1a91"
   },
   "outputs": [
    {
     "name": "stdout",
     "output_type": "stream",
     "text": [
      "(12,)\n",
      "(13,)\n"
     ]
    }
   ],
   "source": [
    "print(X.columns.shape)\n",
    "print(ridge_coefs.shape)"
   ]
  },
  {
   "cell_type": "code",
   "execution_count": 37,
   "id": "KoS8suxVo7d5",
   "metadata": {
    "colab": {
     "base_uri": "https://localhost:8080/"
    },
    "id": "KoS8suxVo7d5",
    "outputId": "866eae11-ae93-4fc6-d0d8-081f73188b54"
   },
   "outputs": [
    {
     "name": "stdout",
     "output_type": "stream",
     "text": [
      "12\n",
      "13\n"
     ]
    }
   ],
   "source": [
    "print(len(X.columns))\n",
    "print(len(ridge_coefs))"
   ]
  },
  {
   "cell_type": "code",
   "execution_count": 42,
   "id": "02zAO9X8plhT",
   "metadata": {
    "colab": {
     "base_uri": "https://localhost:8080/"
    },
    "id": "02zAO9X8plhT",
    "outputId": "ab2c3b13-9465-41b5-d6db-41e86f8b8f22"
   },
   "outputs": [
    {
     "name": "stdout",
     "output_type": "stream",
     "text": [
      "Number of columns in X: 12\n",
      "Number of coefficients: 13\n"
     ]
    }
   ],
   "source": [
    "num_cols = X.columns.shape[0]\n",
    "num_coefs = ridge_coefs.shape[0]\n",
    "\n",
    "print(f\"Number of columns in X: {num_cols}\")\n",
    "print(f\"Number of coefficients: {num_coefs}\")"
   ]
  },
  {
   "cell_type": "code",
   "execution_count": 74,
   "id": "C6ueMoOVws0Q",
   "metadata": {
    "colab": {
     "base_uri": "https://localhost:8080/"
    },
    "id": "C6ueMoOVws0Q",
    "outputId": "956bb938-9722-4a91-c709-0858785d6173"
   },
   "outputs": [
    {
     "name": "stdout",
     "output_type": "stream",
     "text": [
      "Número de columnas en X: 12\n",
      "Longitud de los coeficientes en ridge_coefs: 13\n",
      "Características utilizadas para entrenar el modelo:\n",
      "['Unnamed: 0', 'zn', 'indus', 'chas', 'nox', 'rm', 'age', 'dis', 'rad', 'tax', 'ptratio', 'lstat', 'medv']\n"
     ]
    }
   ],
   "source": [
    "# Verificar la longitud de las columnas en X y los coeficientes en ridge_coefs\n",
    "print(\"Número de columnas en X:\", len(X.columns))\n",
    "print(\"Longitud de los coeficientes en ridge_coefs:\", len(ridge_coefs))\n",
    "\n",
    "# Verificar si las columnas en X coinciden con las características utilizadas para entrenar el modelo\n",
    "print(\"Características utilizadas para entrenar el modelo:\")\n",
    "print(predictors)\n",
    "\n",
    "# Si hay diferencias en la longitud o las características, corrígelas antes de crear el DataFrame\n"
   ]
  },
  {
   "cell_type": "markdown",
   "id": "bzqeeKg6p7gD",
   "metadata": {
    "id": "bzqeeKg6p7gD"
   },
   "source": [
    "a). Aumentará inicialmente, y luego comenzará a disminuir en forma de U invertida.\n",
    "\n",
    "Esta afirmación describe el comportamiento típico de la métrica RSS en relación con λ en métodos de regularización como la Ridge. Inicialmente, cuando λ es pequeño, el modelo se sobreajusta menos y la RSS disminuye. Sin embargo, a medida que λ continúa aumentando, la penalización por la complejidad del modelo se vuelve dominante y la RSS comienza a aumentar. Este comportamiento forma una \"U\" invertida. Por lo tanto, esta afirmación es verdadera"
   ]
  },
  {
   "cell_type": "markdown",
   "id": "aww7u-SWqBJT",
   "metadata": {
    "id": "aww7u-SWqBJT"
   },
   "source": [
    "b) I. Aumentará inicialmente, y luego comenzará a disminuir en forma de U invertida\" es verdadera para la métrica RSS de prueba, al igual que para la métrica RSS de entrenamiento. Las otras afirmaciones no describen adecuadamente el cambio en el RSS de prueba con respecto a la regularización L2."
   ]
  },
  {
   "cell_type": "markdown",
   "id": "06OSwNrqqRmb",
   "metadata": {
    "id": "06OSwNrqqRmb"
   },
   "source": [
    "c)IV. Disminuirá constantemente\" es verdadera. A medida que aumenta el parámetro de regularización, la varianza generalmente disminuye constantemente en un modelo de regresión lineal con regularización de norma L2.\n",
    "\n",
    "Las otras afirmaciones no son adecuadas para describir el cambio en la varianza con respecto a la regularización L2, ya que no capturan el efecto de la regularización en la sensibilidad del modelo a variaciones en los datos de entrenamiento"
   ]
  },
  {
   "cell_type": "markdown",
   "id": "mVNyVFbpqmAM",
   "metadata": {
    "id": "mVNyVFbpqmAM"
   },
   "source": [
    "d)III. Aumentará constantemente\" es verdadera. A medida que aumenta el parámetro de regularización en un modelo de regresión lineal con regularización de norma L2, el sesgo al cuadrado generalmente aumentará constantemente debido a la reducción en la capacidad del modelo para ajustarse a los datos de entrenamiento.\n",
    "\n",
    "Las otras afirmaciones no son adecuadas para describir el cambio en el sesgo al cuadrado con respecto a la regularización L2, ya que no capturan el efecto de la regularización en la capacidad del modelo para ajustarse a los datos de entrenamiento"
   ]
  },
  {
   "cell_type": "markdown",
   "id": "KO0Le-M3q1fk",
   "metadata": {
    "id": "KO0Le-M3q1fk"
   },
   "source": [
    "## Pregunta 04"
   ]
  },
  {
   "cell_type": "code",
   "execution_count": 46,
   "id": "p-9_CRKKra3F",
   "metadata": {
    "colab": {
     "base_uri": "https://localhost:8080/",
     "height": 244
    },
    "id": "p-9_CRKKra3F",
    "outputId": "507739e0-3b19-4ca7-dde1-67904af0df4a"
   },
   "outputs": [
    {
     "data": {
      "application/vnd.google.colaboratory.intrinsic+json": {
       "summary": "{\n  \"name\": \"college_data\",\n  \"rows\": 777,\n  \"fields\": [\n    {\n      \"column\": \"Unnamed: 0\",\n      \"properties\": {\n        \"dtype\": \"number\",\n        \"std\": 224,\n        \"min\": 0,\n        \"max\": 776,\n        \"num_unique_values\": 777,\n        \"samples\": [\n          568,\n          530,\n          610\n        ],\n        \"semantic_type\": \"\",\n        \"description\": \"\"\n      }\n    },\n    {\n      \"column\": \"Private\",\n      \"properties\": {\n        \"dtype\": \"boolean\",\n        \"num_unique_values\": 2,\n        \"samples\": [\n          false,\n          true\n        ],\n        \"semantic_type\": \"\",\n        \"description\": \"\"\n      }\n    },\n    {\n      \"column\": \"Apps\",\n      \"properties\": {\n        \"dtype\": \"number\",\n        \"std\": 3870,\n        \"min\": 81,\n        \"max\": 48094,\n        \"num_unique_values\": 711,\n        \"samples\": [\n          323,\n          1127\n        ],\n        \"semantic_type\": \"\",\n        \"description\": \"\"\n      }\n    },\n    {\n      \"column\": \"Accept\",\n      \"properties\": {\n        \"dtype\": \"number\",\n        \"std\": 2451,\n        \"min\": 72,\n        \"max\": 26330,\n        \"num_unique_values\": 693,\n        \"samples\": [\n          689,\n          1623\n        ],\n        \"semantic_type\": \"\",\n        \"description\": \"\"\n      }\n    },\n    {\n      \"column\": \"Enroll\",\n      \"properties\": {\n        \"dtype\": \"number\",\n        \"std\": 929,\n        \"min\": 35,\n        \"max\": 6392,\n        \"num_unique_values\": 581,\n        \"samples\": [\n          769,\n          223\n        ],\n        \"semantic_type\": \"\",\n        \"description\": \"\"\n      }\n    },\n    {\n      \"column\": \"Top10perc\",\n      \"properties\": {\n        \"dtype\": \"number\",\n        \"std\": 17,\n        \"min\": 1,\n        \"max\": 96,\n        \"num_unique_values\": 82,\n        \"samples\": [\n          67,\n          23\n        ],\n        \"semantic_type\": \"\",\n        \"description\": \"\"\n      }\n    },\n    {\n      \"column\": \"Top25perc\",\n      \"properties\": {\n        \"dtype\": \"number\",\n        \"std\": 19,\n        \"min\": 9,\n        \"max\": 100,\n        \"num_unique_values\": 89,\n        \"samples\": [\n          100,\n          65\n        ],\n        \"semantic_type\": \"\",\n        \"description\": \"\"\n      }\n    },\n    {\n      \"column\": \"F.Undergrad\",\n      \"properties\": {\n        \"dtype\": \"number\",\n        \"std\": 4850,\n        \"min\": 139,\n        \"max\": 31643,\n        \"num_unique_values\": 714,\n        \"samples\": [\n          2649,\n          2997\n        ],\n        \"semantic_type\": \"\",\n        \"description\": \"\"\n      }\n    },\n    {\n      \"column\": \"P.Undergrad\",\n      \"properties\": {\n        \"dtype\": \"number\",\n        \"std\": 1522,\n        \"min\": 1,\n        \"max\": 21836,\n        \"num_unique_values\": 566,\n        \"samples\": [\n          1344,\n          1552\n        ],\n        \"semantic_type\": \"\",\n        \"description\": \"\"\n      }\n    },\n    {\n      \"column\": \"Outstate\",\n      \"properties\": {\n        \"dtype\": \"number\",\n        \"std\": 4023,\n        \"min\": 2340,\n        \"max\": 21700,\n        \"num_unique_values\": 640,\n        \"samples\": [\n          5764,\n          6995\n        ],\n        \"semantic_type\": \"\",\n        \"description\": \"\"\n      }\n    },\n    {\n      \"column\": \"Room.Board\",\n      \"properties\": {\n        \"dtype\": \"number\",\n        \"std\": 1096,\n        \"min\": 1780,\n        \"max\": 8124,\n        \"num_unique_values\": 553,\n        \"samples\": [\n          3392,\n          3150\n        ],\n        \"semantic_type\": \"\",\n        \"description\": \"\"\n      }\n    },\n    {\n      \"column\": \"Books\",\n      \"properties\": {\n        \"dtype\": \"number\",\n        \"std\": 165,\n        \"min\": 96,\n        \"max\": 2340,\n        \"num_unique_values\": 122,\n        \"samples\": [\n          475,\n          670\n        ],\n        \"semantic_type\": \"\",\n        \"description\": \"\"\n      }\n    },\n    {\n      \"column\": \"Personal\",\n      \"properties\": {\n        \"dtype\": \"number\",\n        \"std\": 677,\n        \"min\": 250,\n        \"max\": 6800,\n        \"num_unique_values\": 294,\n        \"samples\": [\n          250,\n          1000\n        ],\n        \"semantic_type\": \"\",\n        \"description\": \"\"\n      }\n    },\n    {\n      \"column\": \"PhD\",\n      \"properties\": {\n        \"dtype\": \"number\",\n        \"std\": 16,\n        \"min\": 8,\n        \"max\": 103,\n        \"num_unique_values\": 78,\n        \"samples\": [\n          61,\n          70\n        ],\n        \"semantic_type\": \"\",\n        \"description\": \"\"\n      }\n    },\n    {\n      \"column\": \"Terminal\",\n      \"properties\": {\n        \"dtype\": \"number\",\n        \"std\": 14,\n        \"min\": 24,\n        \"max\": 100,\n        \"num_unique_values\": 65,\n        \"samples\": [\n          43,\n          54\n        ],\n        \"semantic_type\": \"\",\n        \"description\": \"\"\n      }\n    },\n    {\n      \"column\": \"S.F.Ratio\",\n      \"properties\": {\n        \"dtype\": \"number\",\n        \"std\": 3.958349135205549,\n        \"min\": 2.5,\n        \"max\": 39.8,\n        \"num_unique_values\": 173,\n        \"samples\": [\n          25.3,\n          14.0\n        ],\n        \"semantic_type\": \"\",\n        \"description\": \"\"\n      }\n    },\n    {\n      \"column\": \"perc.alumni\",\n      \"properties\": {\n        \"dtype\": \"number\",\n        \"std\": 12,\n        \"min\": 0,\n        \"max\": 64,\n        \"num_unique_values\": 61,\n        \"samples\": [\n          12,\n          11\n        ],\n        \"semantic_type\": \"\",\n        \"description\": \"\"\n      }\n    },\n    {\n      \"column\": \"Expend\",\n      \"properties\": {\n        \"dtype\": \"number\",\n        \"std\": 5221,\n        \"min\": 3186,\n        \"max\": 56233,\n        \"num_unique_values\": 744,\n        \"samples\": [\n          17500,\n          13705\n        ],\n        \"semantic_type\": \"\",\n        \"description\": \"\"\n      }\n    },\n    {\n      \"column\": \"Grad.Rate\",\n      \"properties\": {\n        \"dtype\": \"number\",\n        \"std\": 17,\n        \"min\": 10,\n        \"max\": 118,\n        \"num_unique_values\": 81,\n        \"samples\": [\n          35,\n          60\n        ],\n        \"semantic_type\": \"\",\n        \"description\": \"\"\n      }\n    }\n  ]\n}",
       "type": "dataframe",
       "variable_name": "college_data"
      },
      "text/html": [
       "\n",
       "  <div id=\"df-80cba131-28d8-4750-9096-77e71f397c94\" class=\"colab-df-container\">\n",
       "    <div>\n",
       "<style scoped>\n",
       "    .dataframe tbody tr th:only-of-type {\n",
       "        vertical-align: middle;\n",
       "    }\n",
       "\n",
       "    .dataframe tbody tr th {\n",
       "        vertical-align: top;\n",
       "    }\n",
       "\n",
       "    .dataframe thead th {\n",
       "        text-align: right;\n",
       "    }\n",
       "</style>\n",
       "<table border=\"1\" class=\"dataframe\">\n",
       "  <thead>\n",
       "    <tr style=\"text-align: right;\">\n",
       "      <th></th>\n",
       "      <th>Unnamed: 0</th>\n",
       "      <th>Private</th>\n",
       "      <th>Apps</th>\n",
       "      <th>Accept</th>\n",
       "      <th>Enroll</th>\n",
       "      <th>Top10perc</th>\n",
       "      <th>Top25perc</th>\n",
       "      <th>F.Undergrad</th>\n",
       "      <th>P.Undergrad</th>\n",
       "      <th>Outstate</th>\n",
       "      <th>Room.Board</th>\n",
       "      <th>Books</th>\n",
       "      <th>Personal</th>\n",
       "      <th>PhD</th>\n",
       "      <th>Terminal</th>\n",
       "      <th>S.F.Ratio</th>\n",
       "      <th>perc.alumni</th>\n",
       "      <th>Expend</th>\n",
       "      <th>Grad.Rate</th>\n",
       "    </tr>\n",
       "  </thead>\n",
       "  <tbody>\n",
       "    <tr>\n",
       "      <th>0</th>\n",
       "      <td>0</td>\n",
       "      <td>True</td>\n",
       "      <td>1660</td>\n",
       "      <td>1232</td>\n",
       "      <td>721</td>\n",
       "      <td>23</td>\n",
       "      <td>52</td>\n",
       "      <td>2885</td>\n",
       "      <td>537</td>\n",
       "      <td>7440</td>\n",
       "      <td>3300</td>\n",
       "      <td>450</td>\n",
       "      <td>2200</td>\n",
       "      <td>70</td>\n",
       "      <td>78</td>\n",
       "      <td>18.1</td>\n",
       "      <td>12</td>\n",
       "      <td>7041</td>\n",
       "      <td>60</td>\n",
       "    </tr>\n",
       "    <tr>\n",
       "      <th>1</th>\n",
       "      <td>1</td>\n",
       "      <td>True</td>\n",
       "      <td>2186</td>\n",
       "      <td>1924</td>\n",
       "      <td>512</td>\n",
       "      <td>16</td>\n",
       "      <td>29</td>\n",
       "      <td>2683</td>\n",
       "      <td>1227</td>\n",
       "      <td>12280</td>\n",
       "      <td>6450</td>\n",
       "      <td>750</td>\n",
       "      <td>1500</td>\n",
       "      <td>29</td>\n",
       "      <td>30</td>\n",
       "      <td>12.2</td>\n",
       "      <td>16</td>\n",
       "      <td>10527</td>\n",
       "      <td>56</td>\n",
       "    </tr>\n",
       "    <tr>\n",
       "      <th>2</th>\n",
       "      <td>2</td>\n",
       "      <td>True</td>\n",
       "      <td>1428</td>\n",
       "      <td>1097</td>\n",
       "      <td>336</td>\n",
       "      <td>22</td>\n",
       "      <td>50</td>\n",
       "      <td>1036</td>\n",
       "      <td>99</td>\n",
       "      <td>11250</td>\n",
       "      <td>3750</td>\n",
       "      <td>400</td>\n",
       "      <td>1165</td>\n",
       "      <td>53</td>\n",
       "      <td>66</td>\n",
       "      <td>12.9</td>\n",
       "      <td>30</td>\n",
       "      <td>8735</td>\n",
       "      <td>54</td>\n",
       "    </tr>\n",
       "    <tr>\n",
       "      <th>3</th>\n",
       "      <td>3</td>\n",
       "      <td>True</td>\n",
       "      <td>417</td>\n",
       "      <td>349</td>\n",
       "      <td>137</td>\n",
       "      <td>60</td>\n",
       "      <td>89</td>\n",
       "      <td>510</td>\n",
       "      <td>63</td>\n",
       "      <td>12960</td>\n",
       "      <td>5450</td>\n",
       "      <td>450</td>\n",
       "      <td>875</td>\n",
       "      <td>92</td>\n",
       "      <td>97</td>\n",
       "      <td>7.7</td>\n",
       "      <td>37</td>\n",
       "      <td>19016</td>\n",
       "      <td>59</td>\n",
       "    </tr>\n",
       "    <tr>\n",
       "      <th>4</th>\n",
       "      <td>4</td>\n",
       "      <td>True</td>\n",
       "      <td>193</td>\n",
       "      <td>146</td>\n",
       "      <td>55</td>\n",
       "      <td>16</td>\n",
       "      <td>44</td>\n",
       "      <td>249</td>\n",
       "      <td>869</td>\n",
       "      <td>7560</td>\n",
       "      <td>4120</td>\n",
       "      <td>800</td>\n",
       "      <td>1500</td>\n",
       "      <td>76</td>\n",
       "      <td>72</td>\n",
       "      <td>11.9</td>\n",
       "      <td>2</td>\n",
       "      <td>10922</td>\n",
       "      <td>15</td>\n",
       "    </tr>\n",
       "  </tbody>\n",
       "</table>\n",
       "</div>\n",
       "    <div class=\"colab-df-buttons\">\n",
       "\n",
       "  <div class=\"colab-df-container\">\n",
       "    <button class=\"colab-df-convert\" onclick=\"convertToInteractive('df-80cba131-28d8-4750-9096-77e71f397c94')\"\n",
       "            title=\"Convert this dataframe to an interactive table.\"\n",
       "            style=\"display:none;\">\n",
       "\n",
       "  <svg xmlns=\"http://www.w3.org/2000/svg\" height=\"24px\" viewBox=\"0 -960 960 960\">\n",
       "    <path d=\"M120-120v-720h720v720H120Zm60-500h600v-160H180v160Zm220 220h160v-160H400v160Zm0 220h160v-160H400v160ZM180-400h160v-160H180v160Zm440 0h160v-160H620v160ZM180-180h160v-160H180v160Zm440 0h160v-160H620v160Z\"/>\n",
       "  </svg>\n",
       "    </button>\n",
       "\n",
       "  <style>\n",
       "    .colab-df-container {\n",
       "      display:flex;\n",
       "      gap: 12px;\n",
       "    }\n",
       "\n",
       "    .colab-df-convert {\n",
       "      background-color: #E8F0FE;\n",
       "      border: none;\n",
       "      border-radius: 50%;\n",
       "      cursor: pointer;\n",
       "      display: none;\n",
       "      fill: #1967D2;\n",
       "      height: 32px;\n",
       "      padding: 0 0 0 0;\n",
       "      width: 32px;\n",
       "    }\n",
       "\n",
       "    .colab-df-convert:hover {\n",
       "      background-color: #E2EBFA;\n",
       "      box-shadow: 0px 1px 2px rgba(60, 64, 67, 0.3), 0px 1px 3px 1px rgba(60, 64, 67, 0.15);\n",
       "      fill: #174EA6;\n",
       "    }\n",
       "\n",
       "    .colab-df-buttons div {\n",
       "      margin-bottom: 4px;\n",
       "    }\n",
       "\n",
       "    [theme=dark] .colab-df-convert {\n",
       "      background-color: #3B4455;\n",
       "      fill: #D2E3FC;\n",
       "    }\n",
       "\n",
       "    [theme=dark] .colab-df-convert:hover {\n",
       "      background-color: #434B5C;\n",
       "      box-shadow: 0px 1px 3px 1px rgba(0, 0, 0, 0.15);\n",
       "      filter: drop-shadow(0px 1px 2px rgba(0, 0, 0, 0.3));\n",
       "      fill: #FFFFFF;\n",
       "    }\n",
       "  </style>\n",
       "\n",
       "    <script>\n",
       "      const buttonEl =\n",
       "        document.querySelector('#df-80cba131-28d8-4750-9096-77e71f397c94 button.colab-df-convert');\n",
       "      buttonEl.style.display =\n",
       "        google.colab.kernel.accessAllowed ? 'block' : 'none';\n",
       "\n",
       "      async function convertToInteractive(key) {\n",
       "        const element = document.querySelector('#df-80cba131-28d8-4750-9096-77e71f397c94');\n",
       "        const dataTable =\n",
       "          await google.colab.kernel.invokeFunction('convertToInteractive',\n",
       "                                                    [key], {});\n",
       "        if (!dataTable) return;\n",
       "\n",
       "        const docLinkHtml = 'Like what you see? Visit the ' +\n",
       "          '<a target=\"_blank\" href=https://colab.research.google.com/notebooks/data_table.ipynb>data table notebook</a>'\n",
       "          + ' to learn more about interactive tables.';\n",
       "        element.innerHTML = '';\n",
       "        dataTable['output_type'] = 'display_data';\n",
       "        await google.colab.output.renderOutput(dataTable, element);\n",
       "        const docLink = document.createElement('div');\n",
       "        docLink.innerHTML = docLinkHtml;\n",
       "        element.appendChild(docLink);\n",
       "      }\n",
       "    </script>\n",
       "  </div>\n",
       "\n",
       "\n",
       "<div id=\"df-c94979d7-056d-4db8-9936-7ffffacb1378\">\n",
       "  <button class=\"colab-df-quickchart\" onclick=\"quickchart('df-c94979d7-056d-4db8-9936-7ffffacb1378')\"\n",
       "            title=\"Suggest charts\"\n",
       "            style=\"display:none;\">\n",
       "\n",
       "<svg xmlns=\"http://www.w3.org/2000/svg\" height=\"24px\"viewBox=\"0 0 24 24\"\n",
       "     width=\"24px\">\n",
       "    <g>\n",
       "        <path d=\"M19 3H5c-1.1 0-2 .9-2 2v14c0 1.1.9 2 2 2h14c1.1 0 2-.9 2-2V5c0-1.1-.9-2-2-2zM9 17H7v-7h2v7zm4 0h-2V7h2v10zm4 0h-2v-4h2v4z\"/>\n",
       "    </g>\n",
       "</svg>\n",
       "  </button>\n",
       "\n",
       "<style>\n",
       "  .colab-df-quickchart {\n",
       "      --bg-color: #E8F0FE;\n",
       "      --fill-color: #1967D2;\n",
       "      --hover-bg-color: #E2EBFA;\n",
       "      --hover-fill-color: #174EA6;\n",
       "      --disabled-fill-color: #AAA;\n",
       "      --disabled-bg-color: #DDD;\n",
       "  }\n",
       "\n",
       "  [theme=dark] .colab-df-quickchart {\n",
       "      --bg-color: #3B4455;\n",
       "      --fill-color: #D2E3FC;\n",
       "      --hover-bg-color: #434B5C;\n",
       "      --hover-fill-color: #FFFFFF;\n",
       "      --disabled-bg-color: #3B4455;\n",
       "      --disabled-fill-color: #666;\n",
       "  }\n",
       "\n",
       "  .colab-df-quickchart {\n",
       "    background-color: var(--bg-color);\n",
       "    border: none;\n",
       "    border-radius: 50%;\n",
       "    cursor: pointer;\n",
       "    display: none;\n",
       "    fill: var(--fill-color);\n",
       "    height: 32px;\n",
       "    padding: 0;\n",
       "    width: 32px;\n",
       "  }\n",
       "\n",
       "  .colab-df-quickchart:hover {\n",
       "    background-color: var(--hover-bg-color);\n",
       "    box-shadow: 0 1px 2px rgba(60, 64, 67, 0.3), 0 1px 3px 1px rgba(60, 64, 67, 0.15);\n",
       "    fill: var(--button-hover-fill-color);\n",
       "  }\n",
       "\n",
       "  .colab-df-quickchart-complete:disabled,\n",
       "  .colab-df-quickchart-complete:disabled:hover {\n",
       "    background-color: var(--disabled-bg-color);\n",
       "    fill: var(--disabled-fill-color);\n",
       "    box-shadow: none;\n",
       "  }\n",
       "\n",
       "  .colab-df-spinner {\n",
       "    border: 2px solid var(--fill-color);\n",
       "    border-color: transparent;\n",
       "    border-bottom-color: var(--fill-color);\n",
       "    animation:\n",
       "      spin 1s steps(1) infinite;\n",
       "  }\n",
       "\n",
       "  @keyframes spin {\n",
       "    0% {\n",
       "      border-color: transparent;\n",
       "      border-bottom-color: var(--fill-color);\n",
       "      border-left-color: var(--fill-color);\n",
       "    }\n",
       "    20% {\n",
       "      border-color: transparent;\n",
       "      border-left-color: var(--fill-color);\n",
       "      border-top-color: var(--fill-color);\n",
       "    }\n",
       "    30% {\n",
       "      border-color: transparent;\n",
       "      border-left-color: var(--fill-color);\n",
       "      border-top-color: var(--fill-color);\n",
       "      border-right-color: var(--fill-color);\n",
       "    }\n",
       "    40% {\n",
       "      border-color: transparent;\n",
       "      border-right-color: var(--fill-color);\n",
       "      border-top-color: var(--fill-color);\n",
       "    }\n",
       "    60% {\n",
       "      border-color: transparent;\n",
       "      border-right-color: var(--fill-color);\n",
       "    }\n",
       "    80% {\n",
       "      border-color: transparent;\n",
       "      border-right-color: var(--fill-color);\n",
       "      border-bottom-color: var(--fill-color);\n",
       "    }\n",
       "    90% {\n",
       "      border-color: transparent;\n",
       "      border-bottom-color: var(--fill-color);\n",
       "    }\n",
       "  }\n",
       "</style>\n",
       "\n",
       "  <script>\n",
       "    async function quickchart(key) {\n",
       "      const quickchartButtonEl =\n",
       "        document.querySelector('#' + key + ' button');\n",
       "      quickchartButtonEl.disabled = true;  // To prevent multiple clicks.\n",
       "      quickchartButtonEl.classList.add('colab-df-spinner');\n",
       "      try {\n",
       "        const charts = await google.colab.kernel.invokeFunction(\n",
       "            'suggestCharts', [key], {});\n",
       "      } catch (error) {\n",
       "        console.error('Error during call to suggestCharts:', error);\n",
       "      }\n",
       "      quickchartButtonEl.classList.remove('colab-df-spinner');\n",
       "      quickchartButtonEl.classList.add('colab-df-quickchart-complete');\n",
       "    }\n",
       "    (() => {\n",
       "      let quickchartButtonEl =\n",
       "        document.querySelector('#df-c94979d7-056d-4db8-9936-7ffffacb1378 button');\n",
       "      quickchartButtonEl.style.display =\n",
       "        google.colab.kernel.accessAllowed ? 'block' : 'none';\n",
       "    })();\n",
       "  </script>\n",
       "</div>\n",
       "\n",
       "    </div>\n",
       "  </div>\n"
      ],
      "text/plain": [
       "   Unnamed: 0  Private  Apps  Accept  Enroll  Top10perc  Top25perc  \\\n",
       "0           0     True  1660    1232     721         23         52   \n",
       "1           1     True  2186    1924     512         16         29   \n",
       "2           2     True  1428    1097     336         22         50   \n",
       "3           3     True   417     349     137         60         89   \n",
       "4           4     True   193     146      55         16         44   \n",
       "\n",
       "   F.Undergrad  P.Undergrad  Outstate  Room.Board  Books  Personal  PhD  \\\n",
       "0         2885          537      7440        3300    450      2200   70   \n",
       "1         2683         1227     12280        6450    750      1500   29   \n",
       "2         1036           99     11250        3750    400      1165   53   \n",
       "3          510           63     12960        5450    450       875   92   \n",
       "4          249          869      7560        4120    800      1500   76   \n",
       "\n",
       "   Terminal  S.F.Ratio  perc.alumni  Expend  Grad.Rate  \n",
       "0        78       18.1           12    7041         60  \n",
       "1        30       12.2           16   10527         56  \n",
       "2        66       12.9           30    8735         54  \n",
       "3        97        7.7           37   19016         59  \n",
       "4        72       11.9            2   10922         15  "
      ]
     },
     "execution_count": 46,
     "metadata": {},
     "output_type": "execute_result"
    }
   ],
   "source": [
    "# Get data\n",
    "url = \"https://raw.githubusercontent.com/qlabpucp/datasets/main/datasets/college.csv\"\n",
    "college_data = pd.read_csv(url)\n",
    "college_data['Private'] = pd.get_dummies(college_data['Private'], drop_first=True)\n",
    "college_data.head()"
   ]
  },
  {
   "cell_type": "code",
   "execution_count": 47,
   "id": "zfrMZ94Frk-3",
   "metadata": {
    "id": "zfrMZ94Frk-3"
   },
   "outputs": [],
   "source": [
    "# Paso 3: Dividir el conjunto de datos en conjunto de entrenamiento y conjunto de prueba\n",
    "X = college_data.drop('Apps', axis=1)  # Características (variables independientes)\n",
    "y = college_data['Apps']  # Variable objetivo\n",
    "\n",
    "X_train, X_test, y_train, y_test = train_test_split(X, y, test_size=0.2, random_state=42)\n"
   ]
  },
  {
   "cell_type": "code",
   "execution_count": 48,
   "id": "DF6mKZsyrt3V",
   "metadata": {
    "colab": {
     "base_uri": "https://localhost:8080/"
    },
    "id": "DF6mKZsyrt3V",
    "outputId": "efd8adcc-6f54-42a4-b852-eb27887e9842"
   },
   "outputs": [
    {
     "name": "stdout",
     "output_type": "stream",
     "text": [
      "Average MSE (Linear Model, Cross-Validation): 1494211.7801164405\n"
     ]
    }
   ],
   "source": [
    "# Paso 4: Ajustar un modelo lineal utilizando mínimos cuadrados\n",
    "linear_model = LinearRegression()\n",
    "linear_model.fit(X_train, y_train)\n",
    "\n",
    "# Calcular el error en el conjunto de prueba\n",
    "\n",
    "linear_preds = linear_model.predict(X_test)\n",
    "linear_mse = mean_squared_error(y_test, linear_preds)\n",
    "\n",
    "print(\"Average MSE (Linear Model, Cross-Validation):\",linear_mse)"
   ]
  },
  {
   "cell_type": "code",
   "execution_count": 49,
   "id": "e68zXsyZrvDV",
   "metadata": {
    "colab": {
     "base_uri": "https://localhost:8080/"
    },
    "id": "e68zXsyZrvDV",
    "outputId": "54f5adbc-2156-4f2e-d066-e310f41f2a68"
   },
   "outputs": [
    {
     "name": "stdout",
     "output_type": "stream",
     "text": [
      "Average MSE (Ridge, Cross-Validation): 1479949.5124927096\n"
     ]
    }
   ],
   "source": [
    "# Paso 5: Ajustar un modelo de regresión Ridge con λ elegido por Cross-Validation\n",
    "ridge_model = RidgeCV(alphas=[0.1, 1.0, 10.0]) \n",
    "ridge_model.fit(X_train, y_train)\n",
    "\n",
    "# Calcular el error en el conjunto de prueba\n",
    "ridge_preds = ridge_model.predict(X_test)\n",
    "ridge_mse = mean_squared_error(y_test, ridge_preds)\n",
    "\n",
    "print(\"Average MSE (Ridge, Cross-Validation):\",ridge_mse)"
   ]
  },
  {
   "cell_type": "code",
   "execution_count": 50,
   "id": "QXwbxvKCrxyl",
   "metadata": {
    "colab": {
     "base_uri": "https://localhost:8080/"
    },
    "id": "QXwbxvKCrxyl",
    "outputId": "4fa892c6-c262-4c2e-9514-d96eb48afe2f"
   },
   "outputs": [
    {
     "name": "stdout",
     "output_type": "stream",
     "text": [
      "Average MSE (Lasso, Cross-Validation): 1587018.6158107526\n"
     ]
    }
   ],
   "source": [
    "# Paso 6: Ajustar un modelo de regresión Lasso con λ elegido por Cross-Validation\n",
    "lasso_model = LassoCV()\n",
    "lasso_model.fit(X_train, y_train)\n",
    "\n",
    "# Calcular el error en el conjunto de prueba\n",
    "lasso_preds = lasso_model.predict(X_test)\n",
    "lasso_mse = mean_squared_error(y_test, lasso_preds)\n",
    "print(\"Average MSE (Lasso, Cross-Validation):\",lasso_mse)\n"
   ]
  },
  {
   "cell_type": "markdown",
   "id": "tvr-SX7mr5vO",
   "metadata": {
    "id": "tvr-SX7mr5vO"
   },
   "source": [
    "Comparamos los tres modelos en un Dataframe"
   ]
  },
  {
   "cell_type": "code",
   "execution_count": 52,
   "id": "FYoyhBdTr6fm",
   "metadata": {
    "colab": {
     "base_uri": "https://localhost:8080/",
     "height": 143
    },
    "id": "FYoyhBdTr6fm",
    "outputId": "ada870e0-dee7-4e0b-d76c-76385ceaf0a7"
   },
   "outputs": [
    {
     "data": {
      "application/vnd.google.colaboratory.intrinsic+json": {
       "summary": "{\n  \"name\": \"results_df\",\n  \"rows\": 3,\n  \"fields\": [\n    {\n      \"column\": \"Modelo\",\n      \"properties\": {\n        \"dtype\": \"string\",\n        \"num_unique_values\": 3,\n        \"samples\": [\n          \"Regresi\\u00f3n Lineal\",\n          \"Regresi\\u00f3n Ridge\",\n          \"Regresi\\u00f3n Lasso\"\n        ],\n        \"semantic_type\": \"\",\n        \"description\": \"\"\n      }\n    },\n    {\n      \"column\": \"Error en conjunto de prueba\",\n      \"properties\": {\n        \"dtype\": \"string\",\n        \"num_unique_values\": 3,\n        \"samples\": [\n          \"1,494,211.78\",\n          \"1,479,949.51\",\n          \"1,587,018.62\"\n        ],\n        \"semantic_type\": \"\",\n        \"description\": \"\"\n      }\n    },\n    {\n      \"column\": \"Coeficientes\",\n      \"properties\": {\n        \"dtype\": \"object\",\n        \"semantic_type\": \"\",\n        \"description\": \"\"\n      }\n    }\n  ]\n}",
       "type": "dataframe",
       "variable_name": "results_df"
      },
      "text/html": [
       "\n",
       "  <div id=\"df-b12fd6d4-1705-484e-934e-7d84b9c15b70\" class=\"colab-df-container\">\n",
       "    <div>\n",
       "<style scoped>\n",
       "    .dataframe tbody tr th:only-of-type {\n",
       "        vertical-align: middle;\n",
       "    }\n",
       "\n",
       "    .dataframe tbody tr th {\n",
       "        vertical-align: top;\n",
       "    }\n",
       "\n",
       "    .dataframe thead th {\n",
       "        text-align: right;\n",
       "    }\n",
       "</style>\n",
       "<table border=\"1\" class=\"dataframe\">\n",
       "  <thead>\n",
       "    <tr style=\"text-align: right;\">\n",
       "      <th></th>\n",
       "      <th>Modelo</th>\n",
       "      <th>Error en conjunto de prueba</th>\n",
       "      <th>Coeficientes</th>\n",
       "    </tr>\n",
       "  </thead>\n",
       "  <tbody>\n",
       "    <tr>\n",
       "      <th>0</th>\n",
       "      <td>Regresión Lineal</td>\n",
       "      <td>1,494,211.78</td>\n",
       "      <td>[-0.08532362531650306, -659.3351222005168, 1.6...</td>\n",
       "    </tr>\n",
       "    <tr>\n",
       "      <th>1</th>\n",
       "      <td>Regresión Ridge</td>\n",
       "      <td>1,479,949.51</td>\n",
       "      <td>[-0.06810920506765909, -538.9811929151874, 1.6...</td>\n",
       "    </tr>\n",
       "    <tr>\n",
       "      <th>2</th>\n",
       "      <td>Regresión Lasso</td>\n",
       "      <td>1,587,018.62</td>\n",
       "      <td>[0.0, -0.0, 1.5582172251638242, -0.36407265048...</td>\n",
       "    </tr>\n",
       "  </tbody>\n",
       "</table>\n",
       "</div>\n",
       "    <div class=\"colab-df-buttons\">\n",
       "\n",
       "  <div class=\"colab-df-container\">\n",
       "    <button class=\"colab-df-convert\" onclick=\"convertToInteractive('df-b12fd6d4-1705-484e-934e-7d84b9c15b70')\"\n",
       "            title=\"Convert this dataframe to an interactive table.\"\n",
       "            style=\"display:none;\">\n",
       "\n",
       "  <svg xmlns=\"http://www.w3.org/2000/svg\" height=\"24px\" viewBox=\"0 -960 960 960\">\n",
       "    <path d=\"M120-120v-720h720v720H120Zm60-500h600v-160H180v160Zm220 220h160v-160H400v160Zm0 220h160v-160H400v160ZM180-400h160v-160H180v160Zm440 0h160v-160H620v160ZM180-180h160v-160H180v160Zm440 0h160v-160H620v160Z\"/>\n",
       "  </svg>\n",
       "    </button>\n",
       "\n",
       "  <style>\n",
       "    .colab-df-container {\n",
       "      display:flex;\n",
       "      gap: 12px;\n",
       "    }\n",
       "\n",
       "    .colab-df-convert {\n",
       "      background-color: #E8F0FE;\n",
       "      border: none;\n",
       "      border-radius: 50%;\n",
       "      cursor: pointer;\n",
       "      display: none;\n",
       "      fill: #1967D2;\n",
       "      height: 32px;\n",
       "      padding: 0 0 0 0;\n",
       "      width: 32px;\n",
       "    }\n",
       "\n",
       "    .colab-df-convert:hover {\n",
       "      background-color: #E2EBFA;\n",
       "      box-shadow: 0px 1px 2px rgba(60, 64, 67, 0.3), 0px 1px 3px 1px rgba(60, 64, 67, 0.15);\n",
       "      fill: #174EA6;\n",
       "    }\n",
       "\n",
       "    .colab-df-buttons div {\n",
       "      margin-bottom: 4px;\n",
       "    }\n",
       "\n",
       "    [theme=dark] .colab-df-convert {\n",
       "      background-color: #3B4455;\n",
       "      fill: #D2E3FC;\n",
       "    }\n",
       "\n",
       "    [theme=dark] .colab-df-convert:hover {\n",
       "      background-color: #434B5C;\n",
       "      box-shadow: 0px 1px 3px 1px rgba(0, 0, 0, 0.15);\n",
       "      filter: drop-shadow(0px 1px 2px rgba(0, 0, 0, 0.3));\n",
       "      fill: #FFFFFF;\n",
       "    }\n",
       "  </style>\n",
       "\n",
       "    <script>\n",
       "      const buttonEl =\n",
       "        document.querySelector('#df-b12fd6d4-1705-484e-934e-7d84b9c15b70 button.colab-df-convert');\n",
       "      buttonEl.style.display =\n",
       "        google.colab.kernel.accessAllowed ? 'block' : 'none';\n",
       "\n",
       "      async function convertToInteractive(key) {\n",
       "        const element = document.querySelector('#df-b12fd6d4-1705-484e-934e-7d84b9c15b70');\n",
       "        const dataTable =\n",
       "          await google.colab.kernel.invokeFunction('convertToInteractive',\n",
       "                                                    [key], {});\n",
       "        if (!dataTable) return;\n",
       "\n",
       "        const docLinkHtml = 'Like what you see? Visit the ' +\n",
       "          '<a target=\"_blank\" href=https://colab.research.google.com/notebooks/data_table.ipynb>data table notebook</a>'\n",
       "          + ' to learn more about interactive tables.';\n",
       "        element.innerHTML = '';\n",
       "        dataTable['output_type'] = 'display_data';\n",
       "        await google.colab.output.renderOutput(dataTable, element);\n",
       "        const docLink = document.createElement('div');\n",
       "        docLink.innerHTML = docLinkHtml;\n",
       "        element.appendChild(docLink);\n",
       "      }\n",
       "    </script>\n",
       "  </div>\n",
       "\n",
       "\n",
       "<div id=\"df-3e07e63d-1db0-4f76-b854-f301e14cc07a\">\n",
       "  <button class=\"colab-df-quickchart\" onclick=\"quickchart('df-3e07e63d-1db0-4f76-b854-f301e14cc07a')\"\n",
       "            title=\"Suggest charts\"\n",
       "            style=\"display:none;\">\n",
       "\n",
       "<svg xmlns=\"http://www.w3.org/2000/svg\" height=\"24px\"viewBox=\"0 0 24 24\"\n",
       "     width=\"24px\">\n",
       "    <g>\n",
       "        <path d=\"M19 3H5c-1.1 0-2 .9-2 2v14c0 1.1.9 2 2 2h14c1.1 0 2-.9 2-2V5c0-1.1-.9-2-2-2zM9 17H7v-7h2v7zm4 0h-2V7h2v10zm4 0h-2v-4h2v4z\"/>\n",
       "    </g>\n",
       "</svg>\n",
       "  </button>\n",
       "\n",
       "<style>\n",
       "  .colab-df-quickchart {\n",
       "      --bg-color: #E8F0FE;\n",
       "      --fill-color: #1967D2;\n",
       "      --hover-bg-color: #E2EBFA;\n",
       "      --hover-fill-color: #174EA6;\n",
       "      --disabled-fill-color: #AAA;\n",
       "      --disabled-bg-color: #DDD;\n",
       "  }\n",
       "\n",
       "  [theme=dark] .colab-df-quickchart {\n",
       "      --bg-color: #3B4455;\n",
       "      --fill-color: #D2E3FC;\n",
       "      --hover-bg-color: #434B5C;\n",
       "      --hover-fill-color: #FFFFFF;\n",
       "      --disabled-bg-color: #3B4455;\n",
       "      --disabled-fill-color: #666;\n",
       "  }\n",
       "\n",
       "  .colab-df-quickchart {\n",
       "    background-color: var(--bg-color);\n",
       "    border: none;\n",
       "    border-radius: 50%;\n",
       "    cursor: pointer;\n",
       "    display: none;\n",
       "    fill: var(--fill-color);\n",
       "    height: 32px;\n",
       "    padding: 0;\n",
       "    width: 32px;\n",
       "  }\n",
       "\n",
       "  .colab-df-quickchart:hover {\n",
       "    background-color: var(--hover-bg-color);\n",
       "    box-shadow: 0 1px 2px rgba(60, 64, 67, 0.3), 0 1px 3px 1px rgba(60, 64, 67, 0.15);\n",
       "    fill: var(--button-hover-fill-color);\n",
       "  }\n",
       "\n",
       "  .colab-df-quickchart-complete:disabled,\n",
       "  .colab-df-quickchart-complete:disabled:hover {\n",
       "    background-color: var(--disabled-bg-color);\n",
       "    fill: var(--disabled-fill-color);\n",
       "    box-shadow: none;\n",
       "  }\n",
       "\n",
       "  .colab-df-spinner {\n",
       "    border: 2px solid var(--fill-color);\n",
       "    border-color: transparent;\n",
       "    border-bottom-color: var(--fill-color);\n",
       "    animation:\n",
       "      spin 1s steps(1) infinite;\n",
       "  }\n",
       "\n",
       "  @keyframes spin {\n",
       "    0% {\n",
       "      border-color: transparent;\n",
       "      border-bottom-color: var(--fill-color);\n",
       "      border-left-color: var(--fill-color);\n",
       "    }\n",
       "    20% {\n",
       "      border-color: transparent;\n",
       "      border-left-color: var(--fill-color);\n",
       "      border-top-color: var(--fill-color);\n",
       "    }\n",
       "    30% {\n",
       "      border-color: transparent;\n",
       "      border-left-color: var(--fill-color);\n",
       "      border-top-color: var(--fill-color);\n",
       "      border-right-color: var(--fill-color);\n",
       "    }\n",
       "    40% {\n",
       "      border-color: transparent;\n",
       "      border-right-color: var(--fill-color);\n",
       "      border-top-color: var(--fill-color);\n",
       "    }\n",
       "    60% {\n",
       "      border-color: transparent;\n",
       "      border-right-color: var(--fill-color);\n",
       "    }\n",
       "    80% {\n",
       "      border-color: transparent;\n",
       "      border-right-color: var(--fill-color);\n",
       "      border-bottom-color: var(--fill-color);\n",
       "    }\n",
       "    90% {\n",
       "      border-color: transparent;\n",
       "      border-bottom-color: var(--fill-color);\n",
       "    }\n",
       "  }\n",
       "</style>\n",
       "\n",
       "  <script>\n",
       "    async function quickchart(key) {\n",
       "      const quickchartButtonEl =\n",
       "        document.querySelector('#' + key + ' button');\n",
       "      quickchartButtonEl.disabled = true;  // To prevent multiple clicks.\n",
       "      quickchartButtonEl.classList.add('colab-df-spinner');\n",
       "      try {\n",
       "        const charts = await google.colab.kernel.invokeFunction(\n",
       "            'suggestCharts', [key], {});\n",
       "      } catch (error) {\n",
       "        console.error('Error during call to suggestCharts:', error);\n",
       "      }\n",
       "      quickchartButtonEl.classList.remove('colab-df-spinner');\n",
       "      quickchartButtonEl.classList.add('colab-df-quickchart-complete');\n",
       "    }\n",
       "    (() => {\n",
       "      let quickchartButtonEl =\n",
       "        document.querySelector('#df-3e07e63d-1db0-4f76-b854-f301e14cc07a button');\n",
       "      quickchartButtonEl.style.display =\n",
       "        google.colab.kernel.accessAllowed ? 'block' : 'none';\n",
       "    })();\n",
       "  </script>\n",
       "</div>\n",
       "\n",
       "  <div id=\"id_be8c7256-99a6-44b0-81e4-baf131802e38\">\n",
       "    <style>\n",
       "      .colab-df-generate {\n",
       "        background-color: #E8F0FE;\n",
       "        border: none;\n",
       "        border-radius: 50%;\n",
       "        cursor: pointer;\n",
       "        display: none;\n",
       "        fill: #1967D2;\n",
       "        height: 32px;\n",
       "        padding: 0 0 0 0;\n",
       "        width: 32px;\n",
       "      }\n",
       "\n",
       "      .colab-df-generate:hover {\n",
       "        background-color: #E2EBFA;\n",
       "        box-shadow: 0px 1px 2px rgba(60, 64, 67, 0.3), 0px 1px 3px 1px rgba(60, 64, 67, 0.15);\n",
       "        fill: #174EA6;\n",
       "      }\n",
       "\n",
       "      [theme=dark] .colab-df-generate {\n",
       "        background-color: #3B4455;\n",
       "        fill: #D2E3FC;\n",
       "      }\n",
       "\n",
       "      [theme=dark] .colab-df-generate:hover {\n",
       "        background-color: #434B5C;\n",
       "        box-shadow: 0px 1px 3px 1px rgba(0, 0, 0, 0.15);\n",
       "        filter: drop-shadow(0px 1px 2px rgba(0, 0, 0, 0.3));\n",
       "        fill: #FFFFFF;\n",
       "      }\n",
       "    </style>\n",
       "    <button class=\"colab-df-generate\" onclick=\"generateWithVariable('results_df')\"\n",
       "            title=\"Generate code using this dataframe.\"\n",
       "            style=\"display:none;\">\n",
       "\n",
       "  <svg xmlns=\"http://www.w3.org/2000/svg\" height=\"24px\"viewBox=\"0 0 24 24\"\n",
       "       width=\"24px\">\n",
       "    <path d=\"M7,19H8.4L18.45,9,17,7.55,7,17.6ZM5,21V16.75L18.45,3.32a2,2,0,0,1,2.83,0l1.4,1.43a1.91,1.91,0,0,1,.58,1.4,1.91,1.91,0,0,1-.58,1.4L9.25,21ZM18.45,9,17,7.55Zm-12,3A5.31,5.31,0,0,0,4.9,8.1,5.31,5.31,0,0,0,1,6.5,5.31,5.31,0,0,0,4.9,4.9,5.31,5.31,0,0,0,6.5,1,5.31,5.31,0,0,0,8.1,4.9,5.31,5.31,0,0,0,12,6.5,5.46,5.46,0,0,0,6.5,12Z\"/>\n",
       "  </svg>\n",
       "    </button>\n",
       "    <script>\n",
       "      (() => {\n",
       "      const buttonEl =\n",
       "        document.querySelector('#id_be8c7256-99a6-44b0-81e4-baf131802e38 button.colab-df-generate');\n",
       "      buttonEl.style.display =\n",
       "        google.colab.kernel.accessAllowed ? 'block' : 'none';\n",
       "\n",
       "      buttonEl.onclick = () => {\n",
       "        google.colab.notebook.generateWithVariable('results_df');\n",
       "      }\n",
       "      })();\n",
       "    </script>\n",
       "  </div>\n",
       "\n",
       "    </div>\n",
       "  </div>\n"
      ],
      "text/plain": [
       "             Modelo Error en conjunto de prueba  \\\n",
       "0  Regresión Lineal                1,494,211.78   \n",
       "1   Regresión Ridge                1,479,949.51   \n",
       "2   Regresión Lasso                1,587,018.62   \n",
       "\n",
       "                                        Coeficientes  \n",
       "0  [-0.08532362531650306, -659.3351222005168, 1.6...  \n",
       "1  [-0.06810920506765909, -538.9811929151874, 1.6...  \n",
       "2  [0.0, -0.0, 1.5582172251638242, -0.36407265048...  "
      ]
     },
     "execution_count": 52,
     "metadata": {},
     "output_type": "execute_result"
    }
   ],
   "source": [
    "# Redondear el MSE a 2 decimales\n",
    "mse_values_rounded = [round(mse, 2) for mse in [linear_mse, ridge_mse, lasso_mse]]\n",
    "\n",
    "# Convertir los valores redondeados a formato legible\n",
    "mse_values_readable = [f\"{mse:,.2f}\" for mse in mse_values_rounded]\n",
    "\n",
    "# Crear el DataFrame con el MSE formateado\n",
    "results_df = pd.DataFrame({\n",
    "    'Modelo': ['Regresión Lineal', 'Regresión Ridge', 'Regresión Lasso'],\n",
    "    'Error en conjunto de prueba': mse_values_readable,\n",
    "    'Coeficientes': [linear_model.coef_, ridge_model.coef_, lasso_model.coef_]\n",
    "})\n",
    "results_df"
   ]
  },
  {
   "cell_type": "markdown",
   "id": "-huoYq2rr_hO",
   "metadata": {
    "id": "-huoYq2rr_hO"
   },
   "source": [
    "En base al MSE, escogeremos el modelo Ridge ya que es el de menor MSE."
   ]
  },
  {
   "cell_type": "markdown",
   "id": "pGCW1FoysDIG",
   "metadata": {
    "id": "pGCW1FoysDIG"
   },
   "source": [
    "Pregunta 05"
   ]
  },
  {
   "cell_type": "code",
   "execution_count": 62,
   "id": "Azmz1GACsGWe",
   "metadata": {
    "id": "Azmz1GACsGWe"
   },
   "outputs": [],
   "source": [
    "import pandas as pd\n",
    "from sklearn.model_selection import train_test_split\n",
    "from sklearn.preprocessing import StandardScaler\n",
    "from sklearn.linear_model import Ridge, Lasso\n",
    "from sklearn.metrics import mean_squared_error\n",
    "import matplotlib.pyplot as plt\n",
    "\n",
    "from sklearn.preprocessing import OneHotEncoder\n"
   ]
  },
  {
   "cell_type": "code",
   "execution_count": 63,
   "id": "i10sgV_asJaV",
   "metadata": {
    "colab": {
     "base_uri": "https://localhost:8080/"
    },
    "id": "i10sgV_asJaV",
    "outputId": "73823dcf-8821-478a-cef2-86c1a2cd00df"
   },
   "outputs": [
    {
     "name": "stdout",
     "output_type": "stream",
     "text": [
      "   Unnamed: 0  Sales  CompPrice  Income  Advertising  Population  Price  \\\n",
      "0           0   9.50        138      73           11         276    120   \n",
      "1           1  11.22        111      48           16         260     83   \n",
      "2           2  10.06        113      35           10         269     80   \n",
      "3           3   7.40        117     100            4         466     97   \n",
      "4           4   4.15        141      64            3         340    128   \n",
      "\n",
      "  ShelveLoc  Age  Education Urban   US  \n",
      "0       Bad   42         17   Yes  Yes  \n",
      "1      Good   65         10   Yes  Yes  \n",
      "2    Medium   59         12   Yes  Yes  \n",
      "3    Medium   55         14   Yes  Yes  \n",
      "4       Bad   38         13   Yes   No  \n"
     ]
    }
   ],
   "source": [
    "# Get data\n",
    "url = \"https://raw.githubusercontent.com/qlabpucp/datasets/main/datasets/carseats.csv\"\n",
    "df = pd.read_csv(url)\n",
    "print(df.head())"
   ]
  },
  {
   "cell_type": "markdown",
   "id": "ikZBGqKWsNld",
   "metadata": {
    "id": "ikZBGqKWsNld"
   },
   "source": [
    "a) Implemente los modelos de regularización explorados: Ridge y Lasso. Presente y discuta los resultados"
   ]
  },
  {
   "cell_type": "code",
   "execution_count": 64,
   "id": "oGX_XR7PsQyt",
   "metadata": {
    "id": "oGX_XR7PsQyt"
   },
   "outputs": [],
   "source": [
    "# transform some variables\n",
    "df = pd.get_dummies(df, columns=['ShelveLoc'])\n",
    "\n",
    "df['US'] = df['US'].map({'Yes': 1, 'No': 0})\n",
    "df['Urban'] = df['Urban'].map({'Yes': 1, 'No': 0})\n",
    "\n",
    "df = df.drop('Unnamed: 0', axis=1)\n"
   ]
  },
  {
   "cell_type": "code",
   "execution_count": 65,
   "id": "CRv3eGSasT6u",
   "metadata": {
    "colab": {
     "base_uri": "https://localhost:8080/"
    },
    "id": "CRv3eGSasT6u",
    "outputId": "a720817f-cdf3-4710-c632-e5f7aaa3a8a4"
   },
   "outputs": [
    {
     "name": "stdout",
     "output_type": "stream",
     "text": [
      "Error cuadrático medio (Ridge): 1.096888203553852\n",
      "Error cuadrático medio (Lasso): 8.5086725181575\n"
     ]
    }
   ],
   "source": [
    "# Set X y\n",
    "X = df.drop('Sales',  axis=1)\n",
    "y = df['Sales']\n",
    "\n",
    "# Divide train and test\n",
    "X_train, X_test, y_train, y_test = train_test_split(X, y, test_size=0.2, random_state=42)\n",
    "\n",
    "# Ridge y Lasso\n",
    "scaler = StandardScaler()\n",
    "X_train_scaled = scaler.fit_transform(X_train)\n",
    "X_test_scaled = scaler.transform(X_test)\n",
    "\n",
    "# Train Ridge\n",
    "ridge_model = Ridge(alpha=1.0)  \n",
    "ridge_model.fit(X_train_scaled, y_train)\n",
    "\n",
    "# Train Lasso\n",
    "lasso_model = Lasso(alpha=1.0)  \n",
    "lasso_model.fit(X_train_scaled, y_train)\n",
    "\n",
    "# Predict\n",
    "ridge_pred = ridge_model.predict(X_test_scaled)\n",
    "lasso_pred = lasso_model.predict(X_test_scaled)\n",
    "\n",
    "# MSE\n",
    "ridge_mse = mean_squared_error(y_test, ridge_pred)\n",
    "lasso_mse = mean_squared_error(y_test, lasso_pred)\n",
    "\n",
    "print(\"Error cuadrático medio (Ridge):\", ridge_mse)\n",
    "print(\"Error cuadrático medio (Lasso):\", lasso_mse)\n"
   ]
  },
  {
   "cell_type": "code",
   "execution_count": 66,
   "id": "F-JpMKPSsXjf",
   "metadata": {
    "colab": {
     "base_uri": "https://localhost:8080/",
     "height": 563
    },
    "id": "F-JpMKPSsXjf",
    "outputId": "cbbad4bb-8dcb-4836-8239-36b8b5ccae65"
   },
   "outputs": [
    {
     "data": {
      "image/png": "[encoded data removed]",
      "text/plain": [
       "<Figure size 1200x600 with 1 Axes>"
      ]
     },
     "metadata": {},
     "output_type": "display_data"
    }
   ],
   "source": [
    "# Extract coefficients and feature names\n",
    "ridge_coefficients = ridge_model.coef_\n",
    "lasso_coefficients = lasso_model.coef_\n",
    "feature_names = X.columns\n",
    "\n",
    "# Plotting the coefficients\n",
    "plt.figure(figsize=(12, 6))\n",
    "bar_width = 0.35\n",
    "index = np.arange(len(feature_names))\n",
    "\n",
    "# Bar plot for Ridge coefficients\n",
    "plt.bar(index, ridge_coefficients, bar_width, label='Ridge Coeficientes')\n",
    "\n",
    "# Bar plot for Lasso coefficients\n",
    "plt.bar(index + bar_width, lasso_coefficients, bar_width, label='Lasso Coeficientes')\n",
    "\n",
    "plt.xlabel('Variable')\n",
    "plt.ylabel('Valors del coeficiente')\n",
    "plt.title('Ridge vs Lasso')\n",
    "plt.xticks(index + bar_width / 2, feature_names, rotation=45)\n",
    "plt.legend()\n",
    "plt.tight_layout()\n",
    "plt.show()"
   ]
  },
  {
   "cell_type": "markdown",
   "id": "h2VYB8EgsbF2",
   "metadata": {
    "id": "h2VYB8EgsbF2"
   },
   "source": [
    "En este caso el coeficiente de penalizacion alpha del modelo Lasso ha solo considerado aquellas variables con un coeficiente relevante para el modelo. Notamos que en el modelo ridge, las variables con mayor coefeciente son justamente aquellas incluidas en Lasso. En ambos modelos las variables más importantes son el Precio, y si ShelveLoc es Bad o Good"
   ]
  },
  {
   "cell_type": "code",
   "execution_count": 67,
   "id": "2LGExKqFsewP",
   "metadata": {
    "colab": {
     "base_uri": "https://localhost:8080/"
    },
    "id": "2LGExKqFsewP",
    "outputId": "5286ccc3-c663-440b-d154-e0ed429da778"
   },
   "outputs": [
    {
     "name": "stdout",
     "output_type": "stream",
     "text": [
      "Average MSE (Cross-Validation): 1.0732749302226465\n",
      "Average MSE (Ridge, Cross-Validation): 1.0742863247822951\n",
      "Average MSE (Lasso, Cross-Validation): 3.741745263786206\n"
     ]
    }
   ],
   "source": [
    "from sklearn.model_selection import cross_val_score\n",
    "from sklearn.linear_model import LinearRegression\n",
    "\n",
    "# X_train, X_test, y_train, y_test ya están definidos\n",
    "\n",
    "#  Models\n",
    "lr_model = LinearRegression()\n",
    "ridge_model = Ridge(alpha=1.0)\n",
    "lasso_model = Lasso(alpha=1.0)\n",
    "\n",
    "#  cross-validation\n",
    "cv_scores = cross_val_score(lr_model, X_train, y_train, cv=5, scoring='neg_mean_squared_error')\n",
    "ridge_cv_scores = cross_val_score(ridge_model, X_train, y_train, cv=5, scoring='neg_mean_squared_error')\n",
    "lasso_cv_scores = cross_val_score(lasso_model, X_train, y_train, cv=5, scoring='neg_mean_squared_error')\n",
    "\n",
    "# Convert negative MSE to positive for comparison\n",
    "cv_scores = -cv_scores\n",
    "ridge_cv_scores = -ridge_cv_scores\n",
    "lasso_cv_scores = -lasso_cv_scores\n",
    "\n",
    "# Calculate average MSE\n",
    "avg_mse = np.mean(cv_scores)\n",
    "ridge_avg_mse = np.mean(ridge_cv_scores)\n",
    "lasso_avg_mse = np.mean(lasso_cv_scores)\n",
    "\n",
    "print(\"Average MSE (Linear Reg, Cross-Validation):\", avg_mse)\n",
    "print(\"Average MSE (Ridge, Cross-Validation):\", ridge_avg_mse)\n",
    "print(\"Average MSE (Lasso, Cross-Validation):\", lasso_avg_mse)"
   ]
  },
  {
   "cell_type": "code",
   "execution_count": 70,
   "id": "tgSUUytzsjM2",
   "metadata": {
    "colab": {
     "base_uri": "https://localhost:8080/"
    },
    "id": "tgSUUytzsjM2",
    "outputId": "986fcec9-ae37-428c-f219-555310373f9e"
   },
   "outputs": [
    {
     "name": "stdout",
     "output_type": "stream",
     "text": [
      "Best Alpha for Ridge: {'alpha': 0.01}\n",
      "Best MSE for Ridge: 1.073275665714012\n",
      "Best Alpha for Lasso: {'alpha': 0.01}\n",
      "Best MSE for Lasso: 1.0766003895893959\n"
     ]
    }
   ],
   "source": [
    "# Ahora buscamos un parametro Alpha Optimo\n",
    "\n",
    "from sklearn.model_selection import GridSearchCV\n",
    "\n",
    "# Define range of alphas to search\n",
    "param_space = {'alpha': (0.01, 1.0)}\n",
    "\n",
    "# Define alphas\n",
    "alphas = [0.01, 0.1, 0.5, 1.0]\n",
    "\n",
    "# Grid search for Ridge Regression\n",
    "ridge_param_grid = {'alpha': alphas}\n",
    "ridge_grid_search = GridSearchCV(Ridge(), param_space, cv=5, scoring='neg_mean_squared_error')\n",
    "ridge_grid_search.fit(X_train, y_train)\n",
    "\n",
    "print(\"Best Alpha for Ridge:\", ridge_grid_search.best_params_)\n",
    "print(\"Best MSE for Ridge:\", -ridge_grid_search.best_score_)\n",
    "\n",
    "# Grid search for Lasso Regression\n",
    "lasso_param_grid = {'alpha': alphas}\n",
    "lasso_grid_search = GridSearchCV(Lasso(), param_space, cv=5, scoring='neg_mean_squared_error')\n",
    "lasso_grid_search.fit(X_train, y_train)\n",
    "\n",
    "print(\"Best Alpha for Lasso:\", lasso_grid_search.best_params_)\n",
    "print(\"Best MSE for Lasso:\", -lasso_grid_search.best_score_)"
   ]
  },
  {
   "cell_type": "markdown",
   "id": "-nqQv_VbuXYx",
   "metadata": {
    "id": "-nqQv_VbuXYx"
   },
   "source": [
    "La optimizacion nos indica que el alpha optimo es muy cercano a cero. Esto nos dice que la penalizacion debe ser minima. El promedio de los MSE en Ridge, Lasso y Regresion Lineal son similares. Dado que el parametro de penalizacion es cercano a cero este no excluye variables y se aproxima a un modelo de regression lineal. Se observo que el modelo de regresion linea tiene una MSE similar al Ridge y Lasso cuando estos tienen alphas bajos."
   ]
  }
 ],
 "metadata": {
  "colab": {
   "provenance": []
  },
  "kernelspec": {
   "display_name": "Python 3 (ipykernel)",
   "language": "python",
   "name": "python3"
  },
  "language_info": {
   "codemirror_mode": {
    "name": "ipython",
    "version": 3
   },
   "file_extension": ".py",
   "mimetype": "text/x-python",
   "name": "python",
   "nbconvert_exporter": "python",
   "pygments_lexer": "ipython3",
   "version": "3.9.18"
  }
 },
 "nbformat": 4,
 "nbformat_minor": 5
}
